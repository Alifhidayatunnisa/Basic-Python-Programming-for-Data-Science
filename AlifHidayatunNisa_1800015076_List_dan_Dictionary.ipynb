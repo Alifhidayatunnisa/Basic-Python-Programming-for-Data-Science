{
  "nbformat": 4,
  "nbformat_minor": 0,
  "metadata": {
    "colab": {
      "name": "AlifHidayatunNisa_1800015076_List_dan_Dictionary.ipynb",
      "provenance": [],
      "include_colab_link": true
    },
    "kernelspec": {
      "name": "python3",
      "display_name": "Python 3"
    },
    "language_info": {
      "name": "python"
    }
  },
  "cells": [
    {
      "cell_type": "markdown",
      "metadata": {
        "id": "view-in-github",
        "colab_type": "text"
      },
      "source": [
        "<a href=\"https://colab.research.google.com/github/Alifhidayatunnisa/Basic-Python-Programming-for-Data-Science/blob/main/AlifHidayatunNisa_1800015076_List_dan_Dictionary.ipynb\" target=\"_parent\"><img src=\"https://colab.research.google.com/assets/colab-badge.svg\" alt=\"Open In Colab\"/></a>"
      ]
    },
    {
      "cell_type": "markdown",
      "metadata": {
        "id": "kMd1Q9NB1BqH"
      },
      "source": [
        "1. Buatlah sebuah list dengan elemen bilangan kelipatan 5 dengan panjang elemen sejumlah 100"
      ]
    },
    {
      "cell_type": "code",
      "metadata": {
        "id": "ogBU6p9j0yXf",
        "colab": {
          "base_uri": "https://localhost:8080/"
        },
        "outputId": "c8509fd1-7f1e-40f9-817f-f69ef42bc772"
      },
      "source": [
        "#Tuliskan kodemu di bawah ini:\n",
        "\n",
        "x = []\n",
        "for y in range(1,101):\n",
        "  x.append(y*5)\n",
        "print(x)"
      ],
      "execution_count": null,
      "outputs": [
        {
          "output_type": "stream",
          "text": [
            "[5, 10, 15, 20, 25, 30, 35, 40, 45, 50, 55, 60, 65, 70, 75, 80, 85, 90, 95, 100, 105, 110, 115, 120, 125, 130, 135, 140, 145, 150, 155, 160, 165, 170, 175, 180, 185, 190, 195, 200, 205, 210, 215, 220, 225, 230, 235, 240, 245, 250, 255, 260, 265, 270, 275, 280, 285, 290, 295, 300, 305, 310, 315, 320, 325, 330, 335, 340, 345, 350, 355, 360, 365, 370, 375, 380, 385, 390, 395, 400, 405, 410, 415, 420, 425, 430, 435, 440, 445, 450, 455, 460, 465, 470, 475, 480, 485, 490, 495, 500]\n"
          ],
          "name": "stdout"
        }
      ]
    },
    {
      "cell_type": "markdown",
      "metadata": {
        "id": "OHyMAfrd1SL3"
      },
      "source": [
        "2. Buatlah sebuah dictionary dengan jumlah elemen 100 dan lakukanlah beberapa modifikasi(minimal 3) di dalamnya."
      ]
    },
    {
      "cell_type": "code",
      "metadata": {
        "id": "b40H0S8J1lD9",
        "colab": {
          "base_uri": "https://localhost:8080/"
        },
        "outputId": "9b17f147-ee2b-43d2-ba04-b6943685bebe"
      },
      "source": [
        "#Tuliskan kodemu di bawah ini:\n",
        "\n",
        "#Membuat Dictionary\n",
        "a = []\n",
        "b = []\n",
        "for h in range (1,101):\n",
        "  a.append(h)\n",
        "for i in range (101,1,-1):\n",
        "  b.append(i)\n",
        "dictio = dict(zip(a,b))\n",
        "print(dictio)\n",
        "\n",
        "#Modifikasi 1\n",
        "dictio.pop(3)\n",
        "print(dictio)\n",
        "\n",
        "#Modifikasi 2\n",
        "dictio.clear()\n",
        "print(dictio)\n",
        "\n",
        "#Modifikasi 3\n",
        "dictio.update({39:39})\n",
        "print(dictio)"
      ],
      "execution_count": null,
      "outputs": [
        {
          "output_type": "stream",
          "text": [
            "{1: 101, 2: 100, 3: 99, 4: 98, 5: 97, 6: 96, 7: 95, 8: 94, 9: 93, 10: 92, 11: 91, 12: 90, 13: 89, 14: 88, 15: 87, 16: 86, 17: 85, 18: 84, 19: 83, 20: 82, 21: 81, 22: 80, 23: 79, 24: 78, 25: 77, 26: 76, 27: 75, 28: 74, 29: 73, 30: 72, 31: 71, 32: 70, 33: 69, 34: 68, 35: 67, 36: 66, 37: 65, 38: 64, 39: 63, 40: 62, 41: 61, 42: 60, 43: 59, 44: 58, 45: 57, 46: 56, 47: 55, 48: 54, 49: 53, 50: 52, 51: 51, 52: 50, 53: 49, 54: 48, 55: 47, 56: 46, 57: 45, 58: 44, 59: 43, 60: 42, 61: 41, 62: 40, 63: 39, 64: 38, 65: 37, 66: 36, 67: 35, 68: 34, 69: 33, 70: 32, 71: 31, 72: 30, 73: 29, 74: 28, 75: 27, 76: 26, 77: 25, 78: 24, 79: 23, 80: 22, 81: 21, 82: 20, 83: 19, 84: 18, 85: 17, 86: 16, 87: 15, 88: 14, 89: 13, 90: 12, 91: 11, 92: 10, 93: 9, 94: 8, 95: 7, 96: 6, 97: 5, 98: 4, 99: 3, 100: 2}\n",
            "{1: 101, 2: 100, 4: 98, 5: 97, 6: 96, 7: 95, 8: 94, 9: 93, 10: 92, 11: 91, 12: 90, 13: 89, 14: 88, 15: 87, 16: 86, 17: 85, 18: 84, 19: 83, 20: 82, 21: 81, 22: 80, 23: 79, 24: 78, 25: 77, 26: 76, 27: 75, 28: 74, 29: 73, 30: 72, 31: 71, 32: 70, 33: 69, 34: 68, 35: 67, 36: 66, 37: 65, 38: 64, 39: 63, 40: 62, 41: 61, 42: 60, 43: 59, 44: 58, 45: 57, 46: 56, 47: 55, 48: 54, 49: 53, 50: 52, 51: 51, 52: 50, 53: 49, 54: 48, 55: 47, 56: 46, 57: 45, 58: 44, 59: 43, 60: 42, 61: 41, 62: 40, 63: 39, 64: 38, 65: 37, 66: 36, 67: 35, 68: 34, 69: 33, 70: 32, 71: 31, 72: 30, 73: 29, 74: 28, 75: 27, 76: 26, 77: 25, 78: 24, 79: 23, 80: 22, 81: 21, 82: 20, 83: 19, 84: 18, 85: 17, 86: 16, 87: 15, 88: 14, 89: 13, 90: 12, 91: 11, 92: 10, 93: 9, 94: 8, 95: 7, 96: 6, 97: 5, 98: 4, 99: 3, 100: 2}\n",
            "{}\n",
            "{39: 39}\n"
          ],
          "name": "stdout"
        }
      ]
    }
  ]
}