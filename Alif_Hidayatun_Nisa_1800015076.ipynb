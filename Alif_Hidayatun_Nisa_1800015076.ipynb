{
  "nbformat": 4,
  "nbformat_minor": 0,
  "metadata": {
    "colab": {
      "name": "Alif Hidayatun Nisa_1800015076.ipynb",
      "provenance": [],
      "toc_visible": true,
      "include_colab_link": true
    },
    "kernelspec": {
      "name": "python3",
      "display_name": "Python 3"
    }
  },
  "cells": [
    {
      "cell_type": "markdown",
      "metadata": {
        "id": "view-in-github",
        "colab_type": "text"
      },
      "source": [
        "<a href=\"https://colab.research.google.com/github/Alifhidayatunnisa/Basic-Python-Programming-for-Data-Science/blob/main/Alif_Hidayatun_Nisa_1800015076.ipynb\" target=\"_parent\"><img src=\"https://colab.research.google.com/assets/colab-badge.svg\" alt=\"Open In Colab\"/></a>"
      ]
    },
    {
      "cell_type": "markdown",
      "metadata": {
        "id": "v3K-Wi-eJLw2"
      },
      "source": [
        "#**Geometri Dimensi Dua**"
      ]
    },
    {
      "cell_type": "markdown",
      "metadata": {
        "id": "3CK-cfDHJbmc"
      },
      "source": [
        "## Segitiga\n",
        "\n",
        "Berikut adalah formulasi untuk menghitung **luas** dan *keliling* segitiga :\n",
        "\n",
        "1.   Luas = 0.5 X alas X tinggi\n",
        "2.   Keliling = sisi a + sisi b + sisi c\n",
        "\n",
        "Diketahui :\n",
        "\n",
        "\n",
        "*   a(alas) = 6 cm\n",
        "*   b(tinggi) = 8 cm\n",
        "*   c(miring) = 10 cm"
      ]
    },
    {
      "cell_type": "code",
      "metadata": {
        "colab": {
          "base_uri": "https://localhost:8080/"
        },
        "id": "PUuDp2B7JeFg",
        "outputId": "2f1b5360-aa06-48af-de50-a7cd3ce7563c"
      },
      "source": [
        "a = 6\n",
        "b = 8\n",
        "c = 10\n",
        "Luas = 0.5*a*b\n",
        "print(Luas)\n",
        "Keliling = a+b+c\n",
        "print(Keliling)"
      ],
      "execution_count": null,
      "outputs": [
        {
          "output_type": "stream",
          "text": [
            "24.0\n",
            "24\n"
          ],
          "name": "stdout"
        }
      ]
    },
    {
      "cell_type": "markdown",
      "metadata": {
        "id": "BUmLUhx0JjjV"
      },
      "source": [
        "## Segiempat\n",
        "\n",
        "Berikut adalah formulasi untuk menghitung **luas** dan *keliling* segiempat :\n",
        "\n",
        "1.   Luas = sisi X sisi\n",
        "2.   Keliling = sisi X 4\n",
        "\n",
        "Diketahui : sisi segiempat = 8 cm\n"
      ]
    },
    {
      "cell_type": "code",
      "metadata": {
        "id": "xcrHXyJ6KIAA",
        "colab": {
          "base_uri": "https://localhost:8080/"
        },
        "outputId": "51adfec4-eaa5-4f12-d567-f2797364f1da"
      },
      "source": [
        "sisi = 8\n",
        "Luas = sisi*sisi\n",
        "print(Luas)\n",
        "Keliling = 4*sisi\n",
        "print(Keliling)"
      ],
      "execution_count": null,
      "outputs": [
        {
          "output_type": "stream",
          "text": [
            "64\n",
            "32\n"
          ],
          "name": "stdout"
        }
      ]
    }
  ]
}