{
  "nbformat": 4,
  "nbformat_minor": 0,
  "metadata": {
    "colab": {
      "name": "DataFrame.ipynb",
      "provenance": [],
      "collapsed_sections": [],
      "include_colab_link": true
    },
    "kernelspec": {
      "name": "python3",
      "display_name": "Python 3"
    },
    "language_info": {
      "name": "python"
    }
  },
  "cells": [
    {
      "cell_type": "markdown",
      "metadata": {
        "id": "view-in-github",
        "colab_type": "text"
      },
      "source": [
        "<a href=\"https://colab.research.google.com/github/Alifhidayatunnisa/Basic-Python-Programming-for-Data-Science/blob/main/DataFrame.ipynb\" target=\"_parent\"><img src=\"https://colab.research.google.com/assets/colab-badge.svg\" alt=\"Open In Colab\"/></a>"
      ]
    },
    {
      "cell_type": "markdown",
      "metadata": {
        "id": "FQZy3B_6ritM"
      },
      "source": [
        "## Data Frame Pada Python"
      ]
    },
    {
      "cell_type": "markdown",
      "metadata": {
        "id": "Rka9llpxrgIc"
      },
      "source": [
        "DataFrame berbentuk dua dimensi sebagaimana matriks. DataFrame adalah struktur data yang memungkinkan untuk menyimpan beberapa variabel dengan lebih dari satu tipe data. Data dalam satu variabel yang sama disimpan dalam satu kolom yang dapat diberi nama. DataFrame adalah representasi khusus untuk mengolah data dalam bentuk spreadsheet. Hal ini memungkinkan kita untuk mengimpor file dari ekstensi CSV, XLS, atau lainnya ke dalam Python."
      ]
    },
    {
      "cell_type": "markdown",
      "metadata": {
        "id": "WIx43T6lsjKA"
      },
      "source": [
        "### Mengimpor Library"
      ]
    },
    {
      "cell_type": "code",
      "metadata": {
        "id": "rsfkHrS9sqTl"
      },
      "source": [
        "import pandas as pd\n",
        "import numpy as np"
      ],
      "execution_count": null,
      "outputs": []
    },
    {
      "cell_type": "code",
      "metadata": {
        "id": "YPO3DGeQnCpx"
      },
      "source": [
        "import pandas as pd\n",
        "import numpy as np"
      ],
      "execution_count": 1,
      "outputs": []
    },
    {
      "cell_type": "markdown",
      "metadata": {
        "id": "b_ydxNC2sVU6"
      },
      "source": [
        "### Membuat Data Frame Pada Python"
      ]
    },
    {
      "cell_type": "markdown",
      "metadata": {
        "id": "frRDEIDlsZSG"
      },
      "source": [
        "**Membuat Data Frame dari List**"
      ]
    },
    {
      "cell_type": "code",
      "metadata": {
        "colab": {
          "base_uri": "https://localhost:8080/",
          "height": 263
        },
        "id": "9qG2HuPdq1bV",
        "outputId": "6bd47fb2-0352-4fd1-ee7e-4740a5558756"
      },
      "source": [
        "# Membuat List isian dataframe\n",
        "List1 = ['Jambu', 'Apel', 'Semangka', 'Anggur', 'Ceplukan', 'Saradan', 'Salak']\n",
        "  \n",
        "# Membuat DataFrame\n",
        "df = pd.DataFrame(List1)\n",
        "\n",
        "# Memanggil DataFrame\n",
        "df"
      ],
      "execution_count": null,
      "outputs": [
        {
          "output_type": "execute_result",
          "data": {
            "text/html": [
              "<div>\n",
              "<style scoped>\n",
              "    .dataframe tbody tr th:only-of-type {\n",
              "        vertical-align: middle;\n",
              "    }\n",
              "\n",
              "    .dataframe tbody tr th {\n",
              "        vertical-align: top;\n",
              "    }\n",
              "\n",
              "    .dataframe thead th {\n",
              "        text-align: right;\n",
              "    }\n",
              "</style>\n",
              "<table border=\"1\" class=\"dataframe\">\n",
              "  <thead>\n",
              "    <tr style=\"text-align: right;\">\n",
              "      <th></th>\n",
              "      <th>0</th>\n",
              "    </tr>\n",
              "  </thead>\n",
              "  <tbody>\n",
              "    <tr>\n",
              "      <th>0</th>\n",
              "      <td>Jambu</td>\n",
              "    </tr>\n",
              "    <tr>\n",
              "      <th>1</th>\n",
              "      <td>Apel</td>\n",
              "    </tr>\n",
              "    <tr>\n",
              "      <th>2</th>\n",
              "      <td>Semangka</td>\n",
              "    </tr>\n",
              "    <tr>\n",
              "      <th>3</th>\n",
              "      <td>Anggur</td>\n",
              "    </tr>\n",
              "    <tr>\n",
              "      <th>4</th>\n",
              "      <td>Ceplukan</td>\n",
              "    </tr>\n",
              "    <tr>\n",
              "      <th>5</th>\n",
              "      <td>Saradan</td>\n",
              "    </tr>\n",
              "    <tr>\n",
              "      <th>6</th>\n",
              "      <td>Salak</td>\n",
              "    </tr>\n",
              "  </tbody>\n",
              "</table>\n",
              "</div>"
            ],
            "text/plain": [
              "          0\n",
              "0     Jambu\n",
              "1      Apel\n",
              "2  Semangka\n",
              "3    Anggur\n",
              "4  Ceplukan\n",
              "5   Saradan\n",
              "6     Salak"
            ]
          },
          "metadata": {
            "tags": []
          },
          "execution_count": 123
        }
      ]
    },
    {
      "cell_type": "code",
      "metadata": {
        "colab": {
          "base_uri": "https://localhost:8080/",
          "height": 204
        },
        "id": "jkFMHnaEnMKW",
        "outputId": "38feb251-df92-4443-8277-012fa1ac4a57"
      },
      "source": [
        "List1 = ['Thai Tea Bobba', 'Matcha Bobba Milk', 'Brown Sugar Bobba Milk', 'Choco Bobba Milk', 'Strawberry Bobba Milk']\n",
        "df = pd.DataFrame(List1)\n",
        "df"
      ],
      "execution_count": 2,
      "outputs": [
        {
          "output_type": "execute_result",
          "data": {
            "text/html": [
              "<div>\n",
              "<style scoped>\n",
              "    .dataframe tbody tr th:only-of-type {\n",
              "        vertical-align: middle;\n",
              "    }\n",
              "\n",
              "    .dataframe tbody tr th {\n",
              "        vertical-align: top;\n",
              "    }\n",
              "\n",
              "    .dataframe thead th {\n",
              "        text-align: right;\n",
              "    }\n",
              "</style>\n",
              "<table border=\"1\" class=\"dataframe\">\n",
              "  <thead>\n",
              "    <tr style=\"text-align: right;\">\n",
              "      <th></th>\n",
              "      <th>0</th>\n",
              "    </tr>\n",
              "  </thead>\n",
              "  <tbody>\n",
              "    <tr>\n",
              "      <th>0</th>\n",
              "      <td>Thai Tea Bobba</td>\n",
              "    </tr>\n",
              "    <tr>\n",
              "      <th>1</th>\n",
              "      <td>Matcha Bobba Milk</td>\n",
              "    </tr>\n",
              "    <tr>\n",
              "      <th>2</th>\n",
              "      <td>Brown Sugar Bobba Milk</td>\n",
              "    </tr>\n",
              "    <tr>\n",
              "      <th>3</th>\n",
              "      <td>Choco Bobba Milk</td>\n",
              "    </tr>\n",
              "    <tr>\n",
              "      <th>4</th>\n",
              "      <td>Strawberry Bobba Milk</td>\n",
              "    </tr>\n",
              "  </tbody>\n",
              "</table>\n",
              "</div>"
            ],
            "text/plain": [
              "                        0\n",
              "0          Thai Tea Bobba\n",
              "1       Matcha Bobba Milk\n",
              "2  Brown Sugar Bobba Milk\n",
              "3        Choco Bobba Milk\n",
              "4   Strawberry Bobba Milk"
            ]
          },
          "metadata": {
            "tags": []
          },
          "execution_count": 2
        }
      ]
    },
    {
      "cell_type": "code",
      "metadata": {
        "colab": {
          "base_uri": "https://localhost:8080/",
          "height": 263
        },
        "id": "ep4glDG8tjET",
        "outputId": "9072375c-ecc1-441d-bb37-ada946d01b01"
      },
      "source": [
        "# Membuat List isian DataFrame\n",
        "List1 =  ['Jambu', 'Apel', 'Semangka', 'Anggur', 'Ceplukan', 'Saradan', 'Salak']\n",
        "\n",
        "# Membuat DataFrame dengan Indeks dan Nama Kolom Tertentu\n",
        "df = pd.DataFrame(List1,\n",
        "                  index=[\"Satu\", \"Dua\", \"Tiga\", \"Empat\", \"Lima\", \"Enam\", \"Tujuh\"], # Menamai baris\n",
        "                  columns=[\"Nama Buah\"])                                         # Menamai kolom\n",
        "\n",
        "# Memanggil DataFrame\n",
        "df"
      ],
      "execution_count": null,
      "outputs": [
        {
          "output_type": "execute_result",
          "data": {
            "text/html": [
              "<div>\n",
              "<style scoped>\n",
              "    .dataframe tbody tr th:only-of-type {\n",
              "        vertical-align: middle;\n",
              "    }\n",
              "\n",
              "    .dataframe tbody tr th {\n",
              "        vertical-align: top;\n",
              "    }\n",
              "\n",
              "    .dataframe thead th {\n",
              "        text-align: right;\n",
              "    }\n",
              "</style>\n",
              "<table border=\"1\" class=\"dataframe\">\n",
              "  <thead>\n",
              "    <tr style=\"text-align: right;\">\n",
              "      <th></th>\n",
              "      <th>Nama Buah</th>\n",
              "    </tr>\n",
              "  </thead>\n",
              "  <tbody>\n",
              "    <tr>\n",
              "      <th>Satu</th>\n",
              "      <td>Jambu</td>\n",
              "    </tr>\n",
              "    <tr>\n",
              "      <th>Dua</th>\n",
              "      <td>Apel</td>\n",
              "    </tr>\n",
              "    <tr>\n",
              "      <th>Tiga</th>\n",
              "      <td>Semangka</td>\n",
              "    </tr>\n",
              "    <tr>\n",
              "      <th>Empat</th>\n",
              "      <td>Anggur</td>\n",
              "    </tr>\n",
              "    <tr>\n",
              "      <th>Lima</th>\n",
              "      <td>Ceplukan</td>\n",
              "    </tr>\n",
              "    <tr>\n",
              "      <th>Enam</th>\n",
              "      <td>Saradan</td>\n",
              "    </tr>\n",
              "    <tr>\n",
              "      <th>Tujuh</th>\n",
              "      <td>Salak</td>\n",
              "    </tr>\n",
              "  </tbody>\n",
              "</table>\n",
              "</div>"
            ],
            "text/plain": [
              "      Nama Buah\n",
              "Satu      Jambu\n",
              "Dua        Apel\n",
              "Tiga   Semangka\n",
              "Empat    Anggur\n",
              "Lima   Ceplukan\n",
              "Enam    Saradan\n",
              "Tujuh     Salak"
            ]
          },
          "metadata": {
            "tags": []
          },
          "execution_count": 124
        }
      ]
    },
    {
      "cell_type": "code",
      "metadata": {
        "colab": {
          "base_uri": "https://localhost:8080/",
          "height": 204
        },
        "id": "Cgadbb-wzHE7",
        "outputId": "437a1c67-37c7-4bb7-ce5e-fbc39dacc5ff"
      },
      "source": [
        "List1 = ['Thai Tea Bobba', 'Matcha Bobba Milk', 'Brown Sugar Bobba Milk', 'Choco Bobba Milk', 'Strawberry Bobba Milk']\n",
        "df = pd.DataFrame(List1,\n",
        "                  index=[\"Satu\", \"Dua\", \"Tiga\", \"Empat\", \"Lima\"],\n",
        "                  columns=[\"Menu\"])\n",
        "df"
      ],
      "execution_count": 3,
      "outputs": [
        {
          "output_type": "execute_result",
          "data": {
            "text/html": [
              "<div>\n",
              "<style scoped>\n",
              "    .dataframe tbody tr th:only-of-type {\n",
              "        vertical-align: middle;\n",
              "    }\n",
              "\n",
              "    .dataframe tbody tr th {\n",
              "        vertical-align: top;\n",
              "    }\n",
              "\n",
              "    .dataframe thead th {\n",
              "        text-align: right;\n",
              "    }\n",
              "</style>\n",
              "<table border=\"1\" class=\"dataframe\">\n",
              "  <thead>\n",
              "    <tr style=\"text-align: right;\">\n",
              "      <th></th>\n",
              "      <th>Menu</th>\n",
              "    </tr>\n",
              "  </thead>\n",
              "  <tbody>\n",
              "    <tr>\n",
              "      <th>Satu</th>\n",
              "      <td>Thai Tea Bobba</td>\n",
              "    </tr>\n",
              "    <tr>\n",
              "      <th>Dua</th>\n",
              "      <td>Matcha Bobba Milk</td>\n",
              "    </tr>\n",
              "    <tr>\n",
              "      <th>Tiga</th>\n",
              "      <td>Brown Sugar Bobba Milk</td>\n",
              "    </tr>\n",
              "    <tr>\n",
              "      <th>Empat</th>\n",
              "      <td>Choco Bobba Milk</td>\n",
              "    </tr>\n",
              "    <tr>\n",
              "      <th>Lima</th>\n",
              "      <td>Strawberry Bobba Milk</td>\n",
              "    </tr>\n",
              "  </tbody>\n",
              "</table>\n",
              "</div>"
            ],
            "text/plain": [
              "                         Menu\n",
              "Satu           Thai Tea Bobba\n",
              "Dua         Matcha Bobba Milk\n",
              "Tiga   Brown Sugar Bobba Milk\n",
              "Empat        Choco Bobba Milk\n",
              "Lima    Strawberry Bobba Milk"
            ]
          },
          "metadata": {
            "tags": []
          },
          "execution_count": 3
        }
      ]
    },
    {
      "cell_type": "code",
      "metadata": {
        "colab": {
          "base_uri": "https://localhost:8080/",
          "height": 263
        },
        "id": "wd7dvzxjuc_h",
        "outputId": "6e3cff68-2065-4afa-f1b1-b9ea63d956c1"
      },
      "source": [
        "# Membuat List isian DataFrame\n",
        "List1 = ['Jambu', 'Apel', 'Semangka', 'Anggur', 'Ceplukan', 'Saradan', 'Salak']\n",
        "List2 = [3000, 5000, 5000, 7000, 2500, 8000, 4000]\n",
        "\n",
        "# Membuat DataFrame dengan Indeks dan Nama Kolom Tertentu\n",
        "df = pd.DataFrame(list(zip(List1, List2)),\n",
        "                  columns=[\"Nama Buah\", \"Harga Per Kg\"])  # Menamai Kolom\n",
        "                  \n",
        "#Memanggil DataFrame\n",
        "df"
      ],
      "execution_count": null,
      "outputs": [
        {
          "output_type": "execute_result",
          "data": {
            "text/html": [
              "<div>\n",
              "<style scoped>\n",
              "    .dataframe tbody tr th:only-of-type {\n",
              "        vertical-align: middle;\n",
              "    }\n",
              "\n",
              "    .dataframe tbody tr th {\n",
              "        vertical-align: top;\n",
              "    }\n",
              "\n",
              "    .dataframe thead th {\n",
              "        text-align: right;\n",
              "    }\n",
              "</style>\n",
              "<table border=\"1\" class=\"dataframe\">\n",
              "  <thead>\n",
              "    <tr style=\"text-align: right;\">\n",
              "      <th></th>\n",
              "      <th>Nama Buah</th>\n",
              "      <th>Harga Per Kg</th>\n",
              "    </tr>\n",
              "  </thead>\n",
              "  <tbody>\n",
              "    <tr>\n",
              "      <th>0</th>\n",
              "      <td>Jambu</td>\n",
              "      <td>3000</td>\n",
              "    </tr>\n",
              "    <tr>\n",
              "      <th>1</th>\n",
              "      <td>Apel</td>\n",
              "      <td>5000</td>\n",
              "    </tr>\n",
              "    <tr>\n",
              "      <th>2</th>\n",
              "      <td>Semangka</td>\n",
              "      <td>5000</td>\n",
              "    </tr>\n",
              "    <tr>\n",
              "      <th>3</th>\n",
              "      <td>Anggur</td>\n",
              "      <td>7000</td>\n",
              "    </tr>\n",
              "    <tr>\n",
              "      <th>4</th>\n",
              "      <td>Ceplukan</td>\n",
              "      <td>2500</td>\n",
              "    </tr>\n",
              "    <tr>\n",
              "      <th>5</th>\n",
              "      <td>Saradan</td>\n",
              "      <td>8000</td>\n",
              "    </tr>\n",
              "    <tr>\n",
              "      <th>6</th>\n",
              "      <td>Salak</td>\n",
              "      <td>4000</td>\n",
              "    </tr>\n",
              "  </tbody>\n",
              "</table>\n",
              "</div>"
            ],
            "text/plain": [
              "  Nama Buah  Harga Per Kg\n",
              "0     Jambu          3000\n",
              "1      Apel          5000\n",
              "2  Semangka          5000\n",
              "3    Anggur          7000\n",
              "4  Ceplukan          2500\n",
              "5   Saradan          8000\n",
              "6     Salak          4000"
            ]
          },
          "metadata": {
            "tags": []
          },
          "execution_count": 125
        }
      ]
    },
    {
      "cell_type": "code",
      "metadata": {
        "colab": {
          "base_uri": "https://localhost:8080/",
          "height": 204
        },
        "id": "W7fRl85JzgOX",
        "outputId": "12038106-3929-4af6-b9c3-90d2f5b2a6fb"
      },
      "source": [
        "List1 = ['Thai Tea Bobba', 'Matcha Bobba Milk', 'Brown Sugar Bobba Milk', 'Choco Bobba Milk', 'Strawberry Bobba Milk']\n",
        "List2 = [10000, 12000, 11000, 13000, 12000]\n",
        "df = pd.DataFrame(list(zip(List1, List2)),\n",
        "                  columns=[\"Menu\", \"Harga\"])\n",
        "df"
      ],
      "execution_count": 4,
      "outputs": [
        {
          "output_type": "execute_result",
          "data": {
            "text/html": [
              "<div>\n",
              "<style scoped>\n",
              "    .dataframe tbody tr th:only-of-type {\n",
              "        vertical-align: middle;\n",
              "    }\n",
              "\n",
              "    .dataframe tbody tr th {\n",
              "        vertical-align: top;\n",
              "    }\n",
              "\n",
              "    .dataframe thead th {\n",
              "        text-align: right;\n",
              "    }\n",
              "</style>\n",
              "<table border=\"1\" class=\"dataframe\">\n",
              "  <thead>\n",
              "    <tr style=\"text-align: right;\">\n",
              "      <th></th>\n",
              "      <th>Menu</th>\n",
              "      <th>Harga</th>\n",
              "    </tr>\n",
              "  </thead>\n",
              "  <tbody>\n",
              "    <tr>\n",
              "      <th>0</th>\n",
              "      <td>Thai Tea Bobba</td>\n",
              "      <td>10000</td>\n",
              "    </tr>\n",
              "    <tr>\n",
              "      <th>1</th>\n",
              "      <td>Matcha Bobba Milk</td>\n",
              "      <td>12000</td>\n",
              "    </tr>\n",
              "    <tr>\n",
              "      <th>2</th>\n",
              "      <td>Brown Sugar Bobba Milk</td>\n",
              "      <td>11000</td>\n",
              "    </tr>\n",
              "    <tr>\n",
              "      <th>3</th>\n",
              "      <td>Choco Bobba Milk</td>\n",
              "      <td>13000</td>\n",
              "    </tr>\n",
              "    <tr>\n",
              "      <th>4</th>\n",
              "      <td>Strawberry Bobba Milk</td>\n",
              "      <td>12000</td>\n",
              "    </tr>\n",
              "  </tbody>\n",
              "</table>\n",
              "</div>"
            ],
            "text/plain": [
              "                     Menu  Harga\n",
              "0          Thai Tea Bobba  10000\n",
              "1       Matcha Bobba Milk  12000\n",
              "2  Brown Sugar Bobba Milk  11000\n",
              "3        Choco Bobba Milk  13000\n",
              "4   Strawberry Bobba Milk  12000"
            ]
          },
          "metadata": {
            "tags": []
          },
          "execution_count": 4
        }
      ]
    },
    {
      "cell_type": "code",
      "metadata": {
        "colab": {
          "base_uri": "https://localhost:8080/",
          "height": 171
        },
        "id": "yNI-E1dmv33D",
        "outputId": "01c72d03-e57e-4c46-a0ed-97407ee29083"
      },
      "source": [
        "# Membuat List MultiDimensi     \n",
        "List1 = [['Haikal', 21], ['Indra', 20],\n",
        "       ['Mujhid', 22], ['Satria', 21]]\n",
        "\n",
        "# Membuat Data Frame\n",
        "df = pd.DataFrame(List1, columns =['Nama', 'Umur'])\n",
        "\n",
        "#Memanggil Data Frame\n",
        "df"
      ],
      "execution_count": null,
      "outputs": [
        {
          "output_type": "execute_result",
          "data": {
            "text/html": [
              "<div>\n",
              "<style scoped>\n",
              "    .dataframe tbody tr th:only-of-type {\n",
              "        vertical-align: middle;\n",
              "    }\n",
              "\n",
              "    .dataframe tbody tr th {\n",
              "        vertical-align: top;\n",
              "    }\n",
              "\n",
              "    .dataframe thead th {\n",
              "        text-align: right;\n",
              "    }\n",
              "</style>\n",
              "<table border=\"1\" class=\"dataframe\">\n",
              "  <thead>\n",
              "    <tr style=\"text-align: right;\">\n",
              "      <th></th>\n",
              "      <th>Nama</th>\n",
              "      <th>Umur</th>\n",
              "    </tr>\n",
              "  </thead>\n",
              "  <tbody>\n",
              "    <tr>\n",
              "      <th>0</th>\n",
              "      <td>Haikal</td>\n",
              "      <td>21</td>\n",
              "    </tr>\n",
              "    <tr>\n",
              "      <th>1</th>\n",
              "      <td>Indra</td>\n",
              "      <td>20</td>\n",
              "    </tr>\n",
              "    <tr>\n",
              "      <th>2</th>\n",
              "      <td>Mujhid</td>\n",
              "      <td>22</td>\n",
              "    </tr>\n",
              "    <tr>\n",
              "      <th>3</th>\n",
              "      <td>Satria</td>\n",
              "      <td>21</td>\n",
              "    </tr>\n",
              "  </tbody>\n",
              "</table>\n",
              "</div>"
            ],
            "text/plain": [
              "     Nama  Umur\n",
              "0  Haikal    21\n",
              "1   Indra    20\n",
              "2  Mujhid    22\n",
              "3  Satria    21"
            ]
          },
          "metadata": {
            "tags": []
          },
          "execution_count": 126
        }
      ]
    },
    {
      "cell_type": "code",
      "metadata": {
        "colab": {
          "base_uri": "https://localhost:8080/",
          "height": 204
        },
        "id": "8dR8vfMG0vKB",
        "outputId": "fd87fb2d-d747-4dad-9510-efd39fa181a3"
      },
      "source": [
        "List3 = [['Nisa', 12], ['Keke', 7], ['Nando', 3], ['Bella', 6], ['Zehra', 1]]\n",
        "df = pd.DataFrame(List3, columns = [\"Nama\", \"Kelas\"])\n",
        "df"
      ],
      "execution_count": 5,
      "outputs": [
        {
          "output_type": "execute_result",
          "data": {
            "text/html": [
              "<div>\n",
              "<style scoped>\n",
              "    .dataframe tbody tr th:only-of-type {\n",
              "        vertical-align: middle;\n",
              "    }\n",
              "\n",
              "    .dataframe tbody tr th {\n",
              "        vertical-align: top;\n",
              "    }\n",
              "\n",
              "    .dataframe thead th {\n",
              "        text-align: right;\n",
              "    }\n",
              "</style>\n",
              "<table border=\"1\" class=\"dataframe\">\n",
              "  <thead>\n",
              "    <tr style=\"text-align: right;\">\n",
              "      <th></th>\n",
              "      <th>Nama</th>\n",
              "      <th>Kelas</th>\n",
              "    </tr>\n",
              "  </thead>\n",
              "  <tbody>\n",
              "    <tr>\n",
              "      <th>0</th>\n",
              "      <td>Nisa</td>\n",
              "      <td>12</td>\n",
              "    </tr>\n",
              "    <tr>\n",
              "      <th>1</th>\n",
              "      <td>Keke</td>\n",
              "      <td>7</td>\n",
              "    </tr>\n",
              "    <tr>\n",
              "      <th>2</th>\n",
              "      <td>Nando</td>\n",
              "      <td>3</td>\n",
              "    </tr>\n",
              "    <tr>\n",
              "      <th>3</th>\n",
              "      <td>Bella</td>\n",
              "      <td>6</td>\n",
              "    </tr>\n",
              "    <tr>\n",
              "      <th>4</th>\n",
              "      <td>Zehra</td>\n",
              "      <td>1</td>\n",
              "    </tr>\n",
              "  </tbody>\n",
              "</table>\n",
              "</div>"
            ],
            "text/plain": [
              "    Nama  Kelas\n",
              "0   Nisa     12\n",
              "1   Keke      7\n",
              "2  Nando      3\n",
              "3  Bella      6\n",
              "4  Zehra      1"
            ]
          },
          "metadata": {
            "tags": []
          },
          "execution_count": 5
        }
      ]
    },
    {
      "cell_type": "markdown",
      "metadata": {
        "id": "uTumZrDpxPKt"
      },
      "source": [
        "**Membuat Data Frame dari Dictionary**\n"
      ]
    },
    {
      "cell_type": "code",
      "metadata": {
        "colab": {
          "base_uri": "https://localhost:8080/",
          "height": 171
        },
        "id": "Q5dn7N2BxR0d",
        "outputId": "f1e50c90-9776-44c6-f9ec-2695f9b10952"
      },
      "source": [
        "# Membuat List untuk Dictionary\n",
        "List_Nama    = [\"Tumiyem\", \"Semi\", \"Pairah\", \"Juminem\"]\n",
        "List_Jurusan = [\"Matematika\", \"Akuntansi\", \"Mikrobiologi\", \"Aktuaria\"]\n",
        "List_Nilai   = [90, 40, 80, 98]\n",
        "  \n",
        "# Membuat Dictionary\n",
        "dict1 = {'Nama': List_Nama, 'Juruan': List_Jurusan, 'Nilai': List_Nilai} \n",
        "\n",
        "# Membuat Data Frame\n",
        "df = pd.DataFrame(dict1)\n",
        "\n",
        "# Memanggil Data Frame\n",
        "df"
      ],
      "execution_count": null,
      "outputs": [
        {
          "output_type": "execute_result",
          "data": {
            "text/html": [
              "<div>\n",
              "<style scoped>\n",
              "    .dataframe tbody tr th:only-of-type {\n",
              "        vertical-align: middle;\n",
              "    }\n",
              "\n",
              "    .dataframe tbody tr th {\n",
              "        vertical-align: top;\n",
              "    }\n",
              "\n",
              "    .dataframe thead th {\n",
              "        text-align: right;\n",
              "    }\n",
              "</style>\n",
              "<table border=\"1\" class=\"dataframe\">\n",
              "  <thead>\n",
              "    <tr style=\"text-align: right;\">\n",
              "      <th></th>\n",
              "      <th>Nama</th>\n",
              "      <th>Juruan</th>\n",
              "      <th>Nilai</th>\n",
              "    </tr>\n",
              "  </thead>\n",
              "  <tbody>\n",
              "    <tr>\n",
              "      <th>0</th>\n",
              "      <td>Tumiyem</td>\n",
              "      <td>Matematika</td>\n",
              "      <td>90</td>\n",
              "    </tr>\n",
              "    <tr>\n",
              "      <th>1</th>\n",
              "      <td>Semi</td>\n",
              "      <td>Akuntansi</td>\n",
              "      <td>40</td>\n",
              "    </tr>\n",
              "    <tr>\n",
              "      <th>2</th>\n",
              "      <td>Pairah</td>\n",
              "      <td>Mikrobiologi</td>\n",
              "      <td>80</td>\n",
              "    </tr>\n",
              "    <tr>\n",
              "      <th>3</th>\n",
              "      <td>Juminem</td>\n",
              "      <td>Aktuaria</td>\n",
              "      <td>98</td>\n",
              "    </tr>\n",
              "  </tbody>\n",
              "</table>\n",
              "</div>"
            ],
            "text/plain": [
              "      Nama        Juruan  Nilai\n",
              "0  Tumiyem    Matematika     90\n",
              "1     Semi     Akuntansi     40\n",
              "2   Pairah  Mikrobiologi     80\n",
              "3  Juminem      Aktuaria     98"
            ]
          },
          "metadata": {
            "tags": []
          },
          "execution_count": 127
        }
      ]
    },
    {
      "cell_type": "code",
      "metadata": {
        "colab": {
          "base_uri": "https://localhost:8080/",
          "height": 204
        },
        "id": "W0bifsWo32jH",
        "outputId": "d80e90a8-30c2-45f2-e94f-5b66b35e1e21"
      },
      "source": [
        "List_Nama = [\"IU\", \"Jennie\", \"Irene\", \"Nayeon\", \"Yoona\"]\n",
        "List_Agensi = ['EDAM', 'YG', 'SM', 'JYP', 'SM']\n",
        "List_Umur = [27, 25, 30, 25, 30]\n",
        "dict1 = {'Nama' : List_Nama, 'Agensi' : List_Agensi, 'Umur' : List_Umur}\n",
        "df = pd.DataFrame(dict1)\n",
        "df"
      ],
      "execution_count": 6,
      "outputs": [
        {
          "output_type": "execute_result",
          "data": {
            "text/html": [
              "<div>\n",
              "<style scoped>\n",
              "    .dataframe tbody tr th:only-of-type {\n",
              "        vertical-align: middle;\n",
              "    }\n",
              "\n",
              "    .dataframe tbody tr th {\n",
              "        vertical-align: top;\n",
              "    }\n",
              "\n",
              "    .dataframe thead th {\n",
              "        text-align: right;\n",
              "    }\n",
              "</style>\n",
              "<table border=\"1\" class=\"dataframe\">\n",
              "  <thead>\n",
              "    <tr style=\"text-align: right;\">\n",
              "      <th></th>\n",
              "      <th>Nama</th>\n",
              "      <th>Agensi</th>\n",
              "      <th>Umur</th>\n",
              "    </tr>\n",
              "  </thead>\n",
              "  <tbody>\n",
              "    <tr>\n",
              "      <th>0</th>\n",
              "      <td>IU</td>\n",
              "      <td>EDAM</td>\n",
              "      <td>27</td>\n",
              "    </tr>\n",
              "    <tr>\n",
              "      <th>1</th>\n",
              "      <td>Jennie</td>\n",
              "      <td>YG</td>\n",
              "      <td>25</td>\n",
              "    </tr>\n",
              "    <tr>\n",
              "      <th>2</th>\n",
              "      <td>Irene</td>\n",
              "      <td>SM</td>\n",
              "      <td>30</td>\n",
              "    </tr>\n",
              "    <tr>\n",
              "      <th>3</th>\n",
              "      <td>Nayeon</td>\n",
              "      <td>JYP</td>\n",
              "      <td>25</td>\n",
              "    </tr>\n",
              "    <tr>\n",
              "      <th>4</th>\n",
              "      <td>Yoona</td>\n",
              "      <td>SM</td>\n",
              "      <td>30</td>\n",
              "    </tr>\n",
              "  </tbody>\n",
              "</table>\n",
              "</div>"
            ],
            "text/plain": [
              "     Nama Agensi  Umur\n",
              "0      IU   EDAM    27\n",
              "1  Jennie     YG    25\n",
              "2   Irene     SM    30\n",
              "3  Nayeon    JYP    25\n",
              "4   Yoona     SM    30"
            ]
          },
          "metadata": {
            "tags": []
          },
          "execution_count": 6
        }
      ]
    },
    {
      "cell_type": "markdown",
      "metadata": {
        "id": "XnExr8b-3DTu"
      },
      "source": [
        "### Mengimpor DataFrame Pada Python"
      ]
    },
    {
      "cell_type": "markdown",
      "metadata": {
        "id": "x4QUxPDF3ZRs"
      },
      "source": [
        "**Mengimpor Data Frame dari Format CSV**"
      ]
    },
    {
      "cell_type": "code",
      "metadata": {
        "colab": {
          "base_uri": "https://localhost:8080/",
          "height": 415
        },
        "id": "fxFaXdan3Gsx",
        "outputId": "0fcd3feb-dd34-4678-9aa1-e1d91528eaa5"
      },
      "source": [
        "# Mengimpor Data Frame\n",
        "df = pd.read_csv(\"https://raw.githubusercontent.com/jokoeliyanto/Kelas-Dasar-Pejuang-Data-2.0/main/Super-Store-Dataset.csv\")\n",
        "\n",
        "# Memanggil Data Frame\n",
        "df"
      ],
      "execution_count": null,
      "outputs": [
        {
          "output_type": "execute_result",
          "data": {
            "text/html": [
              "<div>\n",
              "<style scoped>\n",
              "    .dataframe tbody tr th:only-of-type {\n",
              "        vertical-align: middle;\n",
              "    }\n",
              "\n",
              "    .dataframe tbody tr th {\n",
              "        vertical-align: top;\n",
              "    }\n",
              "\n",
              "    .dataframe thead th {\n",
              "        text-align: right;\n",
              "    }\n",
              "</style>\n",
              "<table border=\"1\" class=\"dataframe\">\n",
              "  <thead>\n",
              "    <tr style=\"text-align: right;\">\n",
              "      <th></th>\n",
              "      <th>order_id</th>\n",
              "      <th>order_date</th>\n",
              "      <th>customer_id</th>\n",
              "      <th>segment</th>\n",
              "      <th>category</th>\n",
              "      <th>sub_category</th>\n",
              "      <th>sales</th>\n",
              "      <th>quantity</th>\n",
              "      <th>profit</th>\n",
              "    </tr>\n",
              "  </thead>\n",
              "  <tbody>\n",
              "    <tr>\n",
              "      <th>0</th>\n",
              "      <td>CA-2016-152156</td>\n",
              "      <td>11/8/2016</td>\n",
              "      <td>CG-12520</td>\n",
              "      <td>Consumer</td>\n",
              "      <td>Furniture</td>\n",
              "      <td>Bookcases</td>\n",
              "      <td>261.9600</td>\n",
              "      <td>2</td>\n",
              "      <td>41.9136</td>\n",
              "    </tr>\n",
              "    <tr>\n",
              "      <th>1</th>\n",
              "      <td>CA-2016-152156</td>\n",
              "      <td>11/8/2016</td>\n",
              "      <td>CG-12520</td>\n",
              "      <td>Consumer</td>\n",
              "      <td>Furniture</td>\n",
              "      <td>Chairs</td>\n",
              "      <td>731.9400</td>\n",
              "      <td>3</td>\n",
              "      <td>219.5820</td>\n",
              "    </tr>\n",
              "    <tr>\n",
              "      <th>2</th>\n",
              "      <td>CA-2016-138688</td>\n",
              "      <td>6/12/2016</td>\n",
              "      <td>DV-13045</td>\n",
              "      <td>Corporate</td>\n",
              "      <td>Office Supplies</td>\n",
              "      <td>Labels</td>\n",
              "      <td>14.6200</td>\n",
              "      <td>2</td>\n",
              "      <td>6.8714</td>\n",
              "    </tr>\n",
              "    <tr>\n",
              "      <th>3</th>\n",
              "      <td>US-2015-108966</td>\n",
              "      <td>10/11/2015</td>\n",
              "      <td>SO-20335</td>\n",
              "      <td>Consumer</td>\n",
              "      <td>Furniture</td>\n",
              "      <td>Tables</td>\n",
              "      <td>957.5775</td>\n",
              "      <td>5</td>\n",
              "      <td>-383.0310</td>\n",
              "    </tr>\n",
              "    <tr>\n",
              "      <th>4</th>\n",
              "      <td>US-2015-108966</td>\n",
              "      <td>10/11/2015</td>\n",
              "      <td>SO-20335</td>\n",
              "      <td>Consumer</td>\n",
              "      <td>Office Supplies</td>\n",
              "      <td>Storage</td>\n",
              "      <td>22.3680</td>\n",
              "      <td>2</td>\n",
              "      <td>2.5164</td>\n",
              "    </tr>\n",
              "    <tr>\n",
              "      <th>...</th>\n",
              "      <td>...</td>\n",
              "      <td>...</td>\n",
              "      <td>...</td>\n",
              "      <td>...</td>\n",
              "      <td>...</td>\n",
              "      <td>...</td>\n",
              "      <td>...</td>\n",
              "      <td>...</td>\n",
              "      <td>...</td>\n",
              "    </tr>\n",
              "    <tr>\n",
              "      <th>9983</th>\n",
              "      <td>CA-2014-110422</td>\n",
              "      <td>1/21/2014</td>\n",
              "      <td>TB-21400</td>\n",
              "      <td>Consumer</td>\n",
              "      <td>Furniture</td>\n",
              "      <td>Furnishings</td>\n",
              "      <td>25.2480</td>\n",
              "      <td>3</td>\n",
              "      <td>4.1028</td>\n",
              "    </tr>\n",
              "    <tr>\n",
              "      <th>9984</th>\n",
              "      <td>CA-2017-121258</td>\n",
              "      <td>2/26/2017</td>\n",
              "      <td>DB-13060</td>\n",
              "      <td>Consumer</td>\n",
              "      <td>Furniture</td>\n",
              "      <td>Furnishings</td>\n",
              "      <td>91.9600</td>\n",
              "      <td>2</td>\n",
              "      <td>15.6332</td>\n",
              "    </tr>\n",
              "    <tr>\n",
              "      <th>9985</th>\n",
              "      <td>CA-2017-121258</td>\n",
              "      <td>2/26/2017</td>\n",
              "      <td>DB-13060</td>\n",
              "      <td>Consumer</td>\n",
              "      <td>Technology</td>\n",
              "      <td>Phones</td>\n",
              "      <td>258.5760</td>\n",
              "      <td>2</td>\n",
              "      <td>19.3932</td>\n",
              "    </tr>\n",
              "    <tr>\n",
              "      <th>9986</th>\n",
              "      <td>CA-2017-121258</td>\n",
              "      <td>2/26/2017</td>\n",
              "      <td>DB-13060</td>\n",
              "      <td>Consumer</td>\n",
              "      <td>Office Supplies</td>\n",
              "      <td>Paper</td>\n",
              "      <td>29.6000</td>\n",
              "      <td>4</td>\n",
              "      <td>13.3200</td>\n",
              "    </tr>\n",
              "    <tr>\n",
              "      <th>9987</th>\n",
              "      <td>CA-2017-119914</td>\n",
              "      <td>5/4/2017</td>\n",
              "      <td>CC-12220</td>\n",
              "      <td>Consumer</td>\n",
              "      <td>Office Supplies</td>\n",
              "      <td>Appliances</td>\n",
              "      <td>243.1600</td>\n",
              "      <td>2</td>\n",
              "      <td>72.9480</td>\n",
              "    </tr>\n",
              "  </tbody>\n",
              "</table>\n",
              "<p>9988 rows × 9 columns</p>\n",
              "</div>"
            ],
            "text/plain": [
              "            order_id  order_date customer_id  ...     sales quantity    profit\n",
              "0     CA-2016-152156   11/8/2016    CG-12520  ...  261.9600        2   41.9136\n",
              "1     CA-2016-152156   11/8/2016    CG-12520  ...  731.9400        3  219.5820\n",
              "2     CA-2016-138688   6/12/2016    DV-13045  ...   14.6200        2    6.8714\n",
              "3     US-2015-108966  10/11/2015    SO-20335  ...  957.5775        5 -383.0310\n",
              "4     US-2015-108966  10/11/2015    SO-20335  ...   22.3680        2    2.5164\n",
              "...              ...         ...         ...  ...       ...      ...       ...\n",
              "9983  CA-2014-110422   1/21/2014    TB-21400  ...   25.2480        3    4.1028\n",
              "9984  CA-2017-121258   2/26/2017    DB-13060  ...   91.9600        2   15.6332\n",
              "9985  CA-2017-121258   2/26/2017    DB-13060  ...  258.5760        2   19.3932\n",
              "9986  CA-2017-121258   2/26/2017    DB-13060  ...   29.6000        4   13.3200\n",
              "9987  CA-2017-119914    5/4/2017    CC-12220  ...  243.1600        2   72.9480\n",
              "\n",
              "[9988 rows x 9 columns]"
            ]
          },
          "metadata": {
            "tags": []
          },
          "execution_count": 128
        }
      ]
    },
    {
      "cell_type": "code",
      "metadata": {
        "colab": {
          "base_uri": "https://localhost:8080/",
          "height": 419
        },
        "id": "N07q0Q67WOuE",
        "outputId": "288bebf0-dab7-4e03-dc91-3ac41809653d"
      },
      "source": [
        "df = pd.read_csv(\"https://raw.githubusercontent.com/Alifhidayatunnisa/Basic-Python-Programming-for-Data-Science/main/Super%20Store%20Dataset.csv\")\n",
        "df"
      ],
      "execution_count": 11,
      "outputs": [
        {
          "output_type": "execute_result",
          "data": {
            "text/html": [
              "<div>\n",
              "<style scoped>\n",
              "    .dataframe tbody tr th:only-of-type {\n",
              "        vertical-align: middle;\n",
              "    }\n",
              "\n",
              "    .dataframe tbody tr th {\n",
              "        vertical-align: top;\n",
              "    }\n",
              "\n",
              "    .dataframe thead th {\n",
              "        text-align: right;\n",
              "    }\n",
              "</style>\n",
              "<table border=\"1\" class=\"dataframe\">\n",
              "  <thead>\n",
              "    <tr style=\"text-align: right;\">\n",
              "      <th></th>\n",
              "      <th>order_id</th>\n",
              "      <th>order_date</th>\n",
              "      <th>customer_id</th>\n",
              "      <th>segment</th>\n",
              "      <th>category</th>\n",
              "      <th>sub_category</th>\n",
              "      <th>sales</th>\n",
              "      <th>quantity</th>\n",
              "      <th>profit</th>\n",
              "    </tr>\n",
              "  </thead>\n",
              "  <tbody>\n",
              "    <tr>\n",
              "      <th>0</th>\n",
              "      <td>CA-2016-152156</td>\n",
              "      <td>11/8/2016</td>\n",
              "      <td>CG-12520</td>\n",
              "      <td>Consumer</td>\n",
              "      <td>Furniture</td>\n",
              "      <td>Bookcases</td>\n",
              "      <td>26196</td>\n",
              "      <td>2</td>\n",
              "      <td>419136</td>\n",
              "    </tr>\n",
              "    <tr>\n",
              "      <th>1</th>\n",
              "      <td>CA-2016-152156</td>\n",
              "      <td>11/8/2016</td>\n",
              "      <td>CG-12520</td>\n",
              "      <td>Consumer</td>\n",
              "      <td>Furniture</td>\n",
              "      <td>Chairs</td>\n",
              "      <td>73194</td>\n",
              "      <td>3</td>\n",
              "      <td>219582</td>\n",
              "    </tr>\n",
              "    <tr>\n",
              "      <th>2</th>\n",
              "      <td>CA-2016-138688</td>\n",
              "      <td>6/12/2016</td>\n",
              "      <td>DV-13045</td>\n",
              "      <td>Corporate</td>\n",
              "      <td>Office Supplies</td>\n",
              "      <td>Labels</td>\n",
              "      <td>1462</td>\n",
              "      <td>2</td>\n",
              "      <td>68714</td>\n",
              "    </tr>\n",
              "    <tr>\n",
              "      <th>3</th>\n",
              "      <td>US-2015-108966</td>\n",
              "      <td>10/11/2015</td>\n",
              "      <td>SO-20335</td>\n",
              "      <td>Consumer</td>\n",
              "      <td>Furniture</td>\n",
              "      <td>Tables</td>\n",
              "      <td>9575775</td>\n",
              "      <td>5</td>\n",
              "      <td>-383031</td>\n",
              "    </tr>\n",
              "    <tr>\n",
              "      <th>4</th>\n",
              "      <td>US-2015-108966</td>\n",
              "      <td>10/11/2015</td>\n",
              "      <td>SO-20335</td>\n",
              "      <td>Consumer</td>\n",
              "      <td>Office Supplies</td>\n",
              "      <td>Storage</td>\n",
              "      <td>22368</td>\n",
              "      <td>2</td>\n",
              "      <td>25164</td>\n",
              "    </tr>\n",
              "    <tr>\n",
              "      <th>...</th>\n",
              "      <td>...</td>\n",
              "      <td>...</td>\n",
              "      <td>...</td>\n",
              "      <td>...</td>\n",
              "      <td>...</td>\n",
              "      <td>...</td>\n",
              "      <td>...</td>\n",
              "      <td>...</td>\n",
              "      <td>...</td>\n",
              "    </tr>\n",
              "    <tr>\n",
              "      <th>9983</th>\n",
              "      <td>CA-2014-110422</td>\n",
              "      <td>1/21/2014</td>\n",
              "      <td>TB-21400</td>\n",
              "      <td>Consumer</td>\n",
              "      <td>Furniture</td>\n",
              "      <td>Furnishings</td>\n",
              "      <td>25248</td>\n",
              "      <td>3</td>\n",
              "      <td>41028</td>\n",
              "    </tr>\n",
              "    <tr>\n",
              "      <th>9984</th>\n",
              "      <td>CA-2017-121258</td>\n",
              "      <td>2/26/2017</td>\n",
              "      <td>DB-13060</td>\n",
              "      <td>Consumer</td>\n",
              "      <td>Furniture</td>\n",
              "      <td>Furnishings</td>\n",
              "      <td>9196</td>\n",
              "      <td>2</td>\n",
              "      <td>156332</td>\n",
              "    </tr>\n",
              "    <tr>\n",
              "      <th>9985</th>\n",
              "      <td>CA-2017-121258</td>\n",
              "      <td>2/26/2017</td>\n",
              "      <td>DB-13060</td>\n",
              "      <td>Consumer</td>\n",
              "      <td>Technology</td>\n",
              "      <td>Phones</td>\n",
              "      <td>258576</td>\n",
              "      <td>2</td>\n",
              "      <td>193932</td>\n",
              "    </tr>\n",
              "    <tr>\n",
              "      <th>9986</th>\n",
              "      <td>CA-2017-121258</td>\n",
              "      <td>2/26/2017</td>\n",
              "      <td>DB-13060</td>\n",
              "      <td>Consumer</td>\n",
              "      <td>Office Supplies</td>\n",
              "      <td>Paper</td>\n",
              "      <td>296</td>\n",
              "      <td>4</td>\n",
              "      <td>1332</td>\n",
              "    </tr>\n",
              "    <tr>\n",
              "      <th>9987</th>\n",
              "      <td>CA-2017-119914</td>\n",
              "      <td>5/4/2017</td>\n",
              "      <td>CC-12220</td>\n",
              "      <td>Consumer</td>\n",
              "      <td>Office Supplies</td>\n",
              "      <td>Appliances</td>\n",
              "      <td>24316</td>\n",
              "      <td>2</td>\n",
              "      <td>72948</td>\n",
              "    </tr>\n",
              "  </tbody>\n",
              "</table>\n",
              "<p>9988 rows × 9 columns</p>\n",
              "</div>"
            ],
            "text/plain": [
              "            order_id  order_date customer_id  ...    sales quantity  profit\n",
              "0     CA-2016-152156   11/8/2016    CG-12520  ...    26196        2  419136\n",
              "1     CA-2016-152156   11/8/2016    CG-12520  ...    73194        3  219582\n",
              "2     CA-2016-138688   6/12/2016    DV-13045  ...     1462        2   68714\n",
              "3     US-2015-108966  10/11/2015    SO-20335  ...  9575775        5 -383031\n",
              "4     US-2015-108966  10/11/2015    SO-20335  ...    22368        2   25164\n",
              "...              ...         ...         ...  ...      ...      ...     ...\n",
              "9983  CA-2014-110422   1/21/2014    TB-21400  ...    25248        3   41028\n",
              "9984  CA-2017-121258   2/26/2017    DB-13060  ...     9196        2  156332\n",
              "9985  CA-2017-121258   2/26/2017    DB-13060  ...   258576        2  193932\n",
              "9986  CA-2017-121258   2/26/2017    DB-13060  ...      296        4    1332\n",
              "9987  CA-2017-119914    5/4/2017    CC-12220  ...    24316        2   72948\n",
              "\n",
              "[9988 rows x 9 columns]"
            ]
          },
          "metadata": {
            "tags": []
          },
          "execution_count": 11
        }
      ]
    },
    {
      "cell_type": "markdown",
      "metadata": {
        "id": "xQGhduU6hDWT"
      },
      "source": [
        "**Mengimpor Data Frame dari Format XLS/XLSX**"
      ]
    },
    {
      "cell_type": "code",
      "metadata": {
        "colab": {
          "base_uri": "https://localhost:8080/",
          "height": 415
        },
        "id": "reZBu5fZhJM5",
        "outputId": "96c77642-3934-4e0a-92ca-fb8adf7ec1c7"
      },
      "source": [
        "# Mengimpor Data Frame\n",
        "df = pd.read_excel(\"/content/SuperStoreDataset.xlsx\") #Pastikan sudah diupload di folder\n",
        "\n",
        "# Memanggil Data Frame\n",
        "df"
      ],
      "execution_count": null,
      "outputs": [
        {
          "output_type": "execute_result",
          "data": {
            "text/html": [
              "<div>\n",
              "<style scoped>\n",
              "    .dataframe tbody tr th:only-of-type {\n",
              "        vertical-align: middle;\n",
              "    }\n",
              "\n",
              "    .dataframe tbody tr th {\n",
              "        vertical-align: top;\n",
              "    }\n",
              "\n",
              "    .dataframe thead th {\n",
              "        text-align: right;\n",
              "    }\n",
              "</style>\n",
              "<table border=\"1\" class=\"dataframe\">\n",
              "  <thead>\n",
              "    <tr style=\"text-align: right;\">\n",
              "      <th></th>\n",
              "      <th>order_id</th>\n",
              "      <th>order_date</th>\n",
              "      <th>customer_id</th>\n",
              "      <th>segment</th>\n",
              "      <th>category</th>\n",
              "      <th>sub_category</th>\n",
              "      <th>sales</th>\n",
              "      <th>quantity</th>\n",
              "      <th>profit</th>\n",
              "    </tr>\n",
              "  </thead>\n",
              "  <tbody>\n",
              "    <tr>\n",
              "      <th>0</th>\n",
              "      <td>CA-2016-152156</td>\n",
              "      <td>11/8/2016</td>\n",
              "      <td>CG-12520</td>\n",
              "      <td>Consumer</td>\n",
              "      <td>Furniture</td>\n",
              "      <td>Bookcases</td>\n",
              "      <td>26196</td>\n",
              "      <td>2</td>\n",
              "      <td>419136</td>\n",
              "    </tr>\n",
              "    <tr>\n",
              "      <th>1</th>\n",
              "      <td>CA-2016-152156</td>\n",
              "      <td>11/8/2016</td>\n",
              "      <td>CG-12520</td>\n",
              "      <td>Consumer</td>\n",
              "      <td>Furniture</td>\n",
              "      <td>Chairs</td>\n",
              "      <td>73194</td>\n",
              "      <td>3</td>\n",
              "      <td>219582</td>\n",
              "    </tr>\n",
              "    <tr>\n",
              "      <th>2</th>\n",
              "      <td>CA-2016-138688</td>\n",
              "      <td>6/12/2016</td>\n",
              "      <td>DV-13045</td>\n",
              "      <td>Corporate</td>\n",
              "      <td>Office Supplies</td>\n",
              "      <td>Labels</td>\n",
              "      <td>1462</td>\n",
              "      <td>2</td>\n",
              "      <td>68714</td>\n",
              "    </tr>\n",
              "    <tr>\n",
              "      <th>3</th>\n",
              "      <td>US-2015-108966</td>\n",
              "      <td>10/11/2015</td>\n",
              "      <td>SO-20335</td>\n",
              "      <td>Consumer</td>\n",
              "      <td>Furniture</td>\n",
              "      <td>Tables</td>\n",
              "      <td>9575775</td>\n",
              "      <td>5</td>\n",
              "      <td>-383031</td>\n",
              "    </tr>\n",
              "    <tr>\n",
              "      <th>4</th>\n",
              "      <td>US-2015-108966</td>\n",
              "      <td>10/11/2015</td>\n",
              "      <td>SO-20335</td>\n",
              "      <td>Consumer</td>\n",
              "      <td>Office Supplies</td>\n",
              "      <td>Storage</td>\n",
              "      <td>22368</td>\n",
              "      <td>2</td>\n",
              "      <td>25164</td>\n",
              "    </tr>\n",
              "    <tr>\n",
              "      <th>...</th>\n",
              "      <td>...</td>\n",
              "      <td>...</td>\n",
              "      <td>...</td>\n",
              "      <td>...</td>\n",
              "      <td>...</td>\n",
              "      <td>...</td>\n",
              "      <td>...</td>\n",
              "      <td>...</td>\n",
              "      <td>...</td>\n",
              "    </tr>\n",
              "    <tr>\n",
              "      <th>9983</th>\n",
              "      <td>CA-2014-110422</td>\n",
              "      <td>1/21/2014</td>\n",
              "      <td>TB-21400</td>\n",
              "      <td>Consumer</td>\n",
              "      <td>Furniture</td>\n",
              "      <td>Furnishings</td>\n",
              "      <td>25248</td>\n",
              "      <td>3</td>\n",
              "      <td>41028</td>\n",
              "    </tr>\n",
              "    <tr>\n",
              "      <th>9984</th>\n",
              "      <td>CA-2017-121258</td>\n",
              "      <td>2/26/2017</td>\n",
              "      <td>DB-13060</td>\n",
              "      <td>Consumer</td>\n",
              "      <td>Furniture</td>\n",
              "      <td>Furnishings</td>\n",
              "      <td>9196</td>\n",
              "      <td>2</td>\n",
              "      <td>156332</td>\n",
              "    </tr>\n",
              "    <tr>\n",
              "      <th>9985</th>\n",
              "      <td>CA-2017-121258</td>\n",
              "      <td>2/26/2017</td>\n",
              "      <td>DB-13060</td>\n",
              "      <td>Consumer</td>\n",
              "      <td>Technology</td>\n",
              "      <td>Phones</td>\n",
              "      <td>258576</td>\n",
              "      <td>2</td>\n",
              "      <td>193932</td>\n",
              "    </tr>\n",
              "    <tr>\n",
              "      <th>9986</th>\n",
              "      <td>CA-2017-121258</td>\n",
              "      <td>2/26/2017</td>\n",
              "      <td>DB-13060</td>\n",
              "      <td>Consumer</td>\n",
              "      <td>Office Supplies</td>\n",
              "      <td>Paper</td>\n",
              "      <td>296</td>\n",
              "      <td>4</td>\n",
              "      <td>1332</td>\n",
              "    </tr>\n",
              "    <tr>\n",
              "      <th>9987</th>\n",
              "      <td>CA-2017-119914</td>\n",
              "      <td>5/4/2017</td>\n",
              "      <td>CC-12220</td>\n",
              "      <td>Consumer</td>\n",
              "      <td>Office Supplies</td>\n",
              "      <td>Appliances</td>\n",
              "      <td>24316</td>\n",
              "      <td>2</td>\n",
              "      <td>72948</td>\n",
              "    </tr>\n",
              "  </tbody>\n",
              "</table>\n",
              "<p>9988 rows × 9 columns</p>\n",
              "</div>"
            ],
            "text/plain": [
              "            order_id  order_date customer_id  ...    sales quantity  profit\n",
              "0     CA-2016-152156   11/8/2016    CG-12520  ...    26196        2  419136\n",
              "1     CA-2016-152156   11/8/2016    CG-12520  ...    73194        3  219582\n",
              "2     CA-2016-138688   6/12/2016    DV-13045  ...     1462        2   68714\n",
              "3     US-2015-108966  10/11/2015    SO-20335  ...  9575775        5 -383031\n",
              "4     US-2015-108966  10/11/2015    SO-20335  ...    22368        2   25164\n",
              "...              ...         ...         ...  ...      ...      ...     ...\n",
              "9983  CA-2014-110422   1/21/2014    TB-21400  ...    25248        3   41028\n",
              "9984  CA-2017-121258   2/26/2017    DB-13060  ...     9196        2  156332\n",
              "9985  CA-2017-121258   2/26/2017    DB-13060  ...   258576        2  193932\n",
              "9986  CA-2017-121258   2/26/2017    DB-13060  ...      296        4    1332\n",
              "9987  CA-2017-119914    5/4/2017    CC-12220  ...    24316        2   72948\n",
              "\n",
              "[9988 rows x 9 columns]"
            ]
          },
          "metadata": {
            "tags": []
          },
          "execution_count": 129
        }
      ]
    },
    {
      "cell_type": "code",
      "metadata": {
        "colab": {
          "base_uri": "https://localhost:8080/",
          "height": 419
        },
        "id": "GcQJDNXUX0BG",
        "outputId": "be27bdbb-1086-471d-e92d-9f32683e65c5"
      },
      "source": [
        "df = pd.read_excel(\"/content/Super Store Dataset.xlsx\")\n",
        "df"
      ],
      "execution_count": 17,
      "outputs": [
        {
          "output_type": "execute_result",
          "data": {
            "text/html": [
              "<div>\n",
              "<style scoped>\n",
              "    .dataframe tbody tr th:only-of-type {\n",
              "        vertical-align: middle;\n",
              "    }\n",
              "\n",
              "    .dataframe tbody tr th {\n",
              "        vertical-align: top;\n",
              "    }\n",
              "\n",
              "    .dataframe thead th {\n",
              "        text-align: right;\n",
              "    }\n",
              "</style>\n",
              "<table border=\"1\" class=\"dataframe\">\n",
              "  <thead>\n",
              "    <tr style=\"text-align: right;\">\n",
              "      <th></th>\n",
              "      <th>order_id</th>\n",
              "      <th>order_date</th>\n",
              "      <th>customer_id</th>\n",
              "      <th>segment</th>\n",
              "      <th>category</th>\n",
              "      <th>sub_category</th>\n",
              "      <th>sales</th>\n",
              "      <th>quantity</th>\n",
              "      <th>profit</th>\n",
              "    </tr>\n",
              "  </thead>\n",
              "  <tbody>\n",
              "    <tr>\n",
              "      <th>0</th>\n",
              "      <td>CA-2016-152156</td>\n",
              "      <td>11/8/2016</td>\n",
              "      <td>CG-12520</td>\n",
              "      <td>Consumer</td>\n",
              "      <td>Furniture</td>\n",
              "      <td>Bookcases</td>\n",
              "      <td>26196</td>\n",
              "      <td>2</td>\n",
              "      <td>419136</td>\n",
              "    </tr>\n",
              "    <tr>\n",
              "      <th>1</th>\n",
              "      <td>CA-2016-152156</td>\n",
              "      <td>11/8/2016</td>\n",
              "      <td>CG-12520</td>\n",
              "      <td>Consumer</td>\n",
              "      <td>Furniture</td>\n",
              "      <td>Chairs</td>\n",
              "      <td>73194</td>\n",
              "      <td>3</td>\n",
              "      <td>219582</td>\n",
              "    </tr>\n",
              "    <tr>\n",
              "      <th>2</th>\n",
              "      <td>CA-2016-138688</td>\n",
              "      <td>6/12/2016</td>\n",
              "      <td>DV-13045</td>\n",
              "      <td>Corporate</td>\n",
              "      <td>Office Supplies</td>\n",
              "      <td>Labels</td>\n",
              "      <td>1462</td>\n",
              "      <td>2</td>\n",
              "      <td>68714</td>\n",
              "    </tr>\n",
              "    <tr>\n",
              "      <th>3</th>\n",
              "      <td>US-2015-108966</td>\n",
              "      <td>10/11/2015</td>\n",
              "      <td>SO-20335</td>\n",
              "      <td>Consumer</td>\n",
              "      <td>Furniture</td>\n",
              "      <td>Tables</td>\n",
              "      <td>9575775</td>\n",
              "      <td>5</td>\n",
              "      <td>-383031</td>\n",
              "    </tr>\n",
              "    <tr>\n",
              "      <th>4</th>\n",
              "      <td>US-2015-108966</td>\n",
              "      <td>10/11/2015</td>\n",
              "      <td>SO-20335</td>\n",
              "      <td>Consumer</td>\n",
              "      <td>Office Supplies</td>\n",
              "      <td>Storage</td>\n",
              "      <td>22368</td>\n",
              "      <td>2</td>\n",
              "      <td>25164</td>\n",
              "    </tr>\n",
              "    <tr>\n",
              "      <th>...</th>\n",
              "      <td>...</td>\n",
              "      <td>...</td>\n",
              "      <td>...</td>\n",
              "      <td>...</td>\n",
              "      <td>...</td>\n",
              "      <td>...</td>\n",
              "      <td>...</td>\n",
              "      <td>...</td>\n",
              "      <td>...</td>\n",
              "    </tr>\n",
              "    <tr>\n",
              "      <th>9983</th>\n",
              "      <td>CA-2014-110422</td>\n",
              "      <td>1/21/2014</td>\n",
              "      <td>TB-21400</td>\n",
              "      <td>Consumer</td>\n",
              "      <td>Furniture</td>\n",
              "      <td>Furnishings</td>\n",
              "      <td>25248</td>\n",
              "      <td>3</td>\n",
              "      <td>41028</td>\n",
              "    </tr>\n",
              "    <tr>\n",
              "      <th>9984</th>\n",
              "      <td>CA-2017-121258</td>\n",
              "      <td>2/26/2017</td>\n",
              "      <td>DB-13060</td>\n",
              "      <td>Consumer</td>\n",
              "      <td>Furniture</td>\n",
              "      <td>Furnishings</td>\n",
              "      <td>9196</td>\n",
              "      <td>2</td>\n",
              "      <td>156332</td>\n",
              "    </tr>\n",
              "    <tr>\n",
              "      <th>9985</th>\n",
              "      <td>CA-2017-121258</td>\n",
              "      <td>2/26/2017</td>\n",
              "      <td>DB-13060</td>\n",
              "      <td>Consumer</td>\n",
              "      <td>Technology</td>\n",
              "      <td>Phones</td>\n",
              "      <td>258576</td>\n",
              "      <td>2</td>\n",
              "      <td>193932</td>\n",
              "    </tr>\n",
              "    <tr>\n",
              "      <th>9986</th>\n",
              "      <td>CA-2017-121258</td>\n",
              "      <td>2/26/2017</td>\n",
              "      <td>DB-13060</td>\n",
              "      <td>Consumer</td>\n",
              "      <td>Office Supplies</td>\n",
              "      <td>Paper</td>\n",
              "      <td>296</td>\n",
              "      <td>4</td>\n",
              "      <td>1332</td>\n",
              "    </tr>\n",
              "    <tr>\n",
              "      <th>9987</th>\n",
              "      <td>CA-2017-119914</td>\n",
              "      <td>5/4/2017</td>\n",
              "      <td>CC-12220</td>\n",
              "      <td>Consumer</td>\n",
              "      <td>Office Supplies</td>\n",
              "      <td>Appliances</td>\n",
              "      <td>24316</td>\n",
              "      <td>2</td>\n",
              "      <td>72948</td>\n",
              "    </tr>\n",
              "  </tbody>\n",
              "</table>\n",
              "<p>9988 rows × 9 columns</p>\n",
              "</div>"
            ],
            "text/plain": [
              "            order_id  order_date customer_id  ...    sales quantity  profit\n",
              "0     CA-2016-152156   11/8/2016    CG-12520  ...    26196        2  419136\n",
              "1     CA-2016-152156   11/8/2016    CG-12520  ...    73194        3  219582\n",
              "2     CA-2016-138688   6/12/2016    DV-13045  ...     1462        2   68714\n",
              "3     US-2015-108966  10/11/2015    SO-20335  ...  9575775        5 -383031\n",
              "4     US-2015-108966  10/11/2015    SO-20335  ...    22368        2   25164\n",
              "...              ...         ...         ...  ...      ...      ...     ...\n",
              "9983  CA-2014-110422   1/21/2014    TB-21400  ...    25248        3   41028\n",
              "9984  CA-2017-121258   2/26/2017    DB-13060  ...     9196        2  156332\n",
              "9985  CA-2017-121258   2/26/2017    DB-13060  ...   258576        2  193932\n",
              "9986  CA-2017-121258   2/26/2017    DB-13060  ...      296        4    1332\n",
              "9987  CA-2017-119914    5/4/2017    CC-12220  ...    24316        2   72948\n",
              "\n",
              "[9988 rows x 9 columns]"
            ]
          },
          "metadata": {
            "tags": []
          },
          "execution_count": 17
        }
      ]
    },
    {
      "cell_type": "markdown",
      "metadata": {
        "id": "0toByftAgOSd"
      },
      "source": [
        "### Eksplorasi Data Frame"
      ]
    },
    {
      "cell_type": "markdown",
      "metadata": {
        "id": "5S7WUNNXgYw2"
      },
      "source": [
        "**Head**"
      ]
    },
    {
      "cell_type": "code",
      "metadata": {
        "id": "o-Y6ezGlEyjj",
        "colab": {
          "base_uri": "https://localhost:8080/",
          "height": 202
        },
        "outputId": "309a070b-0f66-4a73-8718-806ec02d44cc"
      },
      "source": [
        "#Melihat data teratas pada dataframe(default 5)\n",
        "df.head()"
      ],
      "execution_count": null,
      "outputs": [
        {
          "output_type": "execute_result",
          "data": {
            "text/html": [
              "<div>\n",
              "<style scoped>\n",
              "    .dataframe tbody tr th:only-of-type {\n",
              "        vertical-align: middle;\n",
              "    }\n",
              "\n",
              "    .dataframe tbody tr th {\n",
              "        vertical-align: top;\n",
              "    }\n",
              "\n",
              "    .dataframe thead th {\n",
              "        text-align: right;\n",
              "    }\n",
              "</style>\n",
              "<table border=\"1\" class=\"dataframe\">\n",
              "  <thead>\n",
              "    <tr style=\"text-align: right;\">\n",
              "      <th></th>\n",
              "      <th>order_id</th>\n",
              "      <th>order_date</th>\n",
              "      <th>customer_id</th>\n",
              "      <th>segment</th>\n",
              "      <th>category</th>\n",
              "      <th>sub_category</th>\n",
              "      <th>sales</th>\n",
              "      <th>quantity</th>\n",
              "      <th>profit</th>\n",
              "    </tr>\n",
              "  </thead>\n",
              "  <tbody>\n",
              "    <tr>\n",
              "      <th>0</th>\n",
              "      <td>CA-2016-152156</td>\n",
              "      <td>11/8/2016</td>\n",
              "      <td>CG-12520</td>\n",
              "      <td>Consumer</td>\n",
              "      <td>Furniture</td>\n",
              "      <td>Bookcases</td>\n",
              "      <td>26196</td>\n",
              "      <td>2</td>\n",
              "      <td>419136</td>\n",
              "    </tr>\n",
              "    <tr>\n",
              "      <th>1</th>\n",
              "      <td>CA-2016-152156</td>\n",
              "      <td>11/8/2016</td>\n",
              "      <td>CG-12520</td>\n",
              "      <td>Consumer</td>\n",
              "      <td>Furniture</td>\n",
              "      <td>Chairs</td>\n",
              "      <td>73194</td>\n",
              "      <td>3</td>\n",
              "      <td>219582</td>\n",
              "    </tr>\n",
              "    <tr>\n",
              "      <th>2</th>\n",
              "      <td>CA-2016-138688</td>\n",
              "      <td>6/12/2016</td>\n",
              "      <td>DV-13045</td>\n",
              "      <td>Corporate</td>\n",
              "      <td>Office Supplies</td>\n",
              "      <td>Labels</td>\n",
              "      <td>1462</td>\n",
              "      <td>2</td>\n",
              "      <td>68714</td>\n",
              "    </tr>\n",
              "    <tr>\n",
              "      <th>3</th>\n",
              "      <td>US-2015-108966</td>\n",
              "      <td>10/11/2015</td>\n",
              "      <td>SO-20335</td>\n",
              "      <td>Consumer</td>\n",
              "      <td>Furniture</td>\n",
              "      <td>Tables</td>\n",
              "      <td>9575775</td>\n",
              "      <td>5</td>\n",
              "      <td>-383031</td>\n",
              "    </tr>\n",
              "    <tr>\n",
              "      <th>4</th>\n",
              "      <td>US-2015-108966</td>\n",
              "      <td>10/11/2015</td>\n",
              "      <td>SO-20335</td>\n",
              "      <td>Consumer</td>\n",
              "      <td>Office Supplies</td>\n",
              "      <td>Storage</td>\n",
              "      <td>22368</td>\n",
              "      <td>2</td>\n",
              "      <td>25164</td>\n",
              "    </tr>\n",
              "  </tbody>\n",
              "</table>\n",
              "</div>"
            ],
            "text/plain": [
              "         order_id  order_date customer_id  ...    sales quantity  profit\n",
              "0  CA-2016-152156   11/8/2016    CG-12520  ...    26196        2  419136\n",
              "1  CA-2016-152156   11/8/2016    CG-12520  ...    73194        3  219582\n",
              "2  CA-2016-138688   6/12/2016    DV-13045  ...     1462        2   68714\n",
              "3  US-2015-108966  10/11/2015    SO-20335  ...  9575775        5 -383031\n",
              "4  US-2015-108966  10/11/2015    SO-20335  ...    22368        2   25164\n",
              "\n",
              "[5 rows x 9 columns]"
            ]
          },
          "metadata": {
            "tags": []
          },
          "execution_count": 130
        }
      ]
    },
    {
      "cell_type": "code",
      "metadata": {
        "colab": {
          "base_uri": "https://localhost:8080/",
          "height": 204
        },
        "id": "DNaCL-uWjbfA",
        "outputId": "80585b3e-ef2e-47b8-ce28-752b0f0ff637"
      },
      "source": [
        "df.head()"
      ],
      "execution_count": 18,
      "outputs": [
        {
          "output_type": "execute_result",
          "data": {
            "text/html": [
              "<div>\n",
              "<style scoped>\n",
              "    .dataframe tbody tr th:only-of-type {\n",
              "        vertical-align: middle;\n",
              "    }\n",
              "\n",
              "    .dataframe tbody tr th {\n",
              "        vertical-align: top;\n",
              "    }\n",
              "\n",
              "    .dataframe thead th {\n",
              "        text-align: right;\n",
              "    }\n",
              "</style>\n",
              "<table border=\"1\" class=\"dataframe\">\n",
              "  <thead>\n",
              "    <tr style=\"text-align: right;\">\n",
              "      <th></th>\n",
              "      <th>order_id</th>\n",
              "      <th>order_date</th>\n",
              "      <th>customer_id</th>\n",
              "      <th>segment</th>\n",
              "      <th>category</th>\n",
              "      <th>sub_category</th>\n",
              "      <th>sales</th>\n",
              "      <th>quantity</th>\n",
              "      <th>profit</th>\n",
              "    </tr>\n",
              "  </thead>\n",
              "  <tbody>\n",
              "    <tr>\n",
              "      <th>0</th>\n",
              "      <td>CA-2016-152156</td>\n",
              "      <td>11/8/2016</td>\n",
              "      <td>CG-12520</td>\n",
              "      <td>Consumer</td>\n",
              "      <td>Furniture</td>\n",
              "      <td>Bookcases</td>\n",
              "      <td>26196</td>\n",
              "      <td>2</td>\n",
              "      <td>419136</td>\n",
              "    </tr>\n",
              "    <tr>\n",
              "      <th>1</th>\n",
              "      <td>CA-2016-152156</td>\n",
              "      <td>11/8/2016</td>\n",
              "      <td>CG-12520</td>\n",
              "      <td>Consumer</td>\n",
              "      <td>Furniture</td>\n",
              "      <td>Chairs</td>\n",
              "      <td>73194</td>\n",
              "      <td>3</td>\n",
              "      <td>219582</td>\n",
              "    </tr>\n",
              "    <tr>\n",
              "      <th>2</th>\n",
              "      <td>CA-2016-138688</td>\n",
              "      <td>6/12/2016</td>\n",
              "      <td>DV-13045</td>\n",
              "      <td>Corporate</td>\n",
              "      <td>Office Supplies</td>\n",
              "      <td>Labels</td>\n",
              "      <td>1462</td>\n",
              "      <td>2</td>\n",
              "      <td>68714</td>\n",
              "    </tr>\n",
              "    <tr>\n",
              "      <th>3</th>\n",
              "      <td>US-2015-108966</td>\n",
              "      <td>10/11/2015</td>\n",
              "      <td>SO-20335</td>\n",
              "      <td>Consumer</td>\n",
              "      <td>Furniture</td>\n",
              "      <td>Tables</td>\n",
              "      <td>9575775</td>\n",
              "      <td>5</td>\n",
              "      <td>-383031</td>\n",
              "    </tr>\n",
              "    <tr>\n",
              "      <th>4</th>\n",
              "      <td>US-2015-108966</td>\n",
              "      <td>10/11/2015</td>\n",
              "      <td>SO-20335</td>\n",
              "      <td>Consumer</td>\n",
              "      <td>Office Supplies</td>\n",
              "      <td>Storage</td>\n",
              "      <td>22368</td>\n",
              "      <td>2</td>\n",
              "      <td>25164</td>\n",
              "    </tr>\n",
              "  </tbody>\n",
              "</table>\n",
              "</div>"
            ],
            "text/plain": [
              "         order_id  order_date customer_id  ...    sales quantity  profit\n",
              "0  CA-2016-152156   11/8/2016    CG-12520  ...    26196        2  419136\n",
              "1  CA-2016-152156   11/8/2016    CG-12520  ...    73194        3  219582\n",
              "2  CA-2016-138688   6/12/2016    DV-13045  ...     1462        2   68714\n",
              "3  US-2015-108966  10/11/2015    SO-20335  ...  9575775        5 -383031\n",
              "4  US-2015-108966  10/11/2015    SO-20335  ...    22368        2   25164\n",
              "\n",
              "[5 rows x 9 columns]"
            ]
          },
          "metadata": {
            "tags": []
          },
          "execution_count": 18
        }
      ]
    },
    {
      "cell_type": "markdown",
      "metadata": {
        "id": "dDdPPzqMgpuM"
      },
      "source": [
        "**Tails**"
      ]
    },
    {
      "cell_type": "code",
      "metadata": {
        "colab": {
          "base_uri": "https://localhost:8080/",
          "height": 202
        },
        "id": "9SaSp3ThgrMu",
        "outputId": "40edfc10-0e0e-463b-b580-00ad5e19d222"
      },
      "source": [
        "#Melihat data terbawah pada dataframe(default 5)\n",
        "df.tail()"
      ],
      "execution_count": null,
      "outputs": [
        {
          "output_type": "execute_result",
          "data": {
            "text/html": [
              "<div>\n",
              "<style scoped>\n",
              "    .dataframe tbody tr th:only-of-type {\n",
              "        vertical-align: middle;\n",
              "    }\n",
              "\n",
              "    .dataframe tbody tr th {\n",
              "        vertical-align: top;\n",
              "    }\n",
              "\n",
              "    .dataframe thead th {\n",
              "        text-align: right;\n",
              "    }\n",
              "</style>\n",
              "<table border=\"1\" class=\"dataframe\">\n",
              "  <thead>\n",
              "    <tr style=\"text-align: right;\">\n",
              "      <th></th>\n",
              "      <th>order_id</th>\n",
              "      <th>order_date</th>\n",
              "      <th>customer_id</th>\n",
              "      <th>segment</th>\n",
              "      <th>category</th>\n",
              "      <th>sub_category</th>\n",
              "      <th>sales</th>\n",
              "      <th>quantity</th>\n",
              "      <th>profit</th>\n",
              "    </tr>\n",
              "  </thead>\n",
              "  <tbody>\n",
              "    <tr>\n",
              "      <th>9983</th>\n",
              "      <td>CA-2014-110422</td>\n",
              "      <td>1/21/2014</td>\n",
              "      <td>TB-21400</td>\n",
              "      <td>Consumer</td>\n",
              "      <td>Furniture</td>\n",
              "      <td>Furnishings</td>\n",
              "      <td>25248</td>\n",
              "      <td>3</td>\n",
              "      <td>41028</td>\n",
              "    </tr>\n",
              "    <tr>\n",
              "      <th>9984</th>\n",
              "      <td>CA-2017-121258</td>\n",
              "      <td>2/26/2017</td>\n",
              "      <td>DB-13060</td>\n",
              "      <td>Consumer</td>\n",
              "      <td>Furniture</td>\n",
              "      <td>Furnishings</td>\n",
              "      <td>9196</td>\n",
              "      <td>2</td>\n",
              "      <td>156332</td>\n",
              "    </tr>\n",
              "    <tr>\n",
              "      <th>9985</th>\n",
              "      <td>CA-2017-121258</td>\n",
              "      <td>2/26/2017</td>\n",
              "      <td>DB-13060</td>\n",
              "      <td>Consumer</td>\n",
              "      <td>Technology</td>\n",
              "      <td>Phones</td>\n",
              "      <td>258576</td>\n",
              "      <td>2</td>\n",
              "      <td>193932</td>\n",
              "    </tr>\n",
              "    <tr>\n",
              "      <th>9986</th>\n",
              "      <td>CA-2017-121258</td>\n",
              "      <td>2/26/2017</td>\n",
              "      <td>DB-13060</td>\n",
              "      <td>Consumer</td>\n",
              "      <td>Office Supplies</td>\n",
              "      <td>Paper</td>\n",
              "      <td>296</td>\n",
              "      <td>4</td>\n",
              "      <td>1332</td>\n",
              "    </tr>\n",
              "    <tr>\n",
              "      <th>9987</th>\n",
              "      <td>CA-2017-119914</td>\n",
              "      <td>5/4/2017</td>\n",
              "      <td>CC-12220</td>\n",
              "      <td>Consumer</td>\n",
              "      <td>Office Supplies</td>\n",
              "      <td>Appliances</td>\n",
              "      <td>24316</td>\n",
              "      <td>2</td>\n",
              "      <td>72948</td>\n",
              "    </tr>\n",
              "  </tbody>\n",
              "</table>\n",
              "</div>"
            ],
            "text/plain": [
              "            order_id order_date customer_id  ...   sales quantity  profit\n",
              "9983  CA-2014-110422  1/21/2014    TB-21400  ...   25248        3   41028\n",
              "9984  CA-2017-121258  2/26/2017    DB-13060  ...    9196        2  156332\n",
              "9985  CA-2017-121258  2/26/2017    DB-13060  ...  258576        2  193932\n",
              "9986  CA-2017-121258  2/26/2017    DB-13060  ...     296        4    1332\n",
              "9987  CA-2017-119914   5/4/2017    CC-12220  ...   24316        2   72948\n",
              "\n",
              "[5 rows x 9 columns]"
            ]
          },
          "metadata": {
            "tags": []
          },
          "execution_count": 131
        }
      ]
    },
    {
      "cell_type": "code",
      "metadata": {
        "colab": {
          "base_uri": "https://localhost:8080/",
          "height": 204
        },
        "id": "HwPLISSkjhfa",
        "outputId": "7b743efb-1fba-4ed9-bd12-959b9e5518cd"
      },
      "source": [
        "df.tail()"
      ],
      "execution_count": 19,
      "outputs": [
        {
          "output_type": "execute_result",
          "data": {
            "text/html": [
              "<div>\n",
              "<style scoped>\n",
              "    .dataframe tbody tr th:only-of-type {\n",
              "        vertical-align: middle;\n",
              "    }\n",
              "\n",
              "    .dataframe tbody tr th {\n",
              "        vertical-align: top;\n",
              "    }\n",
              "\n",
              "    .dataframe thead th {\n",
              "        text-align: right;\n",
              "    }\n",
              "</style>\n",
              "<table border=\"1\" class=\"dataframe\">\n",
              "  <thead>\n",
              "    <tr style=\"text-align: right;\">\n",
              "      <th></th>\n",
              "      <th>order_id</th>\n",
              "      <th>order_date</th>\n",
              "      <th>customer_id</th>\n",
              "      <th>segment</th>\n",
              "      <th>category</th>\n",
              "      <th>sub_category</th>\n",
              "      <th>sales</th>\n",
              "      <th>quantity</th>\n",
              "      <th>profit</th>\n",
              "    </tr>\n",
              "  </thead>\n",
              "  <tbody>\n",
              "    <tr>\n",
              "      <th>9983</th>\n",
              "      <td>CA-2014-110422</td>\n",
              "      <td>1/21/2014</td>\n",
              "      <td>TB-21400</td>\n",
              "      <td>Consumer</td>\n",
              "      <td>Furniture</td>\n",
              "      <td>Furnishings</td>\n",
              "      <td>25248</td>\n",
              "      <td>3</td>\n",
              "      <td>41028</td>\n",
              "    </tr>\n",
              "    <tr>\n",
              "      <th>9984</th>\n",
              "      <td>CA-2017-121258</td>\n",
              "      <td>2/26/2017</td>\n",
              "      <td>DB-13060</td>\n",
              "      <td>Consumer</td>\n",
              "      <td>Furniture</td>\n",
              "      <td>Furnishings</td>\n",
              "      <td>9196</td>\n",
              "      <td>2</td>\n",
              "      <td>156332</td>\n",
              "    </tr>\n",
              "    <tr>\n",
              "      <th>9985</th>\n",
              "      <td>CA-2017-121258</td>\n",
              "      <td>2/26/2017</td>\n",
              "      <td>DB-13060</td>\n",
              "      <td>Consumer</td>\n",
              "      <td>Technology</td>\n",
              "      <td>Phones</td>\n",
              "      <td>258576</td>\n",
              "      <td>2</td>\n",
              "      <td>193932</td>\n",
              "    </tr>\n",
              "    <tr>\n",
              "      <th>9986</th>\n",
              "      <td>CA-2017-121258</td>\n",
              "      <td>2/26/2017</td>\n",
              "      <td>DB-13060</td>\n",
              "      <td>Consumer</td>\n",
              "      <td>Office Supplies</td>\n",
              "      <td>Paper</td>\n",
              "      <td>296</td>\n",
              "      <td>4</td>\n",
              "      <td>1332</td>\n",
              "    </tr>\n",
              "    <tr>\n",
              "      <th>9987</th>\n",
              "      <td>CA-2017-119914</td>\n",
              "      <td>5/4/2017</td>\n",
              "      <td>CC-12220</td>\n",
              "      <td>Consumer</td>\n",
              "      <td>Office Supplies</td>\n",
              "      <td>Appliances</td>\n",
              "      <td>24316</td>\n",
              "      <td>2</td>\n",
              "      <td>72948</td>\n",
              "    </tr>\n",
              "  </tbody>\n",
              "</table>\n",
              "</div>"
            ],
            "text/plain": [
              "            order_id order_date customer_id  ...   sales quantity  profit\n",
              "9983  CA-2014-110422  1/21/2014    TB-21400  ...   25248        3   41028\n",
              "9984  CA-2017-121258  2/26/2017    DB-13060  ...    9196        2  156332\n",
              "9985  CA-2017-121258  2/26/2017    DB-13060  ...  258576        2  193932\n",
              "9986  CA-2017-121258  2/26/2017    DB-13060  ...     296        4    1332\n",
              "9987  CA-2017-119914   5/4/2017    CC-12220  ...   24316        2   72948\n",
              "\n",
              "[5 rows x 9 columns]"
            ]
          },
          "metadata": {
            "tags": []
          },
          "execution_count": 19
        }
      ]
    },
    {
      "cell_type": "markdown",
      "metadata": {
        "id": "5YNoJ27_gzz8"
      },
      "source": [
        "**Shape**"
      ]
    },
    {
      "cell_type": "code",
      "metadata": {
        "colab": {
          "base_uri": "https://localhost:8080/"
        },
        "id": "xUk4Drn4g2Bg",
        "outputId": "fc7ecd6a-b418-441c-b4e3-9d265bf59ae8"
      },
      "source": [
        "#Melihat ukuran data frame(Baris X Kolom)\n",
        "df.shape"
      ],
      "execution_count": null,
      "outputs": [
        {
          "output_type": "execute_result",
          "data": {
            "text/plain": [
              "(9988, 9)"
            ]
          },
          "metadata": {
            "tags": []
          },
          "execution_count": 132
        }
      ]
    },
    {
      "cell_type": "code",
      "metadata": {
        "colab": {
          "base_uri": "https://localhost:8080/"
        },
        "id": "W8Me9fLRjyxT",
        "outputId": "57158675-f64b-41d1-d051-68d94b8683b6"
      },
      "source": [
        "df.shape"
      ],
      "execution_count": 20,
      "outputs": [
        {
          "output_type": "execute_result",
          "data": {
            "text/plain": [
              "(9988, 9)"
            ]
          },
          "metadata": {
            "tags": []
          },
          "execution_count": 20
        }
      ]
    },
    {
      "cell_type": "markdown",
      "metadata": {
        "id": "N_XQa_bTqKN2"
      },
      "source": [
        "**Column Names**"
      ]
    },
    {
      "cell_type": "code",
      "metadata": {
        "colab": {
          "base_uri": "https://localhost:8080/"
        },
        "id": "8xhSQSUsqHyB",
        "outputId": "13e0f3b2-745f-4e33-aa0b-f20cda6580ee"
      },
      "source": [
        "#Melihat nama-nama Kolom\n",
        "df.columns.values "
      ],
      "execution_count": null,
      "outputs": [
        {
          "output_type": "execute_result",
          "data": {
            "text/plain": [
              "array(['order_id', 'order_date', 'customer_id', 'segment', 'category',\n",
              "       'sub_category', 'sales', 'quantity', 'profit'], dtype=object)"
            ]
          },
          "metadata": {
            "tags": []
          },
          "execution_count": 133
        }
      ]
    },
    {
      "cell_type": "code",
      "metadata": {
        "colab": {
          "base_uri": "https://localhost:8080/"
        },
        "id": "s6cGgCqLj5KQ",
        "outputId": "0624e6f4-5206-4621-ab91-76edaacf89ad"
      },
      "source": [
        "df.columns.values "
      ],
      "execution_count": 21,
      "outputs": [
        {
          "output_type": "execute_result",
          "data": {
            "text/plain": [
              "array(['order_id', 'order_date', 'customer_id', 'segment', 'category',\n",
              "       'sub_category', 'sales', 'quantity', 'profit'], dtype=object)"
            ]
          },
          "metadata": {
            "tags": []
          },
          "execution_count": 21
        }
      ]
    },
    {
      "cell_type": "markdown",
      "metadata": {
        "id": "xWbs3qSHg9V1"
      },
      "source": [
        "**Tipe Data Masing-masing Kolom**"
      ]
    },
    {
      "cell_type": "code",
      "metadata": {
        "colab": {
          "base_uri": "https://localhost:8080/"
        },
        "id": "Icp_y3t6qShH",
        "outputId": "8d184bf6-e5df-4944-9347-d0f0129a164c"
      },
      "source": [
        "#Melihat Tipe Data Masing-masing Kolom\n",
        "df.dtypes"
      ],
      "execution_count": null,
      "outputs": [
        {
          "output_type": "execute_result",
          "data": {
            "text/plain": [
              "order_id        object\n",
              "order_date      object\n",
              "customer_id     object\n",
              "segment         object\n",
              "category        object\n",
              "sub_category    object\n",
              "sales            int64\n",
              "quantity         int64\n",
              "profit           int64\n",
              "dtype: object"
            ]
          },
          "metadata": {
            "tags": []
          },
          "execution_count": 134
        }
      ]
    },
    {
      "cell_type": "code",
      "metadata": {
        "colab": {
          "base_uri": "https://localhost:8080/"
        },
        "id": "_ghWS3JOkVGp",
        "outputId": "f9d0abf1-5d16-46ed-ff1f-40839ddfbb17"
      },
      "source": [
        "df.dtypes"
      ],
      "execution_count": 22,
      "outputs": [
        {
          "output_type": "execute_result",
          "data": {
            "text/plain": [
              "order_id        object\n",
              "order_date      object\n",
              "customer_id     object\n",
              "segment         object\n",
              "category        object\n",
              "sub_category    object\n",
              "sales            int64\n",
              "quantity         int64\n",
              "profit           int64\n",
              "dtype: object"
            ]
          },
          "metadata": {
            "tags": []
          },
          "execution_count": 22
        }
      ]
    },
    {
      "cell_type": "code",
      "metadata": {
        "colab": {
          "base_uri": "https://localhost:8080/"
        },
        "id": "PIFmlMNohEQe",
        "outputId": "1ff8689c-1675-470c-9c0c-e64ce51a5820"
      },
      "source": [
        "#Melihat Tipe Data Masing-masing Kolom dengan lebih lengkap\n",
        "df.info()"
      ],
      "execution_count": null,
      "outputs": [
        {
          "output_type": "stream",
          "text": [
            "<class 'pandas.core.frame.DataFrame'>\n",
            "RangeIndex: 9988 entries, 0 to 9987\n",
            "Data columns (total 9 columns):\n",
            " #   Column        Non-Null Count  Dtype \n",
            "---  ------        --------------  ----- \n",
            " 0   order_id      9988 non-null   object\n",
            " 1   order_date    9988 non-null   object\n",
            " 2   customer_id   9988 non-null   object\n",
            " 3   segment       9988 non-null   object\n",
            " 4   category      9988 non-null   object\n",
            " 5   sub_category  9988 non-null   object\n",
            " 6   sales         9988 non-null   int64 \n",
            " 7   quantity      9988 non-null   int64 \n",
            " 8   profit        9988 non-null   int64 \n",
            "dtypes: int64(3), object(6)\n",
            "memory usage: 702.4+ KB\n"
          ],
          "name": "stdout"
        }
      ]
    },
    {
      "cell_type": "code",
      "metadata": {
        "colab": {
          "base_uri": "https://localhost:8080/"
        },
        "id": "GGw1z7VukbWA",
        "outputId": "ac375fc7-ba7a-4c36-9ac8-ce7e4a367604"
      },
      "source": [
        "df.info()"
      ],
      "execution_count": 23,
      "outputs": [
        {
          "output_type": "stream",
          "text": [
            "<class 'pandas.core.frame.DataFrame'>\n",
            "RangeIndex: 9988 entries, 0 to 9987\n",
            "Data columns (total 9 columns):\n",
            " #   Column        Non-Null Count  Dtype \n",
            "---  ------        --------------  ----- \n",
            " 0   order_id      9988 non-null   object\n",
            " 1   order_date    9988 non-null   object\n",
            " 2   customer_id   9988 non-null   object\n",
            " 3   segment       9988 non-null   object\n",
            " 4   category      9988 non-null   object\n",
            " 5   sub_category  9988 non-null   object\n",
            " 6   sales         9988 non-null   int64 \n",
            " 7   quantity      9988 non-null   int64 \n",
            " 8   profit        9988 non-null   int64 \n",
            "dtypes: int64(3), object(6)\n",
            "memory usage: 702.4+ KB\n"
          ],
          "name": "stdout"
        }
      ]
    },
    {
      "cell_type": "markdown",
      "metadata": {
        "id": "rjhfy4-fhX90"
      },
      "source": [
        "**Describe**"
      ]
    },
    {
      "cell_type": "code",
      "metadata": {
        "colab": {
          "base_uri": "https://localhost:8080/",
          "height": 294
        },
        "id": "S4RGqRPOhZ_F",
        "outputId": "1cfd06c2-794b-447c-f19a-3ae6650b575b"
      },
      "source": [
        "#Melihat statistik masing-masing kolom bertipe numerik\n",
        "df.describe()"
      ],
      "execution_count": null,
      "outputs": [
        {
          "output_type": "execute_result",
          "data": {
            "text/html": [
              "<div>\n",
              "<style scoped>\n",
              "    .dataframe tbody tr th:only-of-type {\n",
              "        vertical-align: middle;\n",
              "    }\n",
              "\n",
              "    .dataframe tbody tr th {\n",
              "        vertical-align: top;\n",
              "    }\n",
              "\n",
              "    .dataframe thead th {\n",
              "        text-align: right;\n",
              "    }\n",
              "</style>\n",
              "<table border=\"1\" class=\"dataframe\">\n",
              "  <thead>\n",
              "    <tr style=\"text-align: right;\">\n",
              "      <th></th>\n",
              "      <th>sales</th>\n",
              "      <th>quantity</th>\n",
              "      <th>profit</th>\n",
              "    </tr>\n",
              "  </thead>\n",
              "  <tbody>\n",
              "    <tr>\n",
              "      <th>count</th>\n",
              "      <td>9.988000e+03</td>\n",
              "      <td>9988.000000</td>\n",
              "      <td>9.988000e+03</td>\n",
              "    </tr>\n",
              "    <tr>\n",
              "      <th>mean</th>\n",
              "      <td>1.110761e+05</td>\n",
              "      <td>3.789147</td>\n",
              "      <td>1.661381e+05</td>\n",
              "    </tr>\n",
              "    <tr>\n",
              "      <th>std</th>\n",
              "      <td>5.038903e+05</td>\n",
              "      <td>2.225586</td>\n",
              "      <td>1.438964e+06</td>\n",
              "    </tr>\n",
              "    <tr>\n",
              "      <th>min</th>\n",
              "      <td>3.000000e+00</td>\n",
              "      <td>1.000000</td>\n",
              "      <td>-3.839990e+07</td>\n",
              "    </tr>\n",
              "    <tr>\n",
              "      <th>25%</th>\n",
              "      <td>2.512000e+03</td>\n",
              "      <td>2.000000</td>\n",
              "      <td>2.245000e+03</td>\n",
              "    </tr>\n",
              "    <tr>\n",
              "      <th>50%</th>\n",
              "      <td>1.102150e+04</td>\n",
              "      <td>3.000000</td>\n",
              "      <td>3.629500e+04</td>\n",
              "    </tr>\n",
              "    <tr>\n",
              "      <th>75%</th>\n",
              "      <td>5.390700e+04</td>\n",
              "      <td>5.000000</td>\n",
              "      <td>1.509840e+05</td>\n",
              "    </tr>\n",
              "    <tr>\n",
              "      <th>max</th>\n",
              "      <td>2.396266e+07</td>\n",
              "      <td>14.000000</td>\n",
              "      <td>4.630476e+07</td>\n",
              "    </tr>\n",
              "  </tbody>\n",
              "</table>\n",
              "</div>"
            ],
            "text/plain": [
              "              sales     quantity        profit\n",
              "count  9.988000e+03  9988.000000  9.988000e+03\n",
              "mean   1.110761e+05     3.789147  1.661381e+05\n",
              "std    5.038903e+05     2.225586  1.438964e+06\n",
              "min    3.000000e+00     1.000000 -3.839990e+07\n",
              "25%    2.512000e+03     2.000000  2.245000e+03\n",
              "50%    1.102150e+04     3.000000  3.629500e+04\n",
              "75%    5.390700e+04     5.000000  1.509840e+05\n",
              "max    2.396266e+07    14.000000  4.630476e+07"
            ]
          },
          "metadata": {
            "tags": []
          },
          "execution_count": 136
        }
      ]
    },
    {
      "cell_type": "code",
      "metadata": {
        "colab": {
          "base_uri": "https://localhost:8080/",
          "height": 297
        },
        "id": "4XtWPf0ykioQ",
        "outputId": "124e1138-d606-4b9d-eccd-cc9049e4e668"
      },
      "source": [
        "df.describe()"
      ],
      "execution_count": 24,
      "outputs": [
        {
          "output_type": "execute_result",
          "data": {
            "text/html": [
              "<div>\n",
              "<style scoped>\n",
              "    .dataframe tbody tr th:only-of-type {\n",
              "        vertical-align: middle;\n",
              "    }\n",
              "\n",
              "    .dataframe tbody tr th {\n",
              "        vertical-align: top;\n",
              "    }\n",
              "\n",
              "    .dataframe thead th {\n",
              "        text-align: right;\n",
              "    }\n",
              "</style>\n",
              "<table border=\"1\" class=\"dataframe\">\n",
              "  <thead>\n",
              "    <tr style=\"text-align: right;\">\n",
              "      <th></th>\n",
              "      <th>sales</th>\n",
              "      <th>quantity</th>\n",
              "      <th>profit</th>\n",
              "    </tr>\n",
              "  </thead>\n",
              "  <tbody>\n",
              "    <tr>\n",
              "      <th>count</th>\n",
              "      <td>9.988000e+03</td>\n",
              "      <td>9988.000000</td>\n",
              "      <td>9.988000e+03</td>\n",
              "    </tr>\n",
              "    <tr>\n",
              "      <th>mean</th>\n",
              "      <td>1.110761e+05</td>\n",
              "      <td>3.789147</td>\n",
              "      <td>1.661381e+05</td>\n",
              "    </tr>\n",
              "    <tr>\n",
              "      <th>std</th>\n",
              "      <td>5.038903e+05</td>\n",
              "      <td>2.225586</td>\n",
              "      <td>1.438964e+06</td>\n",
              "    </tr>\n",
              "    <tr>\n",
              "      <th>min</th>\n",
              "      <td>3.000000e+00</td>\n",
              "      <td>1.000000</td>\n",
              "      <td>-3.839990e+07</td>\n",
              "    </tr>\n",
              "    <tr>\n",
              "      <th>25%</th>\n",
              "      <td>2.512000e+03</td>\n",
              "      <td>2.000000</td>\n",
              "      <td>2.245000e+03</td>\n",
              "    </tr>\n",
              "    <tr>\n",
              "      <th>50%</th>\n",
              "      <td>1.102150e+04</td>\n",
              "      <td>3.000000</td>\n",
              "      <td>3.629500e+04</td>\n",
              "    </tr>\n",
              "    <tr>\n",
              "      <th>75%</th>\n",
              "      <td>5.390700e+04</td>\n",
              "      <td>5.000000</td>\n",
              "      <td>1.509840e+05</td>\n",
              "    </tr>\n",
              "    <tr>\n",
              "      <th>max</th>\n",
              "      <td>2.396266e+07</td>\n",
              "      <td>14.000000</td>\n",
              "      <td>4.630476e+07</td>\n",
              "    </tr>\n",
              "  </tbody>\n",
              "</table>\n",
              "</div>"
            ],
            "text/plain": [
              "              sales     quantity        profit\n",
              "count  9.988000e+03  9988.000000  9.988000e+03\n",
              "mean   1.110761e+05     3.789147  1.661381e+05\n",
              "std    5.038903e+05     2.225586  1.438964e+06\n",
              "min    3.000000e+00     1.000000 -3.839990e+07\n",
              "25%    2.512000e+03     2.000000  2.245000e+03\n",
              "50%    1.102150e+04     3.000000  3.629500e+04\n",
              "75%    5.390700e+04     5.000000  1.509840e+05\n",
              "max    2.396266e+07    14.000000  4.630476e+07"
            ]
          },
          "metadata": {
            "tags": []
          },
          "execution_count": 24
        }
      ]
    },
    {
      "cell_type": "markdown",
      "metadata": {
        "id": "XziusGcaiUrI"
      },
      "source": [
        "### Akses Data Frame(Slicing)"
      ]
    },
    {
      "cell_type": "markdown",
      "metadata": {
        "id": "nVFCQIH2iZDg"
      },
      "source": [
        "**Mengakses DataFrame Berdasarkan Baris**"
      ]
    },
    {
      "cell_type": "code",
      "metadata": {
        "colab": {
          "base_uri": "https://localhost:8080/",
          "height": 355
        },
        "id": "xTPsqGGLid8i",
        "outputId": "7d5096b5-22c3-4db6-e85b-5b04e075dad6"
      },
      "source": [
        "df[0:10] #Mengakses data Frame dari baris pertama sampai baris ke 10(indeks 0 sampai indeks sebelum 10)"
      ],
      "execution_count": null,
      "outputs": [
        {
          "output_type": "execute_result",
          "data": {
            "text/html": [
              "<div>\n",
              "<style scoped>\n",
              "    .dataframe tbody tr th:only-of-type {\n",
              "        vertical-align: middle;\n",
              "    }\n",
              "\n",
              "    .dataframe tbody tr th {\n",
              "        vertical-align: top;\n",
              "    }\n",
              "\n",
              "    .dataframe thead th {\n",
              "        text-align: right;\n",
              "    }\n",
              "</style>\n",
              "<table border=\"1\" class=\"dataframe\">\n",
              "  <thead>\n",
              "    <tr style=\"text-align: right;\">\n",
              "      <th></th>\n",
              "      <th>order_id</th>\n",
              "      <th>order_date</th>\n",
              "      <th>customer_id</th>\n",
              "      <th>segment</th>\n",
              "      <th>category</th>\n",
              "      <th>sub_category</th>\n",
              "      <th>sales</th>\n",
              "      <th>quantity</th>\n",
              "      <th>profit</th>\n",
              "    </tr>\n",
              "  </thead>\n",
              "  <tbody>\n",
              "    <tr>\n",
              "      <th>0</th>\n",
              "      <td>CA-2016-152156</td>\n",
              "      <td>11/8/2016</td>\n",
              "      <td>CG-12520</td>\n",
              "      <td>Consumer</td>\n",
              "      <td>Furniture</td>\n",
              "      <td>Bookcases</td>\n",
              "      <td>26196</td>\n",
              "      <td>2</td>\n",
              "      <td>419136</td>\n",
              "    </tr>\n",
              "    <tr>\n",
              "      <th>1</th>\n",
              "      <td>CA-2016-152156</td>\n",
              "      <td>11/8/2016</td>\n",
              "      <td>CG-12520</td>\n",
              "      <td>Consumer</td>\n",
              "      <td>Furniture</td>\n",
              "      <td>Chairs</td>\n",
              "      <td>73194</td>\n",
              "      <td>3</td>\n",
              "      <td>219582</td>\n",
              "    </tr>\n",
              "    <tr>\n",
              "      <th>2</th>\n",
              "      <td>CA-2016-138688</td>\n",
              "      <td>6/12/2016</td>\n",
              "      <td>DV-13045</td>\n",
              "      <td>Corporate</td>\n",
              "      <td>Office Supplies</td>\n",
              "      <td>Labels</td>\n",
              "      <td>1462</td>\n",
              "      <td>2</td>\n",
              "      <td>68714</td>\n",
              "    </tr>\n",
              "    <tr>\n",
              "      <th>3</th>\n",
              "      <td>US-2015-108966</td>\n",
              "      <td>10/11/2015</td>\n",
              "      <td>SO-20335</td>\n",
              "      <td>Consumer</td>\n",
              "      <td>Furniture</td>\n",
              "      <td>Tables</td>\n",
              "      <td>9575775</td>\n",
              "      <td>5</td>\n",
              "      <td>-383031</td>\n",
              "    </tr>\n",
              "    <tr>\n",
              "      <th>4</th>\n",
              "      <td>US-2015-108966</td>\n",
              "      <td>10/11/2015</td>\n",
              "      <td>SO-20335</td>\n",
              "      <td>Consumer</td>\n",
              "      <td>Office Supplies</td>\n",
              "      <td>Storage</td>\n",
              "      <td>22368</td>\n",
              "      <td>2</td>\n",
              "      <td>25164</td>\n",
              "    </tr>\n",
              "    <tr>\n",
              "      <th>5</th>\n",
              "      <td>CA-2014-115812</td>\n",
              "      <td>6/9/2014</td>\n",
              "      <td>BH-11710</td>\n",
              "      <td>Consumer</td>\n",
              "      <td>Furniture</td>\n",
              "      <td>Furnishings</td>\n",
              "      <td>4886</td>\n",
              "      <td>7</td>\n",
              "      <td>141694</td>\n",
              "    </tr>\n",
              "    <tr>\n",
              "      <th>6</th>\n",
              "      <td>CA-2014-115812</td>\n",
              "      <td>6/9/2014</td>\n",
              "      <td>BH-11710</td>\n",
              "      <td>Consumer</td>\n",
              "      <td>Office Supplies</td>\n",
              "      <td>Art</td>\n",
              "      <td>728</td>\n",
              "      <td>4</td>\n",
              "      <td>19656</td>\n",
              "    </tr>\n",
              "    <tr>\n",
              "      <th>7</th>\n",
              "      <td>CA-2014-115812</td>\n",
              "      <td>6/9/2014</td>\n",
              "      <td>BH-11710</td>\n",
              "      <td>Consumer</td>\n",
              "      <td>Technology</td>\n",
              "      <td>Phones</td>\n",
              "      <td>907152</td>\n",
              "      <td>6</td>\n",
              "      <td>907152</td>\n",
              "    </tr>\n",
              "    <tr>\n",
              "      <th>8</th>\n",
              "      <td>CA-2014-115812</td>\n",
              "      <td>6/9/2014</td>\n",
              "      <td>BH-11710</td>\n",
              "      <td>Consumer</td>\n",
              "      <td>Office Supplies</td>\n",
              "      <td>Binders</td>\n",
              "      <td>18504</td>\n",
              "      <td>3</td>\n",
              "      <td>57825</td>\n",
              "    </tr>\n",
              "    <tr>\n",
              "      <th>9</th>\n",
              "      <td>CA-2014-115812</td>\n",
              "      <td>6/9/2014</td>\n",
              "      <td>BH-11710</td>\n",
              "      <td>Consumer</td>\n",
              "      <td>Office Supplies</td>\n",
              "      <td>Appliances</td>\n",
              "      <td>1149</td>\n",
              "      <td>5</td>\n",
              "      <td>3447</td>\n",
              "    </tr>\n",
              "  </tbody>\n",
              "</table>\n",
              "</div>"
            ],
            "text/plain": [
              "         order_id  order_date customer_id  ...    sales quantity  profit\n",
              "0  CA-2016-152156   11/8/2016    CG-12520  ...    26196        2  419136\n",
              "1  CA-2016-152156   11/8/2016    CG-12520  ...    73194        3  219582\n",
              "2  CA-2016-138688   6/12/2016    DV-13045  ...     1462        2   68714\n",
              "3  US-2015-108966  10/11/2015    SO-20335  ...  9575775        5 -383031\n",
              "4  US-2015-108966  10/11/2015    SO-20335  ...    22368        2   25164\n",
              "5  CA-2014-115812    6/9/2014    BH-11710  ...     4886        7  141694\n",
              "6  CA-2014-115812    6/9/2014    BH-11710  ...      728        4   19656\n",
              "7  CA-2014-115812    6/9/2014    BH-11710  ...   907152        6  907152\n",
              "8  CA-2014-115812    6/9/2014    BH-11710  ...    18504        3   57825\n",
              "9  CA-2014-115812    6/9/2014    BH-11710  ...     1149        5    3447\n",
              "\n",
              "[10 rows x 9 columns]"
            ]
          },
          "metadata": {
            "tags": []
          },
          "execution_count": 137
        }
      ]
    },
    {
      "cell_type": "code",
      "metadata": {
        "colab": {
          "base_uri": "https://localhost:8080/",
          "height": 266
        },
        "id": "quz_9DihkpoM",
        "outputId": "270ff251-fc63-4e9a-a064-a7cf50a32842"
      },
      "source": [
        "df[0:7]"
      ],
      "execution_count": 25,
      "outputs": [
        {
          "output_type": "execute_result",
          "data": {
            "text/html": [
              "<div>\n",
              "<style scoped>\n",
              "    .dataframe tbody tr th:only-of-type {\n",
              "        vertical-align: middle;\n",
              "    }\n",
              "\n",
              "    .dataframe tbody tr th {\n",
              "        vertical-align: top;\n",
              "    }\n",
              "\n",
              "    .dataframe thead th {\n",
              "        text-align: right;\n",
              "    }\n",
              "</style>\n",
              "<table border=\"1\" class=\"dataframe\">\n",
              "  <thead>\n",
              "    <tr style=\"text-align: right;\">\n",
              "      <th></th>\n",
              "      <th>order_id</th>\n",
              "      <th>order_date</th>\n",
              "      <th>customer_id</th>\n",
              "      <th>segment</th>\n",
              "      <th>category</th>\n",
              "      <th>sub_category</th>\n",
              "      <th>sales</th>\n",
              "      <th>quantity</th>\n",
              "      <th>profit</th>\n",
              "    </tr>\n",
              "  </thead>\n",
              "  <tbody>\n",
              "    <tr>\n",
              "      <th>0</th>\n",
              "      <td>CA-2016-152156</td>\n",
              "      <td>11/8/2016</td>\n",
              "      <td>CG-12520</td>\n",
              "      <td>Consumer</td>\n",
              "      <td>Furniture</td>\n",
              "      <td>Bookcases</td>\n",
              "      <td>26196</td>\n",
              "      <td>2</td>\n",
              "      <td>419136</td>\n",
              "    </tr>\n",
              "    <tr>\n",
              "      <th>1</th>\n",
              "      <td>CA-2016-152156</td>\n",
              "      <td>11/8/2016</td>\n",
              "      <td>CG-12520</td>\n",
              "      <td>Consumer</td>\n",
              "      <td>Furniture</td>\n",
              "      <td>Chairs</td>\n",
              "      <td>73194</td>\n",
              "      <td>3</td>\n",
              "      <td>219582</td>\n",
              "    </tr>\n",
              "    <tr>\n",
              "      <th>2</th>\n",
              "      <td>CA-2016-138688</td>\n",
              "      <td>6/12/2016</td>\n",
              "      <td>DV-13045</td>\n",
              "      <td>Corporate</td>\n",
              "      <td>Office Supplies</td>\n",
              "      <td>Labels</td>\n",
              "      <td>1462</td>\n",
              "      <td>2</td>\n",
              "      <td>68714</td>\n",
              "    </tr>\n",
              "    <tr>\n",
              "      <th>3</th>\n",
              "      <td>US-2015-108966</td>\n",
              "      <td>10/11/2015</td>\n",
              "      <td>SO-20335</td>\n",
              "      <td>Consumer</td>\n",
              "      <td>Furniture</td>\n",
              "      <td>Tables</td>\n",
              "      <td>9575775</td>\n",
              "      <td>5</td>\n",
              "      <td>-383031</td>\n",
              "    </tr>\n",
              "    <tr>\n",
              "      <th>4</th>\n",
              "      <td>US-2015-108966</td>\n",
              "      <td>10/11/2015</td>\n",
              "      <td>SO-20335</td>\n",
              "      <td>Consumer</td>\n",
              "      <td>Office Supplies</td>\n",
              "      <td>Storage</td>\n",
              "      <td>22368</td>\n",
              "      <td>2</td>\n",
              "      <td>25164</td>\n",
              "    </tr>\n",
              "    <tr>\n",
              "      <th>5</th>\n",
              "      <td>CA-2014-115812</td>\n",
              "      <td>6/9/2014</td>\n",
              "      <td>BH-11710</td>\n",
              "      <td>Consumer</td>\n",
              "      <td>Furniture</td>\n",
              "      <td>Furnishings</td>\n",
              "      <td>4886</td>\n",
              "      <td>7</td>\n",
              "      <td>141694</td>\n",
              "    </tr>\n",
              "    <tr>\n",
              "      <th>6</th>\n",
              "      <td>CA-2014-115812</td>\n",
              "      <td>6/9/2014</td>\n",
              "      <td>BH-11710</td>\n",
              "      <td>Consumer</td>\n",
              "      <td>Office Supplies</td>\n",
              "      <td>Art</td>\n",
              "      <td>728</td>\n",
              "      <td>4</td>\n",
              "      <td>19656</td>\n",
              "    </tr>\n",
              "  </tbody>\n",
              "</table>\n",
              "</div>"
            ],
            "text/plain": [
              "         order_id  order_date customer_id  ...    sales quantity  profit\n",
              "0  CA-2016-152156   11/8/2016    CG-12520  ...    26196        2  419136\n",
              "1  CA-2016-152156   11/8/2016    CG-12520  ...    73194        3  219582\n",
              "2  CA-2016-138688   6/12/2016    DV-13045  ...     1462        2   68714\n",
              "3  US-2015-108966  10/11/2015    SO-20335  ...  9575775        5 -383031\n",
              "4  US-2015-108966  10/11/2015    SO-20335  ...    22368        2   25164\n",
              "5  CA-2014-115812    6/9/2014    BH-11710  ...     4886        7  141694\n",
              "6  CA-2014-115812    6/9/2014    BH-11710  ...      728        4   19656\n",
              "\n",
              "[7 rows x 9 columns]"
            ]
          },
          "metadata": {
            "tags": []
          },
          "execution_count": 25
        }
      ]
    },
    {
      "cell_type": "markdown",
      "metadata": {
        "id": "esoi8AOekonn"
      },
      "source": [
        "**Mengakses DataFrame Berdasarkan Nama Kolom**"
      ]
    },
    {
      "cell_type": "code",
      "metadata": {
        "colab": {
          "base_uri": "https://localhost:8080/"
        },
        "id": "lwO9nZvQktn_",
        "outputId": "e3c7403e-4dfd-4aec-f840-5d205cad08a6"
      },
      "source": [
        "#Mengakses 1 kolom pada Data Frame, Hasilnya berupa Series\n",
        "df['profit'] "
      ],
      "execution_count": null,
      "outputs": [
        {
          "output_type": "execute_result",
          "data": {
            "text/plain": [
              "0       419136\n",
              "1       219582\n",
              "2        68714\n",
              "3      -383031\n",
              "4        25164\n",
              "         ...  \n",
              "9983     41028\n",
              "9984    156332\n",
              "9985    193932\n",
              "9986      1332\n",
              "9987     72948\n",
              "Name: profit, Length: 9988, dtype: int64"
            ]
          },
          "metadata": {
            "tags": []
          },
          "execution_count": 138
        }
      ]
    },
    {
      "cell_type": "code",
      "metadata": {
        "colab": {
          "base_uri": "https://localhost:8080/"
        },
        "id": "ccIc76VRkzIc",
        "outputId": "e3834148-43e5-4566-82b0-144112c46ec5"
      },
      "source": [
        "df['category'] "
      ],
      "execution_count": 26,
      "outputs": [
        {
          "output_type": "execute_result",
          "data": {
            "text/plain": [
              "0             Furniture\n",
              "1             Furniture\n",
              "2       Office Supplies\n",
              "3             Furniture\n",
              "4       Office Supplies\n",
              "             ...       \n",
              "9983          Furniture\n",
              "9984          Furniture\n",
              "9985         Technology\n",
              "9986    Office Supplies\n",
              "9987    Office Supplies\n",
              "Name: category, Length: 9988, dtype: object"
            ]
          },
          "metadata": {
            "tags": []
          },
          "execution_count": 26
        }
      ]
    },
    {
      "cell_type": "code",
      "metadata": {
        "colab": {
          "base_uri": "https://localhost:8080/"
        },
        "id": "3q1Gg1w8lMkp",
        "outputId": "d322fec7-1f16-4445-ce46-23fb80f6cbd6"
      },
      "source": [
        "#[Alternatif lain] Mengakses 1 kolom pada Data Frame, Hasilnya berupa Series\n",
        "df.profit "
      ],
      "execution_count": null,
      "outputs": [
        {
          "output_type": "execute_result",
          "data": {
            "text/plain": [
              "0       419136\n",
              "1       219582\n",
              "2        68714\n",
              "3      -383031\n",
              "4        25164\n",
              "         ...  \n",
              "9983     41028\n",
              "9984    156332\n",
              "9985    193932\n",
              "9986      1332\n",
              "9987     72948\n",
              "Name: profit, Length: 9988, dtype: int64"
            ]
          },
          "metadata": {
            "tags": []
          },
          "execution_count": 139
        }
      ]
    },
    {
      "cell_type": "code",
      "metadata": {
        "colab": {
          "base_uri": "https://localhost:8080/"
        },
        "id": "grdHdDx5lEof",
        "outputId": "41764279-79ff-46a5-f42c-eaa573e3e364"
      },
      "source": [
        "df.category"
      ],
      "execution_count": 27,
      "outputs": [
        {
          "output_type": "execute_result",
          "data": {
            "text/plain": [
              "0             Furniture\n",
              "1             Furniture\n",
              "2       Office Supplies\n",
              "3             Furniture\n",
              "4       Office Supplies\n",
              "             ...       \n",
              "9983          Furniture\n",
              "9984          Furniture\n",
              "9985         Technology\n",
              "9986    Office Supplies\n",
              "9987    Office Supplies\n",
              "Name: category, Length: 9988, dtype: object"
            ]
          },
          "metadata": {
            "tags": []
          },
          "execution_count": 27
        }
      ]
    },
    {
      "cell_type": "code",
      "metadata": {
        "colab": {
          "base_uri": "https://localhost:8080/",
          "height": 415
        },
        "id": "SHy3p0jTlU_e",
        "outputId": "35abe8de-fa96-445d-b818-4e46d9e667b9"
      },
      "source": [
        "#Mengakses Data Frame lebih dari 1 kolom\n",
        "df[['profit', 'customer_id']] "
      ],
      "execution_count": null,
      "outputs": [
        {
          "output_type": "execute_result",
          "data": {
            "text/html": [
              "<div>\n",
              "<style scoped>\n",
              "    .dataframe tbody tr th:only-of-type {\n",
              "        vertical-align: middle;\n",
              "    }\n",
              "\n",
              "    .dataframe tbody tr th {\n",
              "        vertical-align: top;\n",
              "    }\n",
              "\n",
              "    .dataframe thead th {\n",
              "        text-align: right;\n",
              "    }\n",
              "</style>\n",
              "<table border=\"1\" class=\"dataframe\">\n",
              "  <thead>\n",
              "    <tr style=\"text-align: right;\">\n",
              "      <th></th>\n",
              "      <th>profit</th>\n",
              "      <th>customer_id</th>\n",
              "    </tr>\n",
              "  </thead>\n",
              "  <tbody>\n",
              "    <tr>\n",
              "      <th>0</th>\n",
              "      <td>419136</td>\n",
              "      <td>CG-12520</td>\n",
              "    </tr>\n",
              "    <tr>\n",
              "      <th>1</th>\n",
              "      <td>219582</td>\n",
              "      <td>CG-12520</td>\n",
              "    </tr>\n",
              "    <tr>\n",
              "      <th>2</th>\n",
              "      <td>68714</td>\n",
              "      <td>DV-13045</td>\n",
              "    </tr>\n",
              "    <tr>\n",
              "      <th>3</th>\n",
              "      <td>-383031</td>\n",
              "      <td>SO-20335</td>\n",
              "    </tr>\n",
              "    <tr>\n",
              "      <th>4</th>\n",
              "      <td>25164</td>\n",
              "      <td>SO-20335</td>\n",
              "    </tr>\n",
              "    <tr>\n",
              "      <th>...</th>\n",
              "      <td>...</td>\n",
              "      <td>...</td>\n",
              "    </tr>\n",
              "    <tr>\n",
              "      <th>9983</th>\n",
              "      <td>41028</td>\n",
              "      <td>TB-21400</td>\n",
              "    </tr>\n",
              "    <tr>\n",
              "      <th>9984</th>\n",
              "      <td>156332</td>\n",
              "      <td>DB-13060</td>\n",
              "    </tr>\n",
              "    <tr>\n",
              "      <th>9985</th>\n",
              "      <td>193932</td>\n",
              "      <td>DB-13060</td>\n",
              "    </tr>\n",
              "    <tr>\n",
              "      <th>9986</th>\n",
              "      <td>1332</td>\n",
              "      <td>DB-13060</td>\n",
              "    </tr>\n",
              "    <tr>\n",
              "      <th>9987</th>\n",
              "      <td>72948</td>\n",
              "      <td>CC-12220</td>\n",
              "    </tr>\n",
              "  </tbody>\n",
              "</table>\n",
              "<p>9988 rows × 2 columns</p>\n",
              "</div>"
            ],
            "text/plain": [
              "      profit customer_id\n",
              "0     419136    CG-12520\n",
              "1     219582    CG-12520\n",
              "2      68714    DV-13045\n",
              "3    -383031    SO-20335\n",
              "4      25164    SO-20335\n",
              "...      ...         ...\n",
              "9983   41028    TB-21400\n",
              "9984  156332    DB-13060\n",
              "9985  193932    DB-13060\n",
              "9986    1332    DB-13060\n",
              "9987   72948    CC-12220\n",
              "\n",
              "[9988 rows x 2 columns]"
            ]
          },
          "metadata": {
            "tags": []
          },
          "execution_count": 140
        }
      ]
    },
    {
      "cell_type": "code",
      "metadata": {
        "colab": {
          "base_uri": "https://localhost:8080/",
          "height": 419
        },
        "id": "G809FXnxlKxL",
        "outputId": "46b4ac08-f7b2-4bb9-a4c5-18329b501eeb"
      },
      "source": [
        "df[['category', 'quantity']]"
      ],
      "execution_count": 28,
      "outputs": [
        {
          "output_type": "execute_result",
          "data": {
            "text/html": [
              "<div>\n",
              "<style scoped>\n",
              "    .dataframe tbody tr th:only-of-type {\n",
              "        vertical-align: middle;\n",
              "    }\n",
              "\n",
              "    .dataframe tbody tr th {\n",
              "        vertical-align: top;\n",
              "    }\n",
              "\n",
              "    .dataframe thead th {\n",
              "        text-align: right;\n",
              "    }\n",
              "</style>\n",
              "<table border=\"1\" class=\"dataframe\">\n",
              "  <thead>\n",
              "    <tr style=\"text-align: right;\">\n",
              "      <th></th>\n",
              "      <th>category</th>\n",
              "      <th>quantity</th>\n",
              "    </tr>\n",
              "  </thead>\n",
              "  <tbody>\n",
              "    <tr>\n",
              "      <th>0</th>\n",
              "      <td>Furniture</td>\n",
              "      <td>2</td>\n",
              "    </tr>\n",
              "    <tr>\n",
              "      <th>1</th>\n",
              "      <td>Furniture</td>\n",
              "      <td>3</td>\n",
              "    </tr>\n",
              "    <tr>\n",
              "      <th>2</th>\n",
              "      <td>Office Supplies</td>\n",
              "      <td>2</td>\n",
              "    </tr>\n",
              "    <tr>\n",
              "      <th>3</th>\n",
              "      <td>Furniture</td>\n",
              "      <td>5</td>\n",
              "    </tr>\n",
              "    <tr>\n",
              "      <th>4</th>\n",
              "      <td>Office Supplies</td>\n",
              "      <td>2</td>\n",
              "    </tr>\n",
              "    <tr>\n",
              "      <th>...</th>\n",
              "      <td>...</td>\n",
              "      <td>...</td>\n",
              "    </tr>\n",
              "    <tr>\n",
              "      <th>9983</th>\n",
              "      <td>Furniture</td>\n",
              "      <td>3</td>\n",
              "    </tr>\n",
              "    <tr>\n",
              "      <th>9984</th>\n",
              "      <td>Furniture</td>\n",
              "      <td>2</td>\n",
              "    </tr>\n",
              "    <tr>\n",
              "      <th>9985</th>\n",
              "      <td>Technology</td>\n",
              "      <td>2</td>\n",
              "    </tr>\n",
              "    <tr>\n",
              "      <th>9986</th>\n",
              "      <td>Office Supplies</td>\n",
              "      <td>4</td>\n",
              "    </tr>\n",
              "    <tr>\n",
              "      <th>9987</th>\n",
              "      <td>Office Supplies</td>\n",
              "      <td>2</td>\n",
              "    </tr>\n",
              "  </tbody>\n",
              "</table>\n",
              "<p>9988 rows × 2 columns</p>\n",
              "</div>"
            ],
            "text/plain": [
              "             category  quantity\n",
              "0           Furniture         2\n",
              "1           Furniture         3\n",
              "2     Office Supplies         2\n",
              "3           Furniture         5\n",
              "4     Office Supplies         2\n",
              "...               ...       ...\n",
              "9983        Furniture         3\n",
              "9984        Furniture         2\n",
              "9985       Technology         2\n",
              "9986  Office Supplies         4\n",
              "9987  Office Supplies         2\n",
              "\n",
              "[9988 rows x 2 columns]"
            ]
          },
          "metadata": {
            "tags": []
          },
          "execution_count": 28
        }
      ]
    },
    {
      "cell_type": "code",
      "metadata": {
        "colab": {
          "base_uri": "https://localhost:8080/",
          "height": 233
        },
        "id": "wW7rz_9nlrl7",
        "outputId": "305b40e3-7f6d-4b32-a5e9-83b5607350ee"
      },
      "source": [
        "#Menerapkan fungsi head pada slicing data frame\n",
        "df[['profit', 'customer_id']].head(6)"
      ],
      "execution_count": null,
      "outputs": [
        {
          "output_type": "execute_result",
          "data": {
            "text/html": [
              "<div>\n",
              "<style scoped>\n",
              "    .dataframe tbody tr th:only-of-type {\n",
              "        vertical-align: middle;\n",
              "    }\n",
              "\n",
              "    .dataframe tbody tr th {\n",
              "        vertical-align: top;\n",
              "    }\n",
              "\n",
              "    .dataframe thead th {\n",
              "        text-align: right;\n",
              "    }\n",
              "</style>\n",
              "<table border=\"1\" class=\"dataframe\">\n",
              "  <thead>\n",
              "    <tr style=\"text-align: right;\">\n",
              "      <th></th>\n",
              "      <th>profit</th>\n",
              "      <th>customer_id</th>\n",
              "    </tr>\n",
              "  </thead>\n",
              "  <tbody>\n",
              "    <tr>\n",
              "      <th>0</th>\n",
              "      <td>419136</td>\n",
              "      <td>CG-12520</td>\n",
              "    </tr>\n",
              "    <tr>\n",
              "      <th>1</th>\n",
              "      <td>219582</td>\n",
              "      <td>CG-12520</td>\n",
              "    </tr>\n",
              "    <tr>\n",
              "      <th>2</th>\n",
              "      <td>68714</td>\n",
              "      <td>DV-13045</td>\n",
              "    </tr>\n",
              "    <tr>\n",
              "      <th>3</th>\n",
              "      <td>-383031</td>\n",
              "      <td>SO-20335</td>\n",
              "    </tr>\n",
              "    <tr>\n",
              "      <th>4</th>\n",
              "      <td>25164</td>\n",
              "      <td>SO-20335</td>\n",
              "    </tr>\n",
              "    <tr>\n",
              "      <th>5</th>\n",
              "      <td>141694</td>\n",
              "      <td>BH-11710</td>\n",
              "    </tr>\n",
              "  </tbody>\n",
              "</table>\n",
              "</div>"
            ],
            "text/plain": [
              "   profit customer_id\n",
              "0  419136    CG-12520\n",
              "1  219582    CG-12520\n",
              "2   68714    DV-13045\n",
              "3 -383031    SO-20335\n",
              "4   25164    SO-20335\n",
              "5  141694    BH-11710"
            ]
          },
          "metadata": {
            "tags": []
          },
          "execution_count": 141
        }
      ]
    },
    {
      "cell_type": "code",
      "metadata": {
        "colab": {
          "base_uri": "https://localhost:8080/",
          "height": 266
        },
        "id": "MKziw8N2lqVU",
        "outputId": "de0ade33-1895-483a-f285-c8406dbfa0b2"
      },
      "source": [
        "df[['category', 'quantity']].head(7)"
      ],
      "execution_count": 29,
      "outputs": [
        {
          "output_type": "execute_result",
          "data": {
            "text/html": [
              "<div>\n",
              "<style scoped>\n",
              "    .dataframe tbody tr th:only-of-type {\n",
              "        vertical-align: middle;\n",
              "    }\n",
              "\n",
              "    .dataframe tbody tr th {\n",
              "        vertical-align: top;\n",
              "    }\n",
              "\n",
              "    .dataframe thead th {\n",
              "        text-align: right;\n",
              "    }\n",
              "</style>\n",
              "<table border=\"1\" class=\"dataframe\">\n",
              "  <thead>\n",
              "    <tr style=\"text-align: right;\">\n",
              "      <th></th>\n",
              "      <th>category</th>\n",
              "      <th>quantity</th>\n",
              "    </tr>\n",
              "  </thead>\n",
              "  <tbody>\n",
              "    <tr>\n",
              "      <th>0</th>\n",
              "      <td>Furniture</td>\n",
              "      <td>2</td>\n",
              "    </tr>\n",
              "    <tr>\n",
              "      <th>1</th>\n",
              "      <td>Furniture</td>\n",
              "      <td>3</td>\n",
              "    </tr>\n",
              "    <tr>\n",
              "      <th>2</th>\n",
              "      <td>Office Supplies</td>\n",
              "      <td>2</td>\n",
              "    </tr>\n",
              "    <tr>\n",
              "      <th>3</th>\n",
              "      <td>Furniture</td>\n",
              "      <td>5</td>\n",
              "    </tr>\n",
              "    <tr>\n",
              "      <th>4</th>\n",
              "      <td>Office Supplies</td>\n",
              "      <td>2</td>\n",
              "    </tr>\n",
              "    <tr>\n",
              "      <th>5</th>\n",
              "      <td>Furniture</td>\n",
              "      <td>7</td>\n",
              "    </tr>\n",
              "    <tr>\n",
              "      <th>6</th>\n",
              "      <td>Office Supplies</td>\n",
              "      <td>4</td>\n",
              "    </tr>\n",
              "  </tbody>\n",
              "</table>\n",
              "</div>"
            ],
            "text/plain": [
              "          category  quantity\n",
              "0        Furniture         2\n",
              "1        Furniture         3\n",
              "2  Office Supplies         2\n",
              "3        Furniture         5\n",
              "4  Office Supplies         2\n",
              "5        Furniture         7\n",
              "6  Office Supplies         4"
            ]
          },
          "metadata": {
            "tags": []
          },
          "execution_count": 29
        }
      ]
    },
    {
      "cell_type": "code",
      "metadata": {
        "colab": {
          "base_uri": "https://localhost:8080/",
          "height": 35
        },
        "id": "R3RQANhql21P",
        "outputId": "5802aa45-903f-4445-8427-6d74f6a650cf"
      },
      "source": [
        "#Mengakses data frame pada baris dan kolom tertentu\n",
        "df.iloc[0,2]"
      ],
      "execution_count": null,
      "outputs": [
        {
          "output_type": "execute_result",
          "data": {
            "application/vnd.google.colaboratory.intrinsic+json": {
              "type": "string"
            },
            "text/plain": [
              "'CG-12520'"
            ]
          },
          "metadata": {
            "tags": []
          },
          "execution_count": 142
        }
      ]
    },
    {
      "cell_type": "code",
      "metadata": {
        "colab": {
          "base_uri": "https://localhost:8080/",
          "height": 35
        },
        "id": "lp5SWdgIl3pQ",
        "outputId": "9412dcf2-2581-4182-c48e-29f319d77bae"
      },
      "source": [
        "df.iloc[2,2]"
      ],
      "execution_count": 32,
      "outputs": [
        {
          "output_type": "execute_result",
          "data": {
            "application/vnd.google.colaboratory.intrinsic+json": {
              "type": "string"
            },
            "text/plain": [
              "'DV-13045'"
            ]
          },
          "metadata": {
            "tags": []
          },
          "execution_count": 32
        }
      ]
    },
    {
      "cell_type": "code",
      "metadata": {
        "colab": {
          "base_uri": "https://localhost:8080/",
          "height": 355
        },
        "id": "CKLoge1Fl-b2",
        "outputId": "28a5ec9e-2d83-493f-cc7d-ac9d5df1f144"
      },
      "source": [
        "#Mengakses data frame pada baris dan kolom tertentu [Bentuk Interval]\n",
        "df.iloc[0:10,2:5]"
      ],
      "execution_count": null,
      "outputs": [
        {
          "output_type": "execute_result",
          "data": {
            "text/html": [
              "<div>\n",
              "<style scoped>\n",
              "    .dataframe tbody tr th:only-of-type {\n",
              "        vertical-align: middle;\n",
              "    }\n",
              "\n",
              "    .dataframe tbody tr th {\n",
              "        vertical-align: top;\n",
              "    }\n",
              "\n",
              "    .dataframe thead th {\n",
              "        text-align: right;\n",
              "    }\n",
              "</style>\n",
              "<table border=\"1\" class=\"dataframe\">\n",
              "  <thead>\n",
              "    <tr style=\"text-align: right;\">\n",
              "      <th></th>\n",
              "      <th>customer_id</th>\n",
              "      <th>segment</th>\n",
              "      <th>category</th>\n",
              "    </tr>\n",
              "  </thead>\n",
              "  <tbody>\n",
              "    <tr>\n",
              "      <th>0</th>\n",
              "      <td>CG-12520</td>\n",
              "      <td>Consumer</td>\n",
              "      <td>Furniture</td>\n",
              "    </tr>\n",
              "    <tr>\n",
              "      <th>1</th>\n",
              "      <td>CG-12520</td>\n",
              "      <td>Consumer</td>\n",
              "      <td>Furniture</td>\n",
              "    </tr>\n",
              "    <tr>\n",
              "      <th>2</th>\n",
              "      <td>DV-13045</td>\n",
              "      <td>Corporate</td>\n",
              "      <td>Office Supplies</td>\n",
              "    </tr>\n",
              "    <tr>\n",
              "      <th>3</th>\n",
              "      <td>SO-20335</td>\n",
              "      <td>Consumer</td>\n",
              "      <td>Furniture</td>\n",
              "    </tr>\n",
              "    <tr>\n",
              "      <th>4</th>\n",
              "      <td>SO-20335</td>\n",
              "      <td>Consumer</td>\n",
              "      <td>Office Supplies</td>\n",
              "    </tr>\n",
              "    <tr>\n",
              "      <th>5</th>\n",
              "      <td>BH-11710</td>\n",
              "      <td>Consumer</td>\n",
              "      <td>Furniture</td>\n",
              "    </tr>\n",
              "    <tr>\n",
              "      <th>6</th>\n",
              "      <td>BH-11710</td>\n",
              "      <td>Consumer</td>\n",
              "      <td>Office Supplies</td>\n",
              "    </tr>\n",
              "    <tr>\n",
              "      <th>7</th>\n",
              "      <td>BH-11710</td>\n",
              "      <td>Consumer</td>\n",
              "      <td>Technology</td>\n",
              "    </tr>\n",
              "    <tr>\n",
              "      <th>8</th>\n",
              "      <td>BH-11710</td>\n",
              "      <td>Consumer</td>\n",
              "      <td>Office Supplies</td>\n",
              "    </tr>\n",
              "    <tr>\n",
              "      <th>9</th>\n",
              "      <td>BH-11710</td>\n",
              "      <td>Consumer</td>\n",
              "      <td>Office Supplies</td>\n",
              "    </tr>\n",
              "  </tbody>\n",
              "</table>\n",
              "</div>"
            ],
            "text/plain": [
              "  customer_id    segment         category\n",
              "0    CG-12520   Consumer        Furniture\n",
              "1    CG-12520   Consumer        Furniture\n",
              "2    DV-13045  Corporate  Office Supplies\n",
              "3    SO-20335   Consumer        Furniture\n",
              "4    SO-20335   Consumer  Office Supplies\n",
              "5    BH-11710   Consumer        Furniture\n",
              "6    BH-11710   Consumer  Office Supplies\n",
              "7    BH-11710   Consumer       Technology\n",
              "8    BH-11710   Consumer  Office Supplies\n",
              "9    BH-11710   Consumer  Office Supplies"
            ]
          },
          "metadata": {
            "tags": []
          },
          "execution_count": 143
        }
      ]
    },
    {
      "cell_type": "code",
      "metadata": {
        "colab": {
          "base_uri": "https://localhost:8080/",
          "height": 266
        },
        "id": "V4x9GBxTmosc",
        "outputId": "6d778d1e-6b9c-4fe6-e9ac-389b0ac899aa"
      },
      "source": [
        "df.iloc[0:7,4:7]"
      ],
      "execution_count": 33,
      "outputs": [
        {
          "output_type": "execute_result",
          "data": {
            "text/html": [
              "<div>\n",
              "<style scoped>\n",
              "    .dataframe tbody tr th:only-of-type {\n",
              "        vertical-align: middle;\n",
              "    }\n",
              "\n",
              "    .dataframe tbody tr th {\n",
              "        vertical-align: top;\n",
              "    }\n",
              "\n",
              "    .dataframe thead th {\n",
              "        text-align: right;\n",
              "    }\n",
              "</style>\n",
              "<table border=\"1\" class=\"dataframe\">\n",
              "  <thead>\n",
              "    <tr style=\"text-align: right;\">\n",
              "      <th></th>\n",
              "      <th>category</th>\n",
              "      <th>sub_category</th>\n",
              "      <th>sales</th>\n",
              "    </tr>\n",
              "  </thead>\n",
              "  <tbody>\n",
              "    <tr>\n",
              "      <th>0</th>\n",
              "      <td>Furniture</td>\n",
              "      <td>Bookcases</td>\n",
              "      <td>26196</td>\n",
              "    </tr>\n",
              "    <tr>\n",
              "      <th>1</th>\n",
              "      <td>Furniture</td>\n",
              "      <td>Chairs</td>\n",
              "      <td>73194</td>\n",
              "    </tr>\n",
              "    <tr>\n",
              "      <th>2</th>\n",
              "      <td>Office Supplies</td>\n",
              "      <td>Labels</td>\n",
              "      <td>1462</td>\n",
              "    </tr>\n",
              "    <tr>\n",
              "      <th>3</th>\n",
              "      <td>Furniture</td>\n",
              "      <td>Tables</td>\n",
              "      <td>9575775</td>\n",
              "    </tr>\n",
              "    <tr>\n",
              "      <th>4</th>\n",
              "      <td>Office Supplies</td>\n",
              "      <td>Storage</td>\n",
              "      <td>22368</td>\n",
              "    </tr>\n",
              "    <tr>\n",
              "      <th>5</th>\n",
              "      <td>Furniture</td>\n",
              "      <td>Furnishings</td>\n",
              "      <td>4886</td>\n",
              "    </tr>\n",
              "    <tr>\n",
              "      <th>6</th>\n",
              "      <td>Office Supplies</td>\n",
              "      <td>Art</td>\n",
              "      <td>728</td>\n",
              "    </tr>\n",
              "  </tbody>\n",
              "</table>\n",
              "</div>"
            ],
            "text/plain": [
              "          category sub_category    sales\n",
              "0        Furniture    Bookcases    26196\n",
              "1        Furniture       Chairs    73194\n",
              "2  Office Supplies       Labels     1462\n",
              "3        Furniture       Tables  9575775\n",
              "4  Office Supplies      Storage    22368\n",
              "5        Furniture  Furnishings     4886\n",
              "6  Office Supplies          Art      728"
            ]
          },
          "metadata": {
            "tags": []
          },
          "execution_count": 33
        }
      ]
    },
    {
      "cell_type": "code",
      "metadata": {
        "colab": {
          "base_uri": "https://localhost:8080/"
        },
        "id": "F4xVPDttmOIo",
        "outputId": "f6a1b17b-5003-4500-a5c3-0e9c98be9b2c"
      },
      "source": [
        "#Mengakses data pada kolom tertentu dengan kriteria tertentu\n",
        "print(df[df['profit']>=68714])\n",
        "\n",
        "print(df['profit'].max())"
      ],
      "execution_count": null,
      "outputs": [
        {
          "output_type": "stream",
          "text": [
            "            order_id  order_date customer_id  ...   sales quantity  profit\n",
            "0     CA-2016-152156   11/8/2016    CG-12520  ...   26196        2  419136\n",
            "1     CA-2016-152156   11/8/2016    CG-12520  ...   73194        3  219582\n",
            "2     CA-2016-138688   6/12/2016    DV-13045  ...    1462        2   68714\n",
            "5     CA-2014-115812    6/9/2014    BH-11710  ...    4886        7  141694\n",
            "7     CA-2014-115812    6/9/2014    BH-11710  ...  907152        6  907152\n",
            "...              ...         ...         ...  ...     ...      ...     ...\n",
            "9980  CA-2016-125794   9/29/2016    ML-17410  ...    3624        1  152208\n",
            "9981  CA-2017-163629  11/17/2017    RA-19885  ...    7999        1  287964\n",
            "9984  CA-2017-121258   2/26/2017    DB-13060  ...    9196        2  156332\n",
            "9985  CA-2017-121258   2/26/2017    DB-13060  ...  258576        2  193932\n",
            "9987  CA-2017-119914    5/4/2017    CC-12220  ...   24316        2   72948\n",
            "\n",
            "[3854 rows x 9 columns]\n",
            "46304755\n"
          ],
          "name": "stdout"
        }
      ]
    },
    {
      "cell_type": "code",
      "metadata": {
        "colab": {
          "base_uri": "https://localhost:8080/"
        },
        "id": "8xjN2B6FnN1k",
        "outputId": "ea7c1478-129b-4586-93e5-3cb7ce3eb645"
      },
      "source": [
        "print(df[df['sales']>=70000])\n",
        "\n",
        "print(df['sales'].max())"
      ],
      "execution_count": 34,
      "outputs": [
        {
          "output_type": "stream",
          "text": [
            "            order_id  order_date customer_id  ...    sales quantity   profit\n",
            "1     CA-2016-152156   11/8/2016    CG-12520  ...    73194        3   219582\n",
            "3     US-2015-108966  10/11/2015    SO-20335  ...  9575775        5  -383031\n",
            "7     CA-2014-115812    6/9/2014    BH-11710  ...   907152        6   907152\n",
            "10    CA-2014-115812    6/9/2014    BH-11710  ...  1706184        9   853092\n",
            "11    CA-2014-115812    6/9/2014    BH-11710  ...   911424        4   683568\n",
            "...              ...         ...         ...  ...      ...      ...      ...\n",
            "9962  CA-2017-153871  12/11/2017    RB-19435  ...    73598        2   331191\n",
            "9966  CA-2016-130225   9/11/2016    RC-19960  ...    99568        2   336042\n",
            "9970  US-2016-103674   12/6/2016    AP-10720  ...   249584        2    31198\n",
            "9973  US-2016-103674   12/6/2016    AP-10720  ...   437472       14  1531152\n",
            "9985  CA-2017-121258   2/26/2017    DB-13060  ...   258576        2   193932\n",
            "\n",
            "[2152 rows x 9 columns]\n",
            "23962656\n"
          ],
          "name": "stdout"
        }
      ]
    },
    {
      "cell_type": "code",
      "metadata": {
        "colab": {
          "base_uri": "https://localhost:8080/"
        },
        "id": "NGcsH8axm0pc",
        "outputId": "2abc366d-5791-4438-fbbe-0d3852cd6ea7"
      },
      "source": [
        "#Memperoleh indeks hasil pencarian data dengan kriteria tertentu\n",
        "max_profit=df['profit'].max()\n",
        "df.index[df['profit'] == max_profit].tolist()"
      ],
      "execution_count": null,
      "outputs": [
        {
          "output_type": "execute_result",
          "data": {
            "text/plain": [
              "[4096]"
            ]
          },
          "metadata": {
            "tags": []
          },
          "execution_count": 145
        }
      ]
    },
    {
      "cell_type": "code",
      "metadata": {
        "colab": {
          "base_uri": "https://localhost:8080/"
        },
        "id": "xyoRsVyeoXfj",
        "outputId": "acf96b67-1ce6-4813-a6df-bb47789746f8"
      },
      "source": [
        "max_sales=df['sales'].max()\n",
        "df.index[df['sales'] == max_sales].tolist()"
      ],
      "execution_count": 35,
      "outputs": [
        {
          "output_type": "execute_result",
          "data": {
            "text/plain": [
              "[399]"
            ]
          },
          "metadata": {
            "tags": []
          },
          "execution_count": 35
        }
      ]
    },
    {
      "cell_type": "code",
      "metadata": {
        "colab": {
          "base_uri": "https://localhost:8080/",
          "height": 415
        },
        "id": "HAPMmsgh1Y5P",
        "outputId": "29dbdc5d-bac2-4af9-9aae-ce097c348b5f"
      },
      "source": [
        "#Memperoleh indeks hasil pencarian data dengan kriteria tertentu (Menggunakan And)\n",
        "df[(df['profit']>=68714) & (df['quantity']>=2)]"
      ],
      "execution_count": null,
      "outputs": [
        {
          "output_type": "execute_result",
          "data": {
            "text/html": [
              "<div>\n",
              "<style scoped>\n",
              "    .dataframe tbody tr th:only-of-type {\n",
              "        vertical-align: middle;\n",
              "    }\n",
              "\n",
              "    .dataframe tbody tr th {\n",
              "        vertical-align: top;\n",
              "    }\n",
              "\n",
              "    .dataframe thead th {\n",
              "        text-align: right;\n",
              "    }\n",
              "</style>\n",
              "<table border=\"1\" class=\"dataframe\">\n",
              "  <thead>\n",
              "    <tr style=\"text-align: right;\">\n",
              "      <th></th>\n",
              "      <th>order_id</th>\n",
              "      <th>order_date</th>\n",
              "      <th>customer_id</th>\n",
              "      <th>segment</th>\n",
              "      <th>category</th>\n",
              "      <th>sub_category</th>\n",
              "      <th>sales</th>\n",
              "      <th>quantity</th>\n",
              "      <th>profit</th>\n",
              "    </tr>\n",
              "  </thead>\n",
              "  <tbody>\n",
              "    <tr>\n",
              "      <th>0</th>\n",
              "      <td>CA-2016-152156</td>\n",
              "      <td>11/8/2016</td>\n",
              "      <td>CG-12520</td>\n",
              "      <td>Consumer</td>\n",
              "      <td>Furniture</td>\n",
              "      <td>Bookcases</td>\n",
              "      <td>26196</td>\n",
              "      <td>2</td>\n",
              "      <td>419136</td>\n",
              "    </tr>\n",
              "    <tr>\n",
              "      <th>1</th>\n",
              "      <td>CA-2016-152156</td>\n",
              "      <td>11/8/2016</td>\n",
              "      <td>CG-12520</td>\n",
              "      <td>Consumer</td>\n",
              "      <td>Furniture</td>\n",
              "      <td>Chairs</td>\n",
              "      <td>73194</td>\n",
              "      <td>3</td>\n",
              "      <td>219582</td>\n",
              "    </tr>\n",
              "    <tr>\n",
              "      <th>2</th>\n",
              "      <td>CA-2016-138688</td>\n",
              "      <td>6/12/2016</td>\n",
              "      <td>DV-13045</td>\n",
              "      <td>Corporate</td>\n",
              "      <td>Office Supplies</td>\n",
              "      <td>Labels</td>\n",
              "      <td>1462</td>\n",
              "      <td>2</td>\n",
              "      <td>68714</td>\n",
              "    </tr>\n",
              "    <tr>\n",
              "      <th>5</th>\n",
              "      <td>CA-2014-115812</td>\n",
              "      <td>6/9/2014</td>\n",
              "      <td>BH-11710</td>\n",
              "      <td>Consumer</td>\n",
              "      <td>Furniture</td>\n",
              "      <td>Furnishings</td>\n",
              "      <td>4886</td>\n",
              "      <td>7</td>\n",
              "      <td>141694</td>\n",
              "    </tr>\n",
              "    <tr>\n",
              "      <th>7</th>\n",
              "      <td>CA-2014-115812</td>\n",
              "      <td>6/9/2014</td>\n",
              "      <td>BH-11710</td>\n",
              "      <td>Consumer</td>\n",
              "      <td>Technology</td>\n",
              "      <td>Phones</td>\n",
              "      <td>907152</td>\n",
              "      <td>6</td>\n",
              "      <td>907152</td>\n",
              "    </tr>\n",
              "    <tr>\n",
              "      <th>...</th>\n",
              "      <td>...</td>\n",
              "      <td>...</td>\n",
              "      <td>...</td>\n",
              "      <td>...</td>\n",
              "      <td>...</td>\n",
              "      <td>...</td>\n",
              "      <td>...</td>\n",
              "      <td>...</td>\n",
              "      <td>...</td>\n",
              "    </tr>\n",
              "    <tr>\n",
              "      <th>9976</th>\n",
              "      <td>US-2016-157728</td>\n",
              "      <td>9/22/2016</td>\n",
              "      <td>RC-19960</td>\n",
              "      <td>Consumer</td>\n",
              "      <td>Office Supplies</td>\n",
              "      <td>Paper</td>\n",
              "      <td>3556</td>\n",
              "      <td>7</td>\n",
              "      <td>167132</td>\n",
              "    </tr>\n",
              "    <tr>\n",
              "      <th>9977</th>\n",
              "      <td>US-2016-157728</td>\n",
              "      <td>9/22/2016</td>\n",
              "      <td>RC-19960</td>\n",
              "      <td>Consumer</td>\n",
              "      <td>Technology</td>\n",
              "      <td>Phones</td>\n",
              "      <td>9798</td>\n",
              "      <td>2</td>\n",
              "      <td>274344</td>\n",
              "    </tr>\n",
              "    <tr>\n",
              "      <th>9984</th>\n",
              "      <td>CA-2017-121258</td>\n",
              "      <td>2/26/2017</td>\n",
              "      <td>DB-13060</td>\n",
              "      <td>Consumer</td>\n",
              "      <td>Furniture</td>\n",
              "      <td>Furnishings</td>\n",
              "      <td>9196</td>\n",
              "      <td>2</td>\n",
              "      <td>156332</td>\n",
              "    </tr>\n",
              "    <tr>\n",
              "      <th>9985</th>\n",
              "      <td>CA-2017-121258</td>\n",
              "      <td>2/26/2017</td>\n",
              "      <td>DB-13060</td>\n",
              "      <td>Consumer</td>\n",
              "      <td>Technology</td>\n",
              "      <td>Phones</td>\n",
              "      <td>258576</td>\n",
              "      <td>2</td>\n",
              "      <td>193932</td>\n",
              "    </tr>\n",
              "    <tr>\n",
              "      <th>9987</th>\n",
              "      <td>CA-2017-119914</td>\n",
              "      <td>5/4/2017</td>\n",
              "      <td>CC-12220</td>\n",
              "      <td>Consumer</td>\n",
              "      <td>Office Supplies</td>\n",
              "      <td>Appliances</td>\n",
              "      <td>24316</td>\n",
              "      <td>2</td>\n",
              "      <td>72948</td>\n",
              "    </tr>\n",
              "  </tbody>\n",
              "</table>\n",
              "<p>3654 rows × 9 columns</p>\n",
              "</div>"
            ],
            "text/plain": [
              "            order_id order_date customer_id  ...   sales quantity  profit\n",
              "0     CA-2016-152156  11/8/2016    CG-12520  ...   26196        2  419136\n",
              "1     CA-2016-152156  11/8/2016    CG-12520  ...   73194        3  219582\n",
              "2     CA-2016-138688  6/12/2016    DV-13045  ...    1462        2   68714\n",
              "5     CA-2014-115812   6/9/2014    BH-11710  ...    4886        7  141694\n",
              "7     CA-2014-115812   6/9/2014    BH-11710  ...  907152        6  907152\n",
              "...              ...        ...         ...  ...     ...      ...     ...\n",
              "9976  US-2016-157728  9/22/2016    RC-19960  ...    3556        7  167132\n",
              "9977  US-2016-157728  9/22/2016    RC-19960  ...    9798        2  274344\n",
              "9984  CA-2017-121258  2/26/2017    DB-13060  ...    9196        2  156332\n",
              "9985  CA-2017-121258  2/26/2017    DB-13060  ...  258576        2  193932\n",
              "9987  CA-2017-119914   5/4/2017    CC-12220  ...   24316        2   72948\n",
              "\n",
              "[3654 rows x 9 columns]"
            ]
          },
          "metadata": {
            "tags": []
          },
          "execution_count": 146
        }
      ]
    },
    {
      "cell_type": "code",
      "metadata": {
        "colab": {
          "base_uri": "https://localhost:8080/",
          "height": 419
        },
        "id": "Y1wrA7LEoyvs",
        "outputId": "2004f4a2-d7bc-4724-9a74-7b742803dd2b"
      },
      "source": [
        "df[(df['sales']>=70000) & (df['profit']>=60000)]"
      ],
      "execution_count": 36,
      "outputs": [
        {
          "output_type": "execute_result",
          "data": {
            "text/html": [
              "<div>\n",
              "<style scoped>\n",
              "    .dataframe tbody tr th:only-of-type {\n",
              "        vertical-align: middle;\n",
              "    }\n",
              "\n",
              "    .dataframe tbody tr th {\n",
              "        vertical-align: top;\n",
              "    }\n",
              "\n",
              "    .dataframe thead th {\n",
              "        text-align: right;\n",
              "    }\n",
              "</style>\n",
              "<table border=\"1\" class=\"dataframe\">\n",
              "  <thead>\n",
              "    <tr style=\"text-align: right;\">\n",
              "      <th></th>\n",
              "      <th>order_id</th>\n",
              "      <th>order_date</th>\n",
              "      <th>customer_id</th>\n",
              "      <th>segment</th>\n",
              "      <th>category</th>\n",
              "      <th>sub_category</th>\n",
              "      <th>sales</th>\n",
              "      <th>quantity</th>\n",
              "      <th>profit</th>\n",
              "    </tr>\n",
              "  </thead>\n",
              "  <tbody>\n",
              "    <tr>\n",
              "      <th>1</th>\n",
              "      <td>CA-2016-152156</td>\n",
              "      <td>11/8/2016</td>\n",
              "      <td>CG-12520</td>\n",
              "      <td>Consumer</td>\n",
              "      <td>Furniture</td>\n",
              "      <td>Chairs</td>\n",
              "      <td>73194</td>\n",
              "      <td>3</td>\n",
              "      <td>219582</td>\n",
              "    </tr>\n",
              "    <tr>\n",
              "      <th>7</th>\n",
              "      <td>CA-2014-115812</td>\n",
              "      <td>6/9/2014</td>\n",
              "      <td>BH-11710</td>\n",
              "      <td>Consumer</td>\n",
              "      <td>Technology</td>\n",
              "      <td>Phones</td>\n",
              "      <td>907152</td>\n",
              "      <td>6</td>\n",
              "      <td>907152</td>\n",
              "    </tr>\n",
              "    <tr>\n",
              "      <th>10</th>\n",
              "      <td>CA-2014-115812</td>\n",
              "      <td>6/9/2014</td>\n",
              "      <td>BH-11710</td>\n",
              "      <td>Consumer</td>\n",
              "      <td>Furniture</td>\n",
              "      <td>Tables</td>\n",
              "      <td>1706184</td>\n",
              "      <td>9</td>\n",
              "      <td>853092</td>\n",
              "    </tr>\n",
              "    <tr>\n",
              "      <th>11</th>\n",
              "      <td>CA-2014-115812</td>\n",
              "      <td>6/9/2014</td>\n",
              "      <td>BH-11710</td>\n",
              "      <td>Consumer</td>\n",
              "      <td>Technology</td>\n",
              "      <td>Phones</td>\n",
              "      <td>911424</td>\n",
              "      <td>4</td>\n",
              "      <td>683568</td>\n",
              "    </tr>\n",
              "    <tr>\n",
              "      <th>13</th>\n",
              "      <td>CA-2016-161389</td>\n",
              "      <td>12/5/2016</td>\n",
              "      <td>IM-15070</td>\n",
              "      <td>Consumer</td>\n",
              "      <td>Office Supplies</td>\n",
              "      <td>Binders</td>\n",
              "      <td>407976</td>\n",
              "      <td>3</td>\n",
              "      <td>1325922</td>\n",
              "    </tr>\n",
              "    <tr>\n",
              "      <th>...</th>\n",
              "      <td>...</td>\n",
              "      <td>...</td>\n",
              "      <td>...</td>\n",
              "      <td>...</td>\n",
              "      <td>...</td>\n",
              "      <td>...</td>\n",
              "      <td>...</td>\n",
              "      <td>...</td>\n",
              "      <td>...</td>\n",
              "    </tr>\n",
              "    <tr>\n",
              "      <th>9949</th>\n",
              "      <td>CA-2015-141593</td>\n",
              "      <td>12/14/2015</td>\n",
              "      <td>DB-12970</td>\n",
              "      <td>Corporate</td>\n",
              "      <td>Furniture</td>\n",
              "      <td>Tables</td>\n",
              "      <td>273568</td>\n",
              "      <td>2</td>\n",
              "      <td>102588</td>\n",
              "    </tr>\n",
              "    <tr>\n",
              "      <th>9962</th>\n",
              "      <td>CA-2017-153871</td>\n",
              "      <td>12/11/2017</td>\n",
              "      <td>RB-19435</td>\n",
              "      <td>Consumer</td>\n",
              "      <td>Office Supplies</td>\n",
              "      <td>Binders</td>\n",
              "      <td>73598</td>\n",
              "      <td>2</td>\n",
              "      <td>331191</td>\n",
              "    </tr>\n",
              "    <tr>\n",
              "      <th>9966</th>\n",
              "      <td>CA-2016-130225</td>\n",
              "      <td>9/11/2016</td>\n",
              "      <td>RC-19960</td>\n",
              "      <td>Consumer</td>\n",
              "      <td>Office Supplies</td>\n",
              "      <td>Envelopes</td>\n",
              "      <td>99568</td>\n",
              "      <td>2</td>\n",
              "      <td>336042</td>\n",
              "    </tr>\n",
              "    <tr>\n",
              "      <th>9973</th>\n",
              "      <td>US-2016-103674</td>\n",
              "      <td>12/6/2016</td>\n",
              "      <td>AP-10720</td>\n",
              "      <td>Home Office</td>\n",
              "      <td>Office Supplies</td>\n",
              "      <td>Binders</td>\n",
              "      <td>437472</td>\n",
              "      <td>14</td>\n",
              "      <td>1531152</td>\n",
              "    </tr>\n",
              "    <tr>\n",
              "      <th>9985</th>\n",
              "      <td>CA-2017-121258</td>\n",
              "      <td>2/26/2017</td>\n",
              "      <td>DB-13060</td>\n",
              "      <td>Consumer</td>\n",
              "      <td>Technology</td>\n",
              "      <td>Phones</td>\n",
              "      <td>258576</td>\n",
              "      <td>2</td>\n",
              "      <td>193932</td>\n",
              "    </tr>\n",
              "  </tbody>\n",
              "</table>\n",
              "<p>1156 rows × 9 columns</p>\n",
              "</div>"
            ],
            "text/plain": [
              "            order_id  order_date customer_id  ...    sales quantity   profit\n",
              "1     CA-2016-152156   11/8/2016    CG-12520  ...    73194        3   219582\n",
              "7     CA-2014-115812    6/9/2014    BH-11710  ...   907152        6   907152\n",
              "10    CA-2014-115812    6/9/2014    BH-11710  ...  1706184        9   853092\n",
              "11    CA-2014-115812    6/9/2014    BH-11710  ...   911424        4   683568\n",
              "13    CA-2016-161389   12/5/2016    IM-15070  ...   407976        3  1325922\n",
              "...              ...         ...         ...  ...      ...      ...      ...\n",
              "9949  CA-2015-141593  12/14/2015    DB-12970  ...   273568        2   102588\n",
              "9962  CA-2017-153871  12/11/2017    RB-19435  ...    73598        2   331191\n",
              "9966  CA-2016-130225   9/11/2016    RC-19960  ...    99568        2   336042\n",
              "9973  US-2016-103674   12/6/2016    AP-10720  ...   437472       14  1531152\n",
              "9985  CA-2017-121258   2/26/2017    DB-13060  ...   258576        2   193932\n",
              "\n",
              "[1156 rows x 9 columns]"
            ]
          },
          "metadata": {
            "tags": []
          },
          "execution_count": 36
        }
      ]
    },
    {
      "cell_type": "code",
      "metadata": {
        "colab": {
          "base_uri": "https://localhost:8080/",
          "height": 415
        },
        "id": "hrgi3hC81juy",
        "outputId": "99c6bd33-8309-4d25-a006-67b28a89c2da"
      },
      "source": [
        "#Memperoleh indeks hasil pencarian data dengan kriteria tertentu (Menggunakan Or)\n",
        "df[(df['profit']>=68714) | (df['quantity']>=2)]"
      ],
      "execution_count": null,
      "outputs": [
        {
          "output_type": "execute_result",
          "data": {
            "text/html": [
              "<div>\n",
              "<style scoped>\n",
              "    .dataframe tbody tr th:only-of-type {\n",
              "        vertical-align: middle;\n",
              "    }\n",
              "\n",
              "    .dataframe tbody tr th {\n",
              "        vertical-align: top;\n",
              "    }\n",
              "\n",
              "    .dataframe thead th {\n",
              "        text-align: right;\n",
              "    }\n",
              "</style>\n",
              "<table border=\"1\" class=\"dataframe\">\n",
              "  <thead>\n",
              "    <tr style=\"text-align: right;\">\n",
              "      <th></th>\n",
              "      <th>order_id</th>\n",
              "      <th>order_date</th>\n",
              "      <th>customer_id</th>\n",
              "      <th>segment</th>\n",
              "      <th>category</th>\n",
              "      <th>sub_category</th>\n",
              "      <th>sales</th>\n",
              "      <th>quantity</th>\n",
              "      <th>profit</th>\n",
              "    </tr>\n",
              "  </thead>\n",
              "  <tbody>\n",
              "    <tr>\n",
              "      <th>0</th>\n",
              "      <td>CA-2016-152156</td>\n",
              "      <td>11/8/2016</td>\n",
              "      <td>CG-12520</td>\n",
              "      <td>Consumer</td>\n",
              "      <td>Furniture</td>\n",
              "      <td>Bookcases</td>\n",
              "      <td>26196</td>\n",
              "      <td>2</td>\n",
              "      <td>419136</td>\n",
              "    </tr>\n",
              "    <tr>\n",
              "      <th>1</th>\n",
              "      <td>CA-2016-152156</td>\n",
              "      <td>11/8/2016</td>\n",
              "      <td>CG-12520</td>\n",
              "      <td>Consumer</td>\n",
              "      <td>Furniture</td>\n",
              "      <td>Chairs</td>\n",
              "      <td>73194</td>\n",
              "      <td>3</td>\n",
              "      <td>219582</td>\n",
              "    </tr>\n",
              "    <tr>\n",
              "      <th>2</th>\n",
              "      <td>CA-2016-138688</td>\n",
              "      <td>6/12/2016</td>\n",
              "      <td>DV-13045</td>\n",
              "      <td>Corporate</td>\n",
              "      <td>Office Supplies</td>\n",
              "      <td>Labels</td>\n",
              "      <td>1462</td>\n",
              "      <td>2</td>\n",
              "      <td>68714</td>\n",
              "    </tr>\n",
              "    <tr>\n",
              "      <th>3</th>\n",
              "      <td>US-2015-108966</td>\n",
              "      <td>10/11/2015</td>\n",
              "      <td>SO-20335</td>\n",
              "      <td>Consumer</td>\n",
              "      <td>Furniture</td>\n",
              "      <td>Tables</td>\n",
              "      <td>9575775</td>\n",
              "      <td>5</td>\n",
              "      <td>-383031</td>\n",
              "    </tr>\n",
              "    <tr>\n",
              "      <th>4</th>\n",
              "      <td>US-2015-108966</td>\n",
              "      <td>10/11/2015</td>\n",
              "      <td>SO-20335</td>\n",
              "      <td>Consumer</td>\n",
              "      <td>Office Supplies</td>\n",
              "      <td>Storage</td>\n",
              "      <td>22368</td>\n",
              "      <td>2</td>\n",
              "      <td>25164</td>\n",
              "    </tr>\n",
              "    <tr>\n",
              "      <th>...</th>\n",
              "      <td>...</td>\n",
              "      <td>...</td>\n",
              "      <td>...</td>\n",
              "      <td>...</td>\n",
              "      <td>...</td>\n",
              "      <td>...</td>\n",
              "      <td>...</td>\n",
              "      <td>...</td>\n",
              "      <td>...</td>\n",
              "    </tr>\n",
              "    <tr>\n",
              "      <th>9983</th>\n",
              "      <td>CA-2014-110422</td>\n",
              "      <td>1/21/2014</td>\n",
              "      <td>TB-21400</td>\n",
              "      <td>Consumer</td>\n",
              "      <td>Furniture</td>\n",
              "      <td>Furnishings</td>\n",
              "      <td>25248</td>\n",
              "      <td>3</td>\n",
              "      <td>41028</td>\n",
              "    </tr>\n",
              "    <tr>\n",
              "      <th>9984</th>\n",
              "      <td>CA-2017-121258</td>\n",
              "      <td>2/26/2017</td>\n",
              "      <td>DB-13060</td>\n",
              "      <td>Consumer</td>\n",
              "      <td>Furniture</td>\n",
              "      <td>Furnishings</td>\n",
              "      <td>9196</td>\n",
              "      <td>2</td>\n",
              "      <td>156332</td>\n",
              "    </tr>\n",
              "    <tr>\n",
              "      <th>9985</th>\n",
              "      <td>CA-2017-121258</td>\n",
              "      <td>2/26/2017</td>\n",
              "      <td>DB-13060</td>\n",
              "      <td>Consumer</td>\n",
              "      <td>Technology</td>\n",
              "      <td>Phones</td>\n",
              "      <td>258576</td>\n",
              "      <td>2</td>\n",
              "      <td>193932</td>\n",
              "    </tr>\n",
              "    <tr>\n",
              "      <th>9986</th>\n",
              "      <td>CA-2017-121258</td>\n",
              "      <td>2/26/2017</td>\n",
              "      <td>DB-13060</td>\n",
              "      <td>Consumer</td>\n",
              "      <td>Office Supplies</td>\n",
              "      <td>Paper</td>\n",
              "      <td>296</td>\n",
              "      <td>4</td>\n",
              "      <td>1332</td>\n",
              "    </tr>\n",
              "    <tr>\n",
              "      <th>9987</th>\n",
              "      <td>CA-2017-119914</td>\n",
              "      <td>5/4/2017</td>\n",
              "      <td>CC-12220</td>\n",
              "      <td>Consumer</td>\n",
              "      <td>Office Supplies</td>\n",
              "      <td>Appliances</td>\n",
              "      <td>24316</td>\n",
              "      <td>2</td>\n",
              "      <td>72948</td>\n",
              "    </tr>\n",
              "  </tbody>\n",
              "</table>\n",
              "<p>9289 rows × 9 columns</p>\n",
              "</div>"
            ],
            "text/plain": [
              "            order_id  order_date customer_id  ...    sales quantity  profit\n",
              "0     CA-2016-152156   11/8/2016    CG-12520  ...    26196        2  419136\n",
              "1     CA-2016-152156   11/8/2016    CG-12520  ...    73194        3  219582\n",
              "2     CA-2016-138688   6/12/2016    DV-13045  ...     1462        2   68714\n",
              "3     US-2015-108966  10/11/2015    SO-20335  ...  9575775        5 -383031\n",
              "4     US-2015-108966  10/11/2015    SO-20335  ...    22368        2   25164\n",
              "...              ...         ...         ...  ...      ...      ...     ...\n",
              "9983  CA-2014-110422   1/21/2014    TB-21400  ...    25248        3   41028\n",
              "9984  CA-2017-121258   2/26/2017    DB-13060  ...     9196        2  156332\n",
              "9985  CA-2017-121258   2/26/2017    DB-13060  ...   258576        2  193932\n",
              "9986  CA-2017-121258   2/26/2017    DB-13060  ...      296        4    1332\n",
              "9987  CA-2017-119914    5/4/2017    CC-12220  ...    24316        2   72948\n",
              "\n",
              "[9289 rows x 9 columns]"
            ]
          },
          "metadata": {
            "tags": []
          },
          "execution_count": 147
        }
      ]
    },
    {
      "cell_type": "code",
      "metadata": {
        "colab": {
          "base_uri": "https://localhost:8080/",
          "height": 419
        },
        "id": "C0_1gmanpSah",
        "outputId": "551a8f51-74a1-4fa1-9029-921b974e0195"
      },
      "source": [
        "df[(df['sales']>=70000) | (df['profit']>=60000)]"
      ],
      "execution_count": 37,
      "outputs": [
        {
          "output_type": "execute_result",
          "data": {
            "text/html": [
              "<div>\n",
              "<style scoped>\n",
              "    .dataframe tbody tr th:only-of-type {\n",
              "        vertical-align: middle;\n",
              "    }\n",
              "\n",
              "    .dataframe tbody tr th {\n",
              "        vertical-align: top;\n",
              "    }\n",
              "\n",
              "    .dataframe thead th {\n",
              "        text-align: right;\n",
              "    }\n",
              "</style>\n",
              "<table border=\"1\" class=\"dataframe\">\n",
              "  <thead>\n",
              "    <tr style=\"text-align: right;\">\n",
              "      <th></th>\n",
              "      <th>order_id</th>\n",
              "      <th>order_date</th>\n",
              "      <th>customer_id</th>\n",
              "      <th>segment</th>\n",
              "      <th>category</th>\n",
              "      <th>sub_category</th>\n",
              "      <th>sales</th>\n",
              "      <th>quantity</th>\n",
              "      <th>profit</th>\n",
              "    </tr>\n",
              "  </thead>\n",
              "  <tbody>\n",
              "    <tr>\n",
              "      <th>0</th>\n",
              "      <td>CA-2016-152156</td>\n",
              "      <td>11/8/2016</td>\n",
              "      <td>CG-12520</td>\n",
              "      <td>Consumer</td>\n",
              "      <td>Furniture</td>\n",
              "      <td>Bookcases</td>\n",
              "      <td>26196</td>\n",
              "      <td>2</td>\n",
              "      <td>419136</td>\n",
              "    </tr>\n",
              "    <tr>\n",
              "      <th>1</th>\n",
              "      <td>CA-2016-152156</td>\n",
              "      <td>11/8/2016</td>\n",
              "      <td>CG-12520</td>\n",
              "      <td>Consumer</td>\n",
              "      <td>Furniture</td>\n",
              "      <td>Chairs</td>\n",
              "      <td>73194</td>\n",
              "      <td>3</td>\n",
              "      <td>219582</td>\n",
              "    </tr>\n",
              "    <tr>\n",
              "      <th>2</th>\n",
              "      <td>CA-2016-138688</td>\n",
              "      <td>6/12/2016</td>\n",
              "      <td>DV-13045</td>\n",
              "      <td>Corporate</td>\n",
              "      <td>Office Supplies</td>\n",
              "      <td>Labels</td>\n",
              "      <td>1462</td>\n",
              "      <td>2</td>\n",
              "      <td>68714</td>\n",
              "    </tr>\n",
              "    <tr>\n",
              "      <th>3</th>\n",
              "      <td>US-2015-108966</td>\n",
              "      <td>10/11/2015</td>\n",
              "      <td>SO-20335</td>\n",
              "      <td>Consumer</td>\n",
              "      <td>Furniture</td>\n",
              "      <td>Tables</td>\n",
              "      <td>9575775</td>\n",
              "      <td>5</td>\n",
              "      <td>-383031</td>\n",
              "    </tr>\n",
              "    <tr>\n",
              "      <th>5</th>\n",
              "      <td>CA-2014-115812</td>\n",
              "      <td>6/9/2014</td>\n",
              "      <td>BH-11710</td>\n",
              "      <td>Consumer</td>\n",
              "      <td>Furniture</td>\n",
              "      <td>Furnishings</td>\n",
              "      <td>4886</td>\n",
              "      <td>7</td>\n",
              "      <td>141694</td>\n",
              "    </tr>\n",
              "    <tr>\n",
              "      <th>...</th>\n",
              "      <td>...</td>\n",
              "      <td>...</td>\n",
              "      <td>...</td>\n",
              "      <td>...</td>\n",
              "      <td>...</td>\n",
              "      <td>...</td>\n",
              "      <td>...</td>\n",
              "      <td>...</td>\n",
              "      <td>...</td>\n",
              "    </tr>\n",
              "    <tr>\n",
              "      <th>9980</th>\n",
              "      <td>CA-2016-125794</td>\n",
              "      <td>9/29/2016</td>\n",
              "      <td>ML-17410</td>\n",
              "      <td>Consumer</td>\n",
              "      <td>Technology</td>\n",
              "      <td>Accessories</td>\n",
              "      <td>3624</td>\n",
              "      <td>1</td>\n",
              "      <td>152208</td>\n",
              "    </tr>\n",
              "    <tr>\n",
              "      <th>9981</th>\n",
              "      <td>CA-2017-163629</td>\n",
              "      <td>11/17/2017</td>\n",
              "      <td>RA-19885</td>\n",
              "      <td>Corporate</td>\n",
              "      <td>Technology</td>\n",
              "      <td>Accessories</td>\n",
              "      <td>7999</td>\n",
              "      <td>1</td>\n",
              "      <td>287964</td>\n",
              "    </tr>\n",
              "    <tr>\n",
              "      <th>9984</th>\n",
              "      <td>CA-2017-121258</td>\n",
              "      <td>2/26/2017</td>\n",
              "      <td>DB-13060</td>\n",
              "      <td>Consumer</td>\n",
              "      <td>Furniture</td>\n",
              "      <td>Furnishings</td>\n",
              "      <td>9196</td>\n",
              "      <td>2</td>\n",
              "      <td>156332</td>\n",
              "    </tr>\n",
              "    <tr>\n",
              "      <th>9985</th>\n",
              "      <td>CA-2017-121258</td>\n",
              "      <td>2/26/2017</td>\n",
              "      <td>DB-13060</td>\n",
              "      <td>Consumer</td>\n",
              "      <td>Technology</td>\n",
              "      <td>Phones</td>\n",
              "      <td>258576</td>\n",
              "      <td>2</td>\n",
              "      <td>193932</td>\n",
              "    </tr>\n",
              "    <tr>\n",
              "      <th>9987</th>\n",
              "      <td>CA-2017-119914</td>\n",
              "      <td>5/4/2017</td>\n",
              "      <td>CC-12220</td>\n",
              "      <td>Consumer</td>\n",
              "      <td>Office Supplies</td>\n",
              "      <td>Appliances</td>\n",
              "      <td>24316</td>\n",
              "      <td>2</td>\n",
              "      <td>72948</td>\n",
              "    </tr>\n",
              "  </tbody>\n",
              "</table>\n",
              "<p>5113 rows × 9 columns</p>\n",
              "</div>"
            ],
            "text/plain": [
              "            order_id  order_date customer_id  ...    sales quantity  profit\n",
              "0     CA-2016-152156   11/8/2016    CG-12520  ...    26196        2  419136\n",
              "1     CA-2016-152156   11/8/2016    CG-12520  ...    73194        3  219582\n",
              "2     CA-2016-138688   6/12/2016    DV-13045  ...     1462        2   68714\n",
              "3     US-2015-108966  10/11/2015    SO-20335  ...  9575775        5 -383031\n",
              "5     CA-2014-115812    6/9/2014    BH-11710  ...     4886        7  141694\n",
              "...              ...         ...         ...  ...      ...      ...     ...\n",
              "9980  CA-2016-125794   9/29/2016    ML-17410  ...     3624        1  152208\n",
              "9981  CA-2017-163629  11/17/2017    RA-19885  ...     7999        1  287964\n",
              "9984  CA-2017-121258   2/26/2017    DB-13060  ...     9196        2  156332\n",
              "9985  CA-2017-121258   2/26/2017    DB-13060  ...   258576        2  193932\n",
              "9987  CA-2017-119914    5/4/2017    CC-12220  ...    24316        2   72948\n",
              "\n",
              "[5113 rows x 9 columns]"
            ]
          },
          "metadata": {
            "tags": []
          },
          "execution_count": 37
        }
      ]
    },
    {
      "cell_type": "markdown",
      "metadata": {
        "id": "bJM6VDIsoJx4"
      },
      "source": [
        "### Modifikasi Data Frame 1(Sort & Cleaning)"
      ]
    },
    {
      "cell_type": "markdown",
      "metadata": {
        "id": "KMifmZqqop5j"
      },
      "source": [
        "**Mengurutkan Data Berdasarkan Kolom tertentu**"
      ]
    },
    {
      "cell_type": "code",
      "metadata": {
        "colab": {
          "base_uri": "https://localhost:8080/",
          "height": 415
        },
        "id": "o9plWZcZo4w9",
        "outputId": "860aa3df-bc07-462b-e267-008b14bf1e8f"
      },
      "source": [
        "#Mengurutkan data frame berdasarkan 1 kolom\n",
        "df.sort_values(['profit'], ascending=True)"
      ],
      "execution_count": null,
      "outputs": [
        {
          "output_type": "execute_result",
          "data": {
            "text/html": [
              "<div>\n",
              "<style scoped>\n",
              "    .dataframe tbody tr th:only-of-type {\n",
              "        vertical-align: middle;\n",
              "    }\n",
              "\n",
              "    .dataframe tbody tr th {\n",
              "        vertical-align: top;\n",
              "    }\n",
              "\n",
              "    .dataframe thead th {\n",
              "        text-align: right;\n",
              "    }\n",
              "</style>\n",
              "<table border=\"1\" class=\"dataframe\">\n",
              "  <thead>\n",
              "    <tr style=\"text-align: right;\">\n",
              "      <th></th>\n",
              "      <th>order_id</th>\n",
              "      <th>order_date</th>\n",
              "      <th>customer_id</th>\n",
              "      <th>segment</th>\n",
              "      <th>category</th>\n",
              "      <th>sub_category</th>\n",
              "      <th>sales</th>\n",
              "      <th>quantity</th>\n",
              "      <th>profit</th>\n",
              "    </tr>\n",
              "  </thead>\n",
              "  <tbody>\n",
              "    <tr>\n",
              "      <th>683</th>\n",
              "      <td>US-2017-168116</td>\n",
              "      <td>11/4/2017</td>\n",
              "      <td>GT-14635</td>\n",
              "      <td>Corporate</td>\n",
              "      <td>Technology</td>\n",
              "      <td>Machines</td>\n",
              "      <td>799998</td>\n",
              "      <td>4</td>\n",
              "      <td>-38399904</td>\n",
              "    </tr>\n",
              "    <tr>\n",
              "      <th>9768</th>\n",
              "      <td>CA-2014-169019</td>\n",
              "      <td>7/26/2014</td>\n",
              "      <td>LF-17185</td>\n",
              "      <td>Consumer</td>\n",
              "      <td>Office Supplies</td>\n",
              "      <td>Binders</td>\n",
              "      <td>2177584</td>\n",
              "      <td>8</td>\n",
              "      <td>-37018928</td>\n",
              "    </tr>\n",
              "    <tr>\n",
              "      <th>4988</th>\n",
              "      <td>US-2017-122714</td>\n",
              "      <td>12/7/2017</td>\n",
              "      <td>HG-14965</td>\n",
              "      <td>Corporate</td>\n",
              "      <td>Office Supplies</td>\n",
              "      <td>Binders</td>\n",
              "      <td>188999</td>\n",
              "      <td>5</td>\n",
              "      <td>-29294845</td>\n",
              "    </tr>\n",
              "    <tr>\n",
              "      <th>3149</th>\n",
              "      <td>CA-2015-147830</td>\n",
              "      <td>12/15/2015</td>\n",
              "      <td>NF-18385</td>\n",
              "      <td>Consumer</td>\n",
              "      <td>Technology</td>\n",
              "      <td>Machines</td>\n",
              "      <td>1799994</td>\n",
              "      <td>2</td>\n",
              "      <td>-26399912</td>\n",
              "    </tr>\n",
              "    <tr>\n",
              "      <th>9633</th>\n",
              "      <td>CA-2015-116638</td>\n",
              "      <td>1/28/2015</td>\n",
              "      <td>JH-15985</td>\n",
              "      <td>Consumer</td>\n",
              "      <td>Furniture</td>\n",
              "      <td>Tables</td>\n",
              "      <td>4297644</td>\n",
              "      <td>13</td>\n",
              "      <td>-18623124</td>\n",
              "    </tr>\n",
              "    <tr>\n",
              "      <th>...</th>\n",
              "      <td>...</td>\n",
              "      <td>...</td>\n",
              "      <td>...</td>\n",
              "      <td>...</td>\n",
              "      <td>...</td>\n",
              "      <td>...</td>\n",
              "      <td>...</td>\n",
              "      <td>...</td>\n",
              "      <td>...</td>\n",
              "    </tr>\n",
              "    <tr>\n",
              "      <th>4274</th>\n",
              "      <td>US-2016-107440</td>\n",
              "      <td>4/16/2016</td>\n",
              "      <td>BS-11365</td>\n",
              "      <td>Corporate</td>\n",
              "      <td>Technology</td>\n",
              "      <td>Machines</td>\n",
              "      <td>909993</td>\n",
              "      <td>7</td>\n",
              "      <td>23659818</td>\n",
              "    </tr>\n",
              "    <tr>\n",
              "      <th>1085</th>\n",
              "      <td>US-2016-143819</td>\n",
              "      <td>3/1/2016</td>\n",
              "      <td>KD-16270</td>\n",
              "      <td>Consumer</td>\n",
              "      <td>Technology</td>\n",
              "      <td>Machines</td>\n",
              "      <td>489993</td>\n",
              "      <td>7</td>\n",
              "      <td>24009657</td>\n",
              "    </tr>\n",
              "    <tr>\n",
              "      <th>6517</th>\n",
              "      <td>CA-2017-138289</td>\n",
              "      <td>1/16/2017</td>\n",
              "      <td>AR-10540</td>\n",
              "      <td>Consumer</td>\n",
              "      <td>Office Supplies</td>\n",
              "      <td>Binders</td>\n",
              "      <td>544396</td>\n",
              "      <td>4</td>\n",
              "      <td>25042216</td>\n",
              "    </tr>\n",
              "    <tr>\n",
              "      <th>7662</th>\n",
              "      <td>US-2016-140158</td>\n",
              "      <td>10/4/2016</td>\n",
              "      <td>DR-12940</td>\n",
              "      <td>Home Office</td>\n",
              "      <td>Technology</td>\n",
              "      <td>Copiers</td>\n",
              "      <td>539991</td>\n",
              "      <td>9</td>\n",
              "      <td>25919568</td>\n",
              "    </tr>\n",
              "    <tr>\n",
              "      <th>4096</th>\n",
              "      <td>CA-2014-116904</td>\n",
              "      <td>9/23/2014</td>\n",
              "      <td>SC-20095</td>\n",
              "      <td>Consumer</td>\n",
              "      <td>Office Supplies</td>\n",
              "      <td>Binders</td>\n",
              "      <td>944995</td>\n",
              "      <td>5</td>\n",
              "      <td>46304755</td>\n",
              "    </tr>\n",
              "  </tbody>\n",
              "</table>\n",
              "<p>9988 rows × 9 columns</p>\n",
              "</div>"
            ],
            "text/plain": [
              "            order_id  order_date customer_id  ...    sales quantity    profit\n",
              "683   US-2017-168116   11/4/2017    GT-14635  ...   799998        4 -38399904\n",
              "9768  CA-2014-169019   7/26/2014    LF-17185  ...  2177584        8 -37018928\n",
              "4988  US-2017-122714   12/7/2017    HG-14965  ...   188999        5 -29294845\n",
              "3149  CA-2015-147830  12/15/2015    NF-18385  ...  1799994        2 -26399912\n",
              "9633  CA-2015-116638   1/28/2015    JH-15985  ...  4297644       13 -18623124\n",
              "...              ...         ...         ...  ...      ...      ...       ...\n",
              "4274  US-2016-107440   4/16/2016    BS-11365  ...   909993        7  23659818\n",
              "1085  US-2016-143819    3/1/2016    KD-16270  ...   489993        7  24009657\n",
              "6517  CA-2017-138289   1/16/2017    AR-10540  ...   544396        4  25042216\n",
              "7662  US-2016-140158   10/4/2016    DR-12940  ...   539991        9  25919568\n",
              "4096  CA-2014-116904   9/23/2014    SC-20095  ...   944995        5  46304755\n",
              "\n",
              "[9988 rows x 9 columns]"
            ]
          },
          "metadata": {
            "tags": []
          },
          "execution_count": 148
        }
      ]
    },
    {
      "cell_type": "code",
      "metadata": {
        "colab": {
          "base_uri": "https://localhost:8080/",
          "height": 419
        },
        "id": "aJbIagI2phRT",
        "outputId": "f38ec71b-4f36-4f13-cb39-efec3e9d68be"
      },
      "source": [
        "df.sort_values(['sales'], ascending=True)"
      ],
      "execution_count": 38,
      "outputs": [
        {
          "output_type": "execute_result",
          "data": {
            "text/html": [
              "<div>\n",
              "<style scoped>\n",
              "    .dataframe tbody tr th:only-of-type {\n",
              "        vertical-align: middle;\n",
              "    }\n",
              "\n",
              "    .dataframe tbody tr th {\n",
              "        vertical-align: top;\n",
              "    }\n",
              "\n",
              "    .dataframe thead th {\n",
              "        text-align: right;\n",
              "    }\n",
              "</style>\n",
              "<table border=\"1\" class=\"dataframe\">\n",
              "  <thead>\n",
              "    <tr style=\"text-align: right;\">\n",
              "      <th></th>\n",
              "      <th>order_id</th>\n",
              "      <th>order_date</th>\n",
              "      <th>customer_id</th>\n",
              "      <th>segment</th>\n",
              "      <th>category</th>\n",
              "      <th>sub_category</th>\n",
              "      <th>sales</th>\n",
              "      <th>quantity</th>\n",
              "      <th>profit</th>\n",
              "    </tr>\n",
              "  </thead>\n",
              "  <tbody>\n",
              "    <tr>\n",
              "      <th>8466</th>\n",
              "      <td>US-2017-132031</td>\n",
              "      <td>4/23/2017</td>\n",
              "      <td>PN-18775</td>\n",
              "      <td>Home Office</td>\n",
              "      <td>Office Supplies</td>\n",
              "      <td>Labels</td>\n",
              "      <td>3</td>\n",
              "      <td>1</td>\n",
              "      <td>105</td>\n",
              "    </tr>\n",
              "    <tr>\n",
              "      <th>4660</th>\n",
              "      <td>CA-2016-111409</td>\n",
              "      <td>9/18/2016</td>\n",
              "      <td>PO-18850</td>\n",
              "      <td>Consumer</td>\n",
              "      <td>Office Supplies</td>\n",
              "      <td>Labels</td>\n",
              "      <td>3</td>\n",
              "      <td>1</td>\n",
              "      <td>105</td>\n",
              "    </tr>\n",
              "    <tr>\n",
              "      <th>2259</th>\n",
              "      <td>CA-2015-117611</td>\n",
              "      <td>11/8/2015</td>\n",
              "      <td>MZ-17335</td>\n",
              "      <td>Home Office</td>\n",
              "      <td>Office Supplies</td>\n",
              "      <td>Fasteners</td>\n",
              "      <td>5</td>\n",
              "      <td>1</td>\n",
              "      <td>24</td>\n",
              "    </tr>\n",
              "    <tr>\n",
              "      <th>1884</th>\n",
              "      <td>CA-2017-154718</td>\n",
              "      <td>1/19/2017</td>\n",
              "      <td>DL-12865</td>\n",
              "      <td>Consumer</td>\n",
              "      <td>Office Supplies</td>\n",
              "      <td>Labels</td>\n",
              "      <td>6</td>\n",
              "      <td>2</td>\n",
              "      <td>21</td>\n",
              "    </tr>\n",
              "    <tr>\n",
              "      <th>9557</th>\n",
              "      <td>CA-2016-129280</td>\n",
              "      <td>5/3/2016</td>\n",
              "      <td>SM-20905</td>\n",
              "      <td>Consumer</td>\n",
              "      <td>Office Supplies</td>\n",
              "      <td>Labels</td>\n",
              "      <td>6</td>\n",
              "      <td>2</td>\n",
              "      <td>21</td>\n",
              "    </tr>\n",
              "    <tr>\n",
              "      <th>...</th>\n",
              "      <td>...</td>\n",
              "      <td>...</td>\n",
              "      <td>...</td>\n",
              "      <td>...</td>\n",
              "      <td>...</td>\n",
              "      <td>...</td>\n",
              "      <td>...</td>\n",
              "      <td>...</td>\n",
              "      <td>...</td>\n",
              "    </tr>\n",
              "    <tr>\n",
              "      <th>4263</th>\n",
              "      <td>US-2016-131611</td>\n",
              "      <td>11/5/2016</td>\n",
              "      <td>EP-13915</td>\n",
              "      <td>Consumer</td>\n",
              "      <td>Furniture</td>\n",
              "      <td>Bookcases</td>\n",
              "      <td>9566648</td>\n",
              "      <td>7</td>\n",
              "      <td>-2250976</td>\n",
              "    </tr>\n",
              "    <tr>\n",
              "      <th>3</th>\n",
              "      <td>US-2015-108966</td>\n",
              "      <td>10/11/2015</td>\n",
              "      <td>SO-20335</td>\n",
              "      <td>Consumer</td>\n",
              "      <td>Furniture</td>\n",
              "      <td>Tables</td>\n",
              "      <td>9575775</td>\n",
              "      <td>5</td>\n",
              "      <td>-383031</td>\n",
              "    </tr>\n",
              "    <tr>\n",
              "      <th>8775</th>\n",
              "      <td>CA-2015-133585</td>\n",
              "      <td>3/1/2015</td>\n",
              "      <td>CM-12715</td>\n",
              "      <td>Corporate</td>\n",
              "      <td>Furniture</td>\n",
              "      <td>Bookcases</td>\n",
              "      <td>12279984</td>\n",
              "      <td>6</td>\n",
              "      <td>-361176</td>\n",
              "    </tr>\n",
              "    <tr>\n",
              "      <th>5052</th>\n",
              "      <td>CA-2015-141243</td>\n",
              "      <td>1/3/2015</td>\n",
              "      <td>AH-10465</td>\n",
              "      <td>Consumer</td>\n",
              "      <td>Furniture</td>\n",
              "      <td>Bookcases</td>\n",
              "      <td>13523976</td>\n",
              "      <td>9</td>\n",
              "      <td>-4375404</td>\n",
              "    </tr>\n",
              "    <tr>\n",
              "      <th>399</th>\n",
              "      <td>CA-2016-108987</td>\n",
              "      <td>9/8/2016</td>\n",
              "      <td>AG-10675</td>\n",
              "      <td>Consumer</td>\n",
              "      <td>Furniture</td>\n",
              "      <td>Bookcases</td>\n",
              "      <td>23962656</td>\n",
              "      <td>4</td>\n",
              "      <td>-3171528</td>\n",
              "    </tr>\n",
              "  </tbody>\n",
              "</table>\n",
              "<p>9988 rows × 9 columns</p>\n",
              "</div>"
            ],
            "text/plain": [
              "            order_id  order_date customer_id  ...     sales quantity   profit\n",
              "8466  US-2017-132031   4/23/2017    PN-18775  ...         3        1      105\n",
              "4660  CA-2016-111409   9/18/2016    PO-18850  ...         3        1      105\n",
              "2259  CA-2015-117611   11/8/2015    MZ-17335  ...         5        1       24\n",
              "1884  CA-2017-154718   1/19/2017    DL-12865  ...         6        2       21\n",
              "9557  CA-2016-129280    5/3/2016    SM-20905  ...         6        2       21\n",
              "...              ...         ...         ...  ...       ...      ...      ...\n",
              "4263  US-2016-131611   11/5/2016    EP-13915  ...   9566648        7 -2250976\n",
              "3     US-2015-108966  10/11/2015    SO-20335  ...   9575775        5  -383031\n",
              "8775  CA-2015-133585    3/1/2015    CM-12715  ...  12279984        6  -361176\n",
              "5052  CA-2015-141243    1/3/2015    AH-10465  ...  13523976        9 -4375404\n",
              "399   CA-2016-108987    9/8/2016    AG-10675  ...  23962656        4 -3171528\n",
              "\n",
              "[9988 rows x 9 columns]"
            ]
          },
          "metadata": {
            "tags": []
          },
          "execution_count": 38
        }
      ]
    },
    {
      "cell_type": "code",
      "metadata": {
        "colab": {
          "base_uri": "https://localhost:8080/",
          "height": 415
        },
        "id": "fN_HbyIroQ4X",
        "outputId": "1018e136-b3a4-44f9-a582-463152d9a692"
      },
      "source": [
        "#Mengurutkan data frame dengan lebih dari 1 kolom\n",
        "df.sort_values(['profit', 'quantity'], ascending=[True, False])"
      ],
      "execution_count": null,
      "outputs": [
        {
          "output_type": "execute_result",
          "data": {
            "text/html": [
              "<div>\n",
              "<style scoped>\n",
              "    .dataframe tbody tr th:only-of-type {\n",
              "        vertical-align: middle;\n",
              "    }\n",
              "\n",
              "    .dataframe tbody tr th {\n",
              "        vertical-align: top;\n",
              "    }\n",
              "\n",
              "    .dataframe thead th {\n",
              "        text-align: right;\n",
              "    }\n",
              "</style>\n",
              "<table border=\"1\" class=\"dataframe\">\n",
              "  <thead>\n",
              "    <tr style=\"text-align: right;\">\n",
              "      <th></th>\n",
              "      <th>order_id</th>\n",
              "      <th>order_date</th>\n",
              "      <th>customer_id</th>\n",
              "      <th>segment</th>\n",
              "      <th>category</th>\n",
              "      <th>sub_category</th>\n",
              "      <th>sales</th>\n",
              "      <th>quantity</th>\n",
              "      <th>profit</th>\n",
              "    </tr>\n",
              "  </thead>\n",
              "  <tbody>\n",
              "    <tr>\n",
              "      <th>683</th>\n",
              "      <td>US-2017-168116</td>\n",
              "      <td>11/4/2017</td>\n",
              "      <td>GT-14635</td>\n",
              "      <td>Corporate</td>\n",
              "      <td>Technology</td>\n",
              "      <td>Machines</td>\n",
              "      <td>799998</td>\n",
              "      <td>4</td>\n",
              "      <td>-38399904</td>\n",
              "    </tr>\n",
              "    <tr>\n",
              "      <th>9768</th>\n",
              "      <td>CA-2014-169019</td>\n",
              "      <td>7/26/2014</td>\n",
              "      <td>LF-17185</td>\n",
              "      <td>Consumer</td>\n",
              "      <td>Office Supplies</td>\n",
              "      <td>Binders</td>\n",
              "      <td>2177584</td>\n",
              "      <td>8</td>\n",
              "      <td>-37018928</td>\n",
              "    </tr>\n",
              "    <tr>\n",
              "      <th>4988</th>\n",
              "      <td>US-2017-122714</td>\n",
              "      <td>12/7/2017</td>\n",
              "      <td>HG-14965</td>\n",
              "      <td>Corporate</td>\n",
              "      <td>Office Supplies</td>\n",
              "      <td>Binders</td>\n",
              "      <td>188999</td>\n",
              "      <td>5</td>\n",
              "      <td>-29294845</td>\n",
              "    </tr>\n",
              "    <tr>\n",
              "      <th>3149</th>\n",
              "      <td>CA-2015-147830</td>\n",
              "      <td>12/15/2015</td>\n",
              "      <td>NF-18385</td>\n",
              "      <td>Consumer</td>\n",
              "      <td>Technology</td>\n",
              "      <td>Machines</td>\n",
              "      <td>1799994</td>\n",
              "      <td>2</td>\n",
              "      <td>-26399912</td>\n",
              "    </tr>\n",
              "    <tr>\n",
              "      <th>9633</th>\n",
              "      <td>CA-2015-116638</td>\n",
              "      <td>1/28/2015</td>\n",
              "      <td>JH-15985</td>\n",
              "      <td>Consumer</td>\n",
              "      <td>Furniture</td>\n",
              "      <td>Tables</td>\n",
              "      <td>4297644</td>\n",
              "      <td>13</td>\n",
              "      <td>-18623124</td>\n",
              "    </tr>\n",
              "    <tr>\n",
              "      <th>...</th>\n",
              "      <td>...</td>\n",
              "      <td>...</td>\n",
              "      <td>...</td>\n",
              "      <td>...</td>\n",
              "      <td>...</td>\n",
              "      <td>...</td>\n",
              "      <td>...</td>\n",
              "      <td>...</td>\n",
              "      <td>...</td>\n",
              "    </tr>\n",
              "    <tr>\n",
              "      <th>4274</th>\n",
              "      <td>US-2016-107440</td>\n",
              "      <td>4/16/2016</td>\n",
              "      <td>BS-11365</td>\n",
              "      <td>Corporate</td>\n",
              "      <td>Technology</td>\n",
              "      <td>Machines</td>\n",
              "      <td>909993</td>\n",
              "      <td>7</td>\n",
              "      <td>23659818</td>\n",
              "    </tr>\n",
              "    <tr>\n",
              "      <th>1085</th>\n",
              "      <td>US-2016-143819</td>\n",
              "      <td>3/1/2016</td>\n",
              "      <td>KD-16270</td>\n",
              "      <td>Consumer</td>\n",
              "      <td>Technology</td>\n",
              "      <td>Machines</td>\n",
              "      <td>489993</td>\n",
              "      <td>7</td>\n",
              "      <td>24009657</td>\n",
              "    </tr>\n",
              "    <tr>\n",
              "      <th>6517</th>\n",
              "      <td>CA-2017-138289</td>\n",
              "      <td>1/16/2017</td>\n",
              "      <td>AR-10540</td>\n",
              "      <td>Consumer</td>\n",
              "      <td>Office Supplies</td>\n",
              "      <td>Binders</td>\n",
              "      <td>544396</td>\n",
              "      <td>4</td>\n",
              "      <td>25042216</td>\n",
              "    </tr>\n",
              "    <tr>\n",
              "      <th>7662</th>\n",
              "      <td>US-2016-140158</td>\n",
              "      <td>10/4/2016</td>\n",
              "      <td>DR-12940</td>\n",
              "      <td>Home Office</td>\n",
              "      <td>Technology</td>\n",
              "      <td>Copiers</td>\n",
              "      <td>539991</td>\n",
              "      <td>9</td>\n",
              "      <td>25919568</td>\n",
              "    </tr>\n",
              "    <tr>\n",
              "      <th>4096</th>\n",
              "      <td>CA-2014-116904</td>\n",
              "      <td>9/23/2014</td>\n",
              "      <td>SC-20095</td>\n",
              "      <td>Consumer</td>\n",
              "      <td>Office Supplies</td>\n",
              "      <td>Binders</td>\n",
              "      <td>944995</td>\n",
              "      <td>5</td>\n",
              "      <td>46304755</td>\n",
              "    </tr>\n",
              "  </tbody>\n",
              "</table>\n",
              "<p>9988 rows × 9 columns</p>\n",
              "</div>"
            ],
            "text/plain": [
              "            order_id  order_date customer_id  ...    sales quantity    profit\n",
              "683   US-2017-168116   11/4/2017    GT-14635  ...   799998        4 -38399904\n",
              "9768  CA-2014-169019   7/26/2014    LF-17185  ...  2177584        8 -37018928\n",
              "4988  US-2017-122714   12/7/2017    HG-14965  ...   188999        5 -29294845\n",
              "3149  CA-2015-147830  12/15/2015    NF-18385  ...  1799994        2 -26399912\n",
              "9633  CA-2015-116638   1/28/2015    JH-15985  ...  4297644       13 -18623124\n",
              "...              ...         ...         ...  ...      ...      ...       ...\n",
              "4274  US-2016-107440   4/16/2016    BS-11365  ...   909993        7  23659818\n",
              "1085  US-2016-143819    3/1/2016    KD-16270  ...   489993        7  24009657\n",
              "6517  CA-2017-138289   1/16/2017    AR-10540  ...   544396        4  25042216\n",
              "7662  US-2016-140158   10/4/2016    DR-12940  ...   539991        9  25919568\n",
              "4096  CA-2014-116904   9/23/2014    SC-20095  ...   944995        5  46304755\n",
              "\n",
              "[9988 rows x 9 columns]"
            ]
          },
          "metadata": {
            "tags": []
          },
          "execution_count": 149
        }
      ]
    },
    {
      "cell_type": "code",
      "metadata": {
        "colab": {
          "base_uri": "https://localhost:8080/",
          "height": 419
        },
        "id": "zxYxbNB0qHE0",
        "outputId": "5fa916f1-d41e-47bc-dd32-c444cc132c98"
      },
      "source": [
        "df.sort_values(['sales', 'profit'], ascending=[False, True])"
      ],
      "execution_count": 42,
      "outputs": [
        {
          "output_type": "execute_result",
          "data": {
            "text/html": [
              "<div>\n",
              "<style scoped>\n",
              "    .dataframe tbody tr th:only-of-type {\n",
              "        vertical-align: middle;\n",
              "    }\n",
              "\n",
              "    .dataframe tbody tr th {\n",
              "        vertical-align: top;\n",
              "    }\n",
              "\n",
              "    .dataframe thead th {\n",
              "        text-align: right;\n",
              "    }\n",
              "</style>\n",
              "<table border=\"1\" class=\"dataframe\">\n",
              "  <thead>\n",
              "    <tr style=\"text-align: right;\">\n",
              "      <th></th>\n",
              "      <th>order_id</th>\n",
              "      <th>order_date</th>\n",
              "      <th>customer_id</th>\n",
              "      <th>segment</th>\n",
              "      <th>category</th>\n",
              "      <th>sub_category</th>\n",
              "      <th>sales</th>\n",
              "      <th>quantity</th>\n",
              "      <th>profit</th>\n",
              "    </tr>\n",
              "  </thead>\n",
              "  <tbody>\n",
              "    <tr>\n",
              "      <th>399</th>\n",
              "      <td>CA-2016-108987</td>\n",
              "      <td>9/8/2016</td>\n",
              "      <td>AG-10675</td>\n",
              "      <td>Consumer</td>\n",
              "      <td>Furniture</td>\n",
              "      <td>Bookcases</td>\n",
              "      <td>23962656</td>\n",
              "      <td>4</td>\n",
              "      <td>-3171528</td>\n",
              "    </tr>\n",
              "    <tr>\n",
              "      <th>5052</th>\n",
              "      <td>CA-2015-141243</td>\n",
              "      <td>1/3/2015</td>\n",
              "      <td>AH-10465</td>\n",
              "      <td>Consumer</td>\n",
              "      <td>Furniture</td>\n",
              "      <td>Bookcases</td>\n",
              "      <td>13523976</td>\n",
              "      <td>9</td>\n",
              "      <td>-4375404</td>\n",
              "    </tr>\n",
              "    <tr>\n",
              "      <th>8775</th>\n",
              "      <td>CA-2015-133585</td>\n",
              "      <td>3/1/2015</td>\n",
              "      <td>CM-12715</td>\n",
              "      <td>Corporate</td>\n",
              "      <td>Furniture</td>\n",
              "      <td>Bookcases</td>\n",
              "      <td>12279984</td>\n",
              "      <td>6</td>\n",
              "      <td>-361176</td>\n",
              "    </tr>\n",
              "    <tr>\n",
              "      <th>3</th>\n",
              "      <td>US-2015-108966</td>\n",
              "      <td>10/11/2015</td>\n",
              "      <td>SO-20335</td>\n",
              "      <td>Consumer</td>\n",
              "      <td>Furniture</td>\n",
              "      <td>Tables</td>\n",
              "      <td>9575775</td>\n",
              "      <td>5</td>\n",
              "      <td>-383031</td>\n",
              "    </tr>\n",
              "    <tr>\n",
              "      <th>2403</th>\n",
              "      <td>US-2016-110170</td>\n",
              "      <td>9/27/2016</td>\n",
              "      <td>HM-14860</td>\n",
              "      <td>Corporate</td>\n",
              "      <td>Furniture</td>\n",
              "      <td>Bookcases</td>\n",
              "      <td>9566648</td>\n",
              "      <td>7</td>\n",
              "      <td>-2250976</td>\n",
              "    </tr>\n",
              "    <tr>\n",
              "      <th>...</th>\n",
              "      <td>...</td>\n",
              "      <td>...</td>\n",
              "      <td>...</td>\n",
              "      <td>...</td>\n",
              "      <td>...</td>\n",
              "      <td>...</td>\n",
              "      <td>...</td>\n",
              "      <td>...</td>\n",
              "      <td>...</td>\n",
              "    </tr>\n",
              "    <tr>\n",
              "      <th>6105</th>\n",
              "      <td>CA-2016-150007</td>\n",
              "      <td>9/11/2016</td>\n",
              "      <td>AS-10090</td>\n",
              "      <td>Consumer</td>\n",
              "      <td>Office Supplies</td>\n",
              "      <td>Labels</td>\n",
              "      <td>6</td>\n",
              "      <td>2</td>\n",
              "      <td>21</td>\n",
              "    </tr>\n",
              "    <tr>\n",
              "      <th>9557</th>\n",
              "      <td>CA-2016-129280</td>\n",
              "      <td>5/3/2016</td>\n",
              "      <td>SM-20905</td>\n",
              "      <td>Consumer</td>\n",
              "      <td>Office Supplies</td>\n",
              "      <td>Labels</td>\n",
              "      <td>6</td>\n",
              "      <td>2</td>\n",
              "      <td>21</td>\n",
              "    </tr>\n",
              "    <tr>\n",
              "      <th>2259</th>\n",
              "      <td>CA-2015-117611</td>\n",
              "      <td>11/8/2015</td>\n",
              "      <td>MZ-17335</td>\n",
              "      <td>Home Office</td>\n",
              "      <td>Office Supplies</td>\n",
              "      <td>Fasteners</td>\n",
              "      <td>5</td>\n",
              "      <td>1</td>\n",
              "      <td>24</td>\n",
              "    </tr>\n",
              "    <tr>\n",
              "      <th>4660</th>\n",
              "      <td>CA-2016-111409</td>\n",
              "      <td>9/18/2016</td>\n",
              "      <td>PO-18850</td>\n",
              "      <td>Consumer</td>\n",
              "      <td>Office Supplies</td>\n",
              "      <td>Labels</td>\n",
              "      <td>3</td>\n",
              "      <td>1</td>\n",
              "      <td>105</td>\n",
              "    </tr>\n",
              "    <tr>\n",
              "      <th>8466</th>\n",
              "      <td>US-2017-132031</td>\n",
              "      <td>4/23/2017</td>\n",
              "      <td>PN-18775</td>\n",
              "      <td>Home Office</td>\n",
              "      <td>Office Supplies</td>\n",
              "      <td>Labels</td>\n",
              "      <td>3</td>\n",
              "      <td>1</td>\n",
              "      <td>105</td>\n",
              "    </tr>\n",
              "  </tbody>\n",
              "</table>\n",
              "<p>9988 rows × 9 columns</p>\n",
              "</div>"
            ],
            "text/plain": [
              "            order_id  order_date customer_id  ...     sales quantity   profit\n",
              "399   CA-2016-108987    9/8/2016    AG-10675  ...  23962656        4 -3171528\n",
              "5052  CA-2015-141243    1/3/2015    AH-10465  ...  13523976        9 -4375404\n",
              "8775  CA-2015-133585    3/1/2015    CM-12715  ...  12279984        6  -361176\n",
              "3     US-2015-108966  10/11/2015    SO-20335  ...   9575775        5  -383031\n",
              "2403  US-2016-110170   9/27/2016    HM-14860  ...   9566648        7 -2250976\n",
              "...              ...         ...         ...  ...       ...      ...      ...\n",
              "6105  CA-2016-150007   9/11/2016    AS-10090  ...         6        2       21\n",
              "9557  CA-2016-129280    5/3/2016    SM-20905  ...         6        2       21\n",
              "2259  CA-2015-117611   11/8/2015    MZ-17335  ...         5        1       24\n",
              "4660  CA-2016-111409   9/18/2016    PO-18850  ...         3        1      105\n",
              "8466  US-2017-132031   4/23/2017    PN-18775  ...         3        1      105\n",
              "\n",
              "[9988 rows x 9 columns]"
            ]
          },
          "metadata": {
            "tags": []
          },
          "execution_count": 42
        }
      ]
    },
    {
      "cell_type": "markdown",
      "metadata": {
        "id": "H8yLzSQ5oYZ0"
      },
      "source": [
        "**Menghapus Missing Data(NA)**"
      ]
    },
    {
      "cell_type": "code",
      "metadata": {
        "colab": {
          "base_uri": "https://localhost:8080/",
          "height": 415
        },
        "id": "peSzATK3oc5A",
        "outputId": "53dc9e06-e35e-4f7d-fef1-4e7ca1e3e6ad"
      },
      "source": [
        "df.dropna()"
      ],
      "execution_count": null,
      "outputs": [
        {
          "output_type": "execute_result",
          "data": {
            "text/html": [
              "<div>\n",
              "<style scoped>\n",
              "    .dataframe tbody tr th:only-of-type {\n",
              "        vertical-align: middle;\n",
              "    }\n",
              "\n",
              "    .dataframe tbody tr th {\n",
              "        vertical-align: top;\n",
              "    }\n",
              "\n",
              "    .dataframe thead th {\n",
              "        text-align: right;\n",
              "    }\n",
              "</style>\n",
              "<table border=\"1\" class=\"dataframe\">\n",
              "  <thead>\n",
              "    <tr style=\"text-align: right;\">\n",
              "      <th></th>\n",
              "      <th>order_id</th>\n",
              "      <th>order_date</th>\n",
              "      <th>customer_id</th>\n",
              "      <th>segment</th>\n",
              "      <th>category</th>\n",
              "      <th>sub_category</th>\n",
              "      <th>sales</th>\n",
              "      <th>quantity</th>\n",
              "      <th>profit</th>\n",
              "    </tr>\n",
              "  </thead>\n",
              "  <tbody>\n",
              "    <tr>\n",
              "      <th>0</th>\n",
              "      <td>CA-2016-152156</td>\n",
              "      <td>11/8/2016</td>\n",
              "      <td>CG-12520</td>\n",
              "      <td>Consumer</td>\n",
              "      <td>Furniture</td>\n",
              "      <td>Bookcases</td>\n",
              "      <td>26196</td>\n",
              "      <td>2</td>\n",
              "      <td>419136</td>\n",
              "    </tr>\n",
              "    <tr>\n",
              "      <th>1</th>\n",
              "      <td>CA-2016-152156</td>\n",
              "      <td>11/8/2016</td>\n",
              "      <td>CG-12520</td>\n",
              "      <td>Consumer</td>\n",
              "      <td>Furniture</td>\n",
              "      <td>Chairs</td>\n",
              "      <td>73194</td>\n",
              "      <td>3</td>\n",
              "      <td>219582</td>\n",
              "    </tr>\n",
              "    <tr>\n",
              "      <th>2</th>\n",
              "      <td>CA-2016-138688</td>\n",
              "      <td>6/12/2016</td>\n",
              "      <td>DV-13045</td>\n",
              "      <td>Corporate</td>\n",
              "      <td>Office Supplies</td>\n",
              "      <td>Labels</td>\n",
              "      <td>1462</td>\n",
              "      <td>2</td>\n",
              "      <td>68714</td>\n",
              "    </tr>\n",
              "    <tr>\n",
              "      <th>3</th>\n",
              "      <td>US-2015-108966</td>\n",
              "      <td>10/11/2015</td>\n",
              "      <td>SO-20335</td>\n",
              "      <td>Consumer</td>\n",
              "      <td>Furniture</td>\n",
              "      <td>Tables</td>\n",
              "      <td>9575775</td>\n",
              "      <td>5</td>\n",
              "      <td>-383031</td>\n",
              "    </tr>\n",
              "    <tr>\n",
              "      <th>4</th>\n",
              "      <td>US-2015-108966</td>\n",
              "      <td>10/11/2015</td>\n",
              "      <td>SO-20335</td>\n",
              "      <td>Consumer</td>\n",
              "      <td>Office Supplies</td>\n",
              "      <td>Storage</td>\n",
              "      <td>22368</td>\n",
              "      <td>2</td>\n",
              "      <td>25164</td>\n",
              "    </tr>\n",
              "    <tr>\n",
              "      <th>...</th>\n",
              "      <td>...</td>\n",
              "      <td>...</td>\n",
              "      <td>...</td>\n",
              "      <td>...</td>\n",
              "      <td>...</td>\n",
              "      <td>...</td>\n",
              "      <td>...</td>\n",
              "      <td>...</td>\n",
              "      <td>...</td>\n",
              "    </tr>\n",
              "    <tr>\n",
              "      <th>9983</th>\n",
              "      <td>CA-2014-110422</td>\n",
              "      <td>1/21/2014</td>\n",
              "      <td>TB-21400</td>\n",
              "      <td>Consumer</td>\n",
              "      <td>Furniture</td>\n",
              "      <td>Furnishings</td>\n",
              "      <td>25248</td>\n",
              "      <td>3</td>\n",
              "      <td>41028</td>\n",
              "    </tr>\n",
              "    <tr>\n",
              "      <th>9984</th>\n",
              "      <td>CA-2017-121258</td>\n",
              "      <td>2/26/2017</td>\n",
              "      <td>DB-13060</td>\n",
              "      <td>Consumer</td>\n",
              "      <td>Furniture</td>\n",
              "      <td>Furnishings</td>\n",
              "      <td>9196</td>\n",
              "      <td>2</td>\n",
              "      <td>156332</td>\n",
              "    </tr>\n",
              "    <tr>\n",
              "      <th>9985</th>\n",
              "      <td>CA-2017-121258</td>\n",
              "      <td>2/26/2017</td>\n",
              "      <td>DB-13060</td>\n",
              "      <td>Consumer</td>\n",
              "      <td>Technology</td>\n",
              "      <td>Phones</td>\n",
              "      <td>258576</td>\n",
              "      <td>2</td>\n",
              "      <td>193932</td>\n",
              "    </tr>\n",
              "    <tr>\n",
              "      <th>9986</th>\n",
              "      <td>CA-2017-121258</td>\n",
              "      <td>2/26/2017</td>\n",
              "      <td>DB-13060</td>\n",
              "      <td>Consumer</td>\n",
              "      <td>Office Supplies</td>\n",
              "      <td>Paper</td>\n",
              "      <td>296</td>\n",
              "      <td>4</td>\n",
              "      <td>1332</td>\n",
              "    </tr>\n",
              "    <tr>\n",
              "      <th>9987</th>\n",
              "      <td>CA-2017-119914</td>\n",
              "      <td>5/4/2017</td>\n",
              "      <td>CC-12220</td>\n",
              "      <td>Consumer</td>\n",
              "      <td>Office Supplies</td>\n",
              "      <td>Appliances</td>\n",
              "      <td>24316</td>\n",
              "      <td>2</td>\n",
              "      <td>72948</td>\n",
              "    </tr>\n",
              "  </tbody>\n",
              "</table>\n",
              "<p>9988 rows × 9 columns</p>\n",
              "</div>"
            ],
            "text/plain": [
              "            order_id  order_date customer_id  ...    sales quantity  profit\n",
              "0     CA-2016-152156   11/8/2016    CG-12520  ...    26196        2  419136\n",
              "1     CA-2016-152156   11/8/2016    CG-12520  ...    73194        3  219582\n",
              "2     CA-2016-138688   6/12/2016    DV-13045  ...     1462        2   68714\n",
              "3     US-2015-108966  10/11/2015    SO-20335  ...  9575775        5 -383031\n",
              "4     US-2015-108966  10/11/2015    SO-20335  ...    22368        2   25164\n",
              "...              ...         ...         ...  ...      ...      ...     ...\n",
              "9983  CA-2014-110422   1/21/2014    TB-21400  ...    25248        3   41028\n",
              "9984  CA-2017-121258   2/26/2017    DB-13060  ...     9196        2  156332\n",
              "9985  CA-2017-121258   2/26/2017    DB-13060  ...   258576        2  193932\n",
              "9986  CA-2017-121258   2/26/2017    DB-13060  ...      296        4    1332\n",
              "9987  CA-2017-119914    5/4/2017    CC-12220  ...    24316        2   72948\n",
              "\n",
              "[9988 rows x 9 columns]"
            ]
          },
          "metadata": {
            "tags": []
          },
          "execution_count": 150
        }
      ]
    },
    {
      "cell_type": "code",
      "metadata": {
        "colab": {
          "base_uri": "https://localhost:8080/",
          "height": 419
        },
        "id": "6sAqsv3Zrfx9",
        "outputId": "d3a3cbe9-b5ea-4a2b-9c60-5763f3fe2a18"
      },
      "source": [
        "df.dropna()"
      ],
      "execution_count": 43,
      "outputs": [
        {
          "output_type": "execute_result",
          "data": {
            "text/html": [
              "<div>\n",
              "<style scoped>\n",
              "    .dataframe tbody tr th:only-of-type {\n",
              "        vertical-align: middle;\n",
              "    }\n",
              "\n",
              "    .dataframe tbody tr th {\n",
              "        vertical-align: top;\n",
              "    }\n",
              "\n",
              "    .dataframe thead th {\n",
              "        text-align: right;\n",
              "    }\n",
              "</style>\n",
              "<table border=\"1\" class=\"dataframe\">\n",
              "  <thead>\n",
              "    <tr style=\"text-align: right;\">\n",
              "      <th></th>\n",
              "      <th>order_id</th>\n",
              "      <th>order_date</th>\n",
              "      <th>customer_id</th>\n",
              "      <th>segment</th>\n",
              "      <th>category</th>\n",
              "      <th>sub_category</th>\n",
              "      <th>sales</th>\n",
              "      <th>quantity</th>\n",
              "      <th>profit</th>\n",
              "    </tr>\n",
              "  </thead>\n",
              "  <tbody>\n",
              "    <tr>\n",
              "      <th>0</th>\n",
              "      <td>CA-2016-152156</td>\n",
              "      <td>11/8/2016</td>\n",
              "      <td>CG-12520</td>\n",
              "      <td>Consumer</td>\n",
              "      <td>Furniture</td>\n",
              "      <td>Bookcases</td>\n",
              "      <td>26196</td>\n",
              "      <td>2</td>\n",
              "      <td>419136</td>\n",
              "    </tr>\n",
              "    <tr>\n",
              "      <th>1</th>\n",
              "      <td>CA-2016-152156</td>\n",
              "      <td>11/8/2016</td>\n",
              "      <td>CG-12520</td>\n",
              "      <td>Consumer</td>\n",
              "      <td>Furniture</td>\n",
              "      <td>Chairs</td>\n",
              "      <td>73194</td>\n",
              "      <td>3</td>\n",
              "      <td>219582</td>\n",
              "    </tr>\n",
              "    <tr>\n",
              "      <th>2</th>\n",
              "      <td>CA-2016-138688</td>\n",
              "      <td>6/12/2016</td>\n",
              "      <td>DV-13045</td>\n",
              "      <td>Corporate</td>\n",
              "      <td>Office Supplies</td>\n",
              "      <td>Labels</td>\n",
              "      <td>1462</td>\n",
              "      <td>2</td>\n",
              "      <td>68714</td>\n",
              "    </tr>\n",
              "    <tr>\n",
              "      <th>3</th>\n",
              "      <td>US-2015-108966</td>\n",
              "      <td>10/11/2015</td>\n",
              "      <td>SO-20335</td>\n",
              "      <td>Consumer</td>\n",
              "      <td>Furniture</td>\n",
              "      <td>Tables</td>\n",
              "      <td>9575775</td>\n",
              "      <td>5</td>\n",
              "      <td>-383031</td>\n",
              "    </tr>\n",
              "    <tr>\n",
              "      <th>4</th>\n",
              "      <td>US-2015-108966</td>\n",
              "      <td>10/11/2015</td>\n",
              "      <td>SO-20335</td>\n",
              "      <td>Consumer</td>\n",
              "      <td>Office Supplies</td>\n",
              "      <td>Storage</td>\n",
              "      <td>22368</td>\n",
              "      <td>2</td>\n",
              "      <td>25164</td>\n",
              "    </tr>\n",
              "    <tr>\n",
              "      <th>...</th>\n",
              "      <td>...</td>\n",
              "      <td>...</td>\n",
              "      <td>...</td>\n",
              "      <td>...</td>\n",
              "      <td>...</td>\n",
              "      <td>...</td>\n",
              "      <td>...</td>\n",
              "      <td>...</td>\n",
              "      <td>...</td>\n",
              "    </tr>\n",
              "    <tr>\n",
              "      <th>9983</th>\n",
              "      <td>CA-2014-110422</td>\n",
              "      <td>1/21/2014</td>\n",
              "      <td>TB-21400</td>\n",
              "      <td>Consumer</td>\n",
              "      <td>Furniture</td>\n",
              "      <td>Furnishings</td>\n",
              "      <td>25248</td>\n",
              "      <td>3</td>\n",
              "      <td>41028</td>\n",
              "    </tr>\n",
              "    <tr>\n",
              "      <th>9984</th>\n",
              "      <td>CA-2017-121258</td>\n",
              "      <td>2/26/2017</td>\n",
              "      <td>DB-13060</td>\n",
              "      <td>Consumer</td>\n",
              "      <td>Furniture</td>\n",
              "      <td>Furnishings</td>\n",
              "      <td>9196</td>\n",
              "      <td>2</td>\n",
              "      <td>156332</td>\n",
              "    </tr>\n",
              "    <tr>\n",
              "      <th>9985</th>\n",
              "      <td>CA-2017-121258</td>\n",
              "      <td>2/26/2017</td>\n",
              "      <td>DB-13060</td>\n",
              "      <td>Consumer</td>\n",
              "      <td>Technology</td>\n",
              "      <td>Phones</td>\n",
              "      <td>258576</td>\n",
              "      <td>2</td>\n",
              "      <td>193932</td>\n",
              "    </tr>\n",
              "    <tr>\n",
              "      <th>9986</th>\n",
              "      <td>CA-2017-121258</td>\n",
              "      <td>2/26/2017</td>\n",
              "      <td>DB-13060</td>\n",
              "      <td>Consumer</td>\n",
              "      <td>Office Supplies</td>\n",
              "      <td>Paper</td>\n",
              "      <td>296</td>\n",
              "      <td>4</td>\n",
              "      <td>1332</td>\n",
              "    </tr>\n",
              "    <tr>\n",
              "      <th>9987</th>\n",
              "      <td>CA-2017-119914</td>\n",
              "      <td>5/4/2017</td>\n",
              "      <td>CC-12220</td>\n",
              "      <td>Consumer</td>\n",
              "      <td>Office Supplies</td>\n",
              "      <td>Appliances</td>\n",
              "      <td>24316</td>\n",
              "      <td>2</td>\n",
              "      <td>72948</td>\n",
              "    </tr>\n",
              "  </tbody>\n",
              "</table>\n",
              "<p>9988 rows × 9 columns</p>\n",
              "</div>"
            ],
            "text/plain": [
              "            order_id  order_date customer_id  ...    sales quantity  profit\n",
              "0     CA-2016-152156   11/8/2016    CG-12520  ...    26196        2  419136\n",
              "1     CA-2016-152156   11/8/2016    CG-12520  ...    73194        3  219582\n",
              "2     CA-2016-138688   6/12/2016    DV-13045  ...     1462        2   68714\n",
              "3     US-2015-108966  10/11/2015    SO-20335  ...  9575775        5 -383031\n",
              "4     US-2015-108966  10/11/2015    SO-20335  ...    22368        2   25164\n",
              "...              ...         ...         ...  ...      ...      ...     ...\n",
              "9983  CA-2014-110422   1/21/2014    TB-21400  ...    25248        3   41028\n",
              "9984  CA-2017-121258   2/26/2017    DB-13060  ...     9196        2  156332\n",
              "9985  CA-2017-121258   2/26/2017    DB-13060  ...   258576        2  193932\n",
              "9986  CA-2017-121258   2/26/2017    DB-13060  ...      296        4    1332\n",
              "9987  CA-2017-119914    5/4/2017    CC-12220  ...    24316        2   72948\n",
              "\n",
              "[9988 rows x 9 columns]"
            ]
          },
          "metadata": {
            "tags": []
          },
          "execution_count": 43
        }
      ]
    },
    {
      "cell_type": "markdown",
      "metadata": {
        "id": "uSBBt9IQq9Sk"
      },
      "source": [
        "### Fungsi-fungsi pada Data Frame"
      ]
    },
    {
      "cell_type": "markdown",
      "metadata": {
        "id": "6FDxncjXu5Gl"
      },
      "source": [
        "**Count**"
      ]
    },
    {
      "cell_type": "code",
      "metadata": {
        "colab": {
          "base_uri": "https://localhost:8080/"
        },
        "id": "2OWDNdfjz5ty",
        "outputId": "c270b897-5677-41de-a437-bf83cf6b9cec"
      },
      "source": [
        "#Menghitung jumlah baris data dalam suatu kolom\n",
        "df.count()"
      ],
      "execution_count": null,
      "outputs": [
        {
          "output_type": "execute_result",
          "data": {
            "text/plain": [
              "order_id        9988\n",
              "order_date      9988\n",
              "customer_id     9988\n",
              "segment         9988\n",
              "category        9988\n",
              "sub_category    9988\n",
              "sales           9988\n",
              "quantity        9988\n",
              "profit          9988\n",
              "dtype: int64"
            ]
          },
          "metadata": {
            "tags": []
          },
          "execution_count": 151
        }
      ]
    },
    {
      "cell_type": "code",
      "metadata": {
        "colab": {
          "base_uri": "https://localhost:8080/"
        },
        "id": "M2AKjsbLr4Qp",
        "outputId": "7be2ac65-2c86-49d6-fa73-6415e58fda8a"
      },
      "source": [
        "df.count()"
      ],
      "execution_count": 44,
      "outputs": [
        {
          "output_type": "execute_result",
          "data": {
            "text/plain": [
              "order_id        9988\n",
              "order_date      9988\n",
              "customer_id     9988\n",
              "segment         9988\n",
              "category        9988\n",
              "sub_category    9988\n",
              "sales           9988\n",
              "quantity        9988\n",
              "profit          9988\n",
              "dtype: int64"
            ]
          },
          "metadata": {
            "tags": []
          },
          "execution_count": 44
        }
      ]
    },
    {
      "cell_type": "markdown",
      "metadata": {
        "id": "choMHlYzu79J"
      },
      "source": [
        "**Value Counts**"
      ]
    },
    {
      "cell_type": "code",
      "metadata": {
        "colab": {
          "base_uri": "https://localhost:8080/"
        },
        "id": "shEfbzxGz_ao",
        "outputId": "0685c4a2-2daa-4a67-f4ad-b6d4aed4feaa"
      },
      "source": [
        "#Menghitung jumlah data per kelas dalam data kategori\n",
        "df.segment.value_counts()"
      ],
      "execution_count": null,
      "outputs": [
        {
          "output_type": "execute_result",
          "data": {
            "text/plain": [
              "Consumer       5188\n",
              "Corporate      3019\n",
              "Home Office    1781\n",
              "Name: segment, dtype: int64"
            ]
          },
          "metadata": {
            "tags": []
          },
          "execution_count": 152
        }
      ]
    },
    {
      "cell_type": "code",
      "metadata": {
        "colab": {
          "base_uri": "https://localhost:8080/"
        },
        "id": "ApNjQTqZr_fH",
        "outputId": "ec867556-0f69-4c09-88d8-b349bf4e82c0"
      },
      "source": [
        "df.segment.value_counts()"
      ],
      "execution_count": 45,
      "outputs": [
        {
          "output_type": "execute_result",
          "data": {
            "text/plain": [
              "Consumer       5188\n",
              "Corporate      3019\n",
              "Home Office    1781\n",
              "Name: segment, dtype: int64"
            ]
          },
          "metadata": {
            "tags": []
          },
          "execution_count": 45
        }
      ]
    },
    {
      "cell_type": "markdown",
      "metadata": {
        "id": "QmvUbikRu_dj"
      },
      "source": [
        "**Sum**"
      ]
    },
    {
      "cell_type": "code",
      "metadata": {
        "colab": {
          "base_uri": "https://localhost:8080/"
        },
        "id": "rYMW8mxB0Kiv",
        "outputId": "af6712d6-a287-44dd-9be4-14f2c81172ad"
      },
      "source": [
        "#Menjumlahkan data dalam satu kolom numerik\n",
        "df.profit.sum()"
      ],
      "execution_count": null,
      "outputs": [
        {
          "output_type": "execute_result",
          "data": {
            "text/plain": [
              "1659387772"
            ]
          },
          "metadata": {
            "tags": []
          },
          "execution_count": 153
        }
      ]
    },
    {
      "cell_type": "code",
      "metadata": {
        "colab": {
          "base_uri": "https://localhost:8080/"
        },
        "id": "xqWzHXi6sNKD",
        "outputId": "4f9d08e0-f357-4e4b-8615-815b251236bb"
      },
      "source": [
        "df.sales.sum()"
      ],
      "execution_count": 46,
      "outputs": [
        {
          "output_type": "execute_result",
          "data": {
            "text/plain": [
              "1109427931"
            ]
          },
          "metadata": {
            "tags": []
          },
          "execution_count": 46
        }
      ]
    },
    {
      "cell_type": "markdown",
      "metadata": {
        "id": "yjMfJ5QJvF_Q"
      },
      "source": [
        "**Max**"
      ]
    },
    {
      "cell_type": "code",
      "metadata": {
        "colab": {
          "base_uri": "https://localhost:8080/"
        },
        "id": "Xbt-S_5m0M_C",
        "outputId": "4ec23abf-07e5-4c4d-a94a-7de76d8ae0b9"
      },
      "source": [
        "#Nilai maximum data dalam satu kolom numerik\n",
        "df.profit.max()"
      ],
      "execution_count": null,
      "outputs": [
        {
          "output_type": "execute_result",
          "data": {
            "text/plain": [
              "46304755"
            ]
          },
          "metadata": {
            "tags": []
          },
          "execution_count": 154
        }
      ]
    },
    {
      "cell_type": "code",
      "metadata": {
        "colab": {
          "base_uri": "https://localhost:8080/"
        },
        "id": "HjPD0FN1sXc5",
        "outputId": "3aababb9-c375-46f3-be65-be188500020f"
      },
      "source": [
        "df.sales.max()"
      ],
      "execution_count": 47,
      "outputs": [
        {
          "output_type": "execute_result",
          "data": {
            "text/plain": [
              "23962656"
            ]
          },
          "metadata": {
            "tags": []
          },
          "execution_count": 47
        }
      ]
    },
    {
      "cell_type": "markdown",
      "metadata": {
        "id": "GS_j1wZ7vLBS"
      },
      "source": [
        "**Min**"
      ]
    },
    {
      "cell_type": "code",
      "metadata": {
        "colab": {
          "base_uri": "https://localhost:8080/"
        },
        "id": "kmlp_l3H0Oos",
        "outputId": "6a3712b2-2a9c-4229-80e1-68e2168df909"
      },
      "source": [
        "#Nilai minimum data dalam satu kolom numerik\n",
        "df.profit.min()"
      ],
      "execution_count": null,
      "outputs": [
        {
          "output_type": "execute_result",
          "data": {
            "text/plain": [
              "-38399904"
            ]
          },
          "metadata": {
            "tags": []
          },
          "execution_count": 155
        }
      ]
    },
    {
      "cell_type": "code",
      "metadata": {
        "colab": {
          "base_uri": "https://localhost:8080/"
        },
        "id": "qlTD2faTsh4q",
        "outputId": "93ab9283-c285-467e-85a3-2e8f1b93bf5d"
      },
      "source": [
        "df.sales.min()"
      ],
      "execution_count": 48,
      "outputs": [
        {
          "output_type": "execute_result",
          "data": {
            "text/plain": [
              "3"
            ]
          },
          "metadata": {
            "tags": []
          },
          "execution_count": 48
        }
      ]
    },
    {
      "cell_type": "markdown",
      "metadata": {
        "id": "nUj_61a_01e3"
      },
      "source": [
        "**Mean**"
      ]
    },
    {
      "cell_type": "code",
      "metadata": {
        "colab": {
          "base_uri": "https://localhost:8080/"
        },
        "id": "OkBmJsKI024d",
        "outputId": "ec8f33ef-b0f4-4021-e000-ab1d3b664c05"
      },
      "source": [
        "#Nilai rata-rata data dalam satu kolom numerik\n",
        "df.profit.mean()"
      ],
      "execution_count": null,
      "outputs": [
        {
          "output_type": "execute_result",
          "data": {
            "text/plain": [
              "166138.1429715659"
            ]
          },
          "metadata": {
            "tags": []
          },
          "execution_count": 156
        }
      ]
    },
    {
      "cell_type": "code",
      "metadata": {
        "colab": {
          "base_uri": "https://localhost:8080/"
        },
        "id": "YSl3Jzbuspfo",
        "outputId": "297809f9-2b30-4036-84a7-12fbb9d4d4fa"
      },
      "source": [
        "df.sales.mean()"
      ],
      "execution_count": 49,
      "outputs": [
        {
          "output_type": "execute_result",
          "data": {
            "text/plain": [
              "111076.08440128154"
            ]
          },
          "metadata": {
            "tags": []
          },
          "execution_count": 49
        }
      ]
    },
    {
      "cell_type": "markdown",
      "metadata": {
        "id": "jhDveukgwuG7"
      },
      "source": [
        "**Isnull()**"
      ]
    },
    {
      "cell_type": "code",
      "metadata": {
        "colab": {
          "base_uri": "https://localhost:8080/"
        },
        "id": "0LZEBWB30U8l",
        "outputId": "26480c5b-55e6-4dfe-a945-02894bb797ab"
      },
      "source": [
        "#Menghitung jumlah data yang mengandung NA dalam sebuah dataset\n",
        "df.isnull().sum()"
      ],
      "execution_count": null,
      "outputs": [
        {
          "output_type": "execute_result",
          "data": {
            "text/plain": [
              "order_id        0\n",
              "order_date      0\n",
              "customer_id     0\n",
              "segment         0\n",
              "category        0\n",
              "sub_category    0\n",
              "sales           0\n",
              "quantity        0\n",
              "profit          0\n",
              "dtype: int64"
            ]
          },
          "metadata": {
            "tags": []
          },
          "execution_count": 157
        }
      ]
    },
    {
      "cell_type": "code",
      "metadata": {
        "colab": {
          "base_uri": "https://localhost:8080/"
        },
        "id": "YDON7OOoszoX",
        "outputId": "efad7a91-8df3-40bf-de14-c37849042874"
      },
      "source": [
        "df.isnull().sum()"
      ],
      "execution_count": 50,
      "outputs": [
        {
          "output_type": "execute_result",
          "data": {
            "text/plain": [
              "order_id        0\n",
              "order_date      0\n",
              "customer_id     0\n",
              "segment         0\n",
              "category        0\n",
              "sub_category    0\n",
              "sales           0\n",
              "quantity        0\n",
              "profit          0\n",
              "dtype: int64"
            ]
          },
          "metadata": {
            "tags": []
          },
          "execution_count": 50
        }
      ]
    },
    {
      "cell_type": "markdown",
      "metadata": {
        "id": "rA_4O8_klUII"
      },
      "source": [
        "## Eksploratory Data Anlysis[EDA] Dasar"
      ]
    },
    {
      "cell_type": "markdown",
      "metadata": {
        "id": "cBtqeVGS3YiZ"
      },
      "source": [
        "Exploratory Data Analysis (EDA) adalah bagian dari proses data science. EDA menjadi sangat penting sebelum melakukan feature engineering dan modeling karena dalam tahap ini kita harus memahami datanya terlebih dahulu.\n",
        "\n",
        "Exploratory Data Analysis mengacu pada proses kritis dalam melakukan investigasi awal pada data untuk menemukan pola, untuk menemukan anomali, untuk menguji hipotesis dan untuk memeriksa asumsi dengan bantuan statistik ringkasan dan representasi grafis. Dengan melakukan EDA, kita dapat lebih memahami kondisi dataset yang kita miliki. "
      ]
    },
    {
      "cell_type": "markdown",
      "metadata": {
        "id": "TQTRIrnnv1d1"
      },
      "source": [
        "### Mengakses dataset"
      ]
    },
    {
      "cell_type": "code",
      "metadata": {
        "colab": {
          "base_uri": "https://localhost:8080/",
          "height": 202
        },
        "id": "v1AmW3H0v4js",
        "outputId": "539787dd-076e-4621-9654-52a3c780efe5"
      },
      "source": [
        "df = pd.read_csv(\"https://raw.githubusercontent.com/jokoeliyanto/Kelas-Dasar-Pejuang-Data-2.0/main/Super-Store-Dataset.csv\")\n",
        "df.head() "
      ],
      "execution_count": null,
      "outputs": [
        {
          "output_type": "execute_result",
          "data": {
            "text/html": [
              "<div>\n",
              "<style scoped>\n",
              "    .dataframe tbody tr th:only-of-type {\n",
              "        vertical-align: middle;\n",
              "    }\n",
              "\n",
              "    .dataframe tbody tr th {\n",
              "        vertical-align: top;\n",
              "    }\n",
              "\n",
              "    .dataframe thead th {\n",
              "        text-align: right;\n",
              "    }\n",
              "</style>\n",
              "<table border=\"1\" class=\"dataframe\">\n",
              "  <thead>\n",
              "    <tr style=\"text-align: right;\">\n",
              "      <th></th>\n",
              "      <th>order_id</th>\n",
              "      <th>order_date</th>\n",
              "      <th>customer_id</th>\n",
              "      <th>segment</th>\n",
              "      <th>category</th>\n",
              "      <th>sub_category</th>\n",
              "      <th>sales</th>\n",
              "      <th>quantity</th>\n",
              "      <th>profit</th>\n",
              "    </tr>\n",
              "  </thead>\n",
              "  <tbody>\n",
              "    <tr>\n",
              "      <th>0</th>\n",
              "      <td>CA-2016-152156</td>\n",
              "      <td>11/8/2016</td>\n",
              "      <td>CG-12520</td>\n",
              "      <td>Consumer</td>\n",
              "      <td>Furniture</td>\n",
              "      <td>Bookcases</td>\n",
              "      <td>261.9600</td>\n",
              "      <td>2</td>\n",
              "      <td>41.9136</td>\n",
              "    </tr>\n",
              "    <tr>\n",
              "      <th>1</th>\n",
              "      <td>CA-2016-152156</td>\n",
              "      <td>11/8/2016</td>\n",
              "      <td>CG-12520</td>\n",
              "      <td>Consumer</td>\n",
              "      <td>Furniture</td>\n",
              "      <td>Chairs</td>\n",
              "      <td>731.9400</td>\n",
              "      <td>3</td>\n",
              "      <td>219.5820</td>\n",
              "    </tr>\n",
              "    <tr>\n",
              "      <th>2</th>\n",
              "      <td>CA-2016-138688</td>\n",
              "      <td>6/12/2016</td>\n",
              "      <td>DV-13045</td>\n",
              "      <td>Corporate</td>\n",
              "      <td>Office Supplies</td>\n",
              "      <td>Labels</td>\n",
              "      <td>14.6200</td>\n",
              "      <td>2</td>\n",
              "      <td>6.8714</td>\n",
              "    </tr>\n",
              "    <tr>\n",
              "      <th>3</th>\n",
              "      <td>US-2015-108966</td>\n",
              "      <td>10/11/2015</td>\n",
              "      <td>SO-20335</td>\n",
              "      <td>Consumer</td>\n",
              "      <td>Furniture</td>\n",
              "      <td>Tables</td>\n",
              "      <td>957.5775</td>\n",
              "      <td>5</td>\n",
              "      <td>-383.0310</td>\n",
              "    </tr>\n",
              "    <tr>\n",
              "      <th>4</th>\n",
              "      <td>US-2015-108966</td>\n",
              "      <td>10/11/2015</td>\n",
              "      <td>SO-20335</td>\n",
              "      <td>Consumer</td>\n",
              "      <td>Office Supplies</td>\n",
              "      <td>Storage</td>\n",
              "      <td>22.3680</td>\n",
              "      <td>2</td>\n",
              "      <td>2.5164</td>\n",
              "    </tr>\n",
              "  </tbody>\n",
              "</table>\n",
              "</div>"
            ],
            "text/plain": [
              "         order_id  order_date customer_id  ...     sales quantity    profit\n",
              "0  CA-2016-152156   11/8/2016    CG-12520  ...  261.9600        2   41.9136\n",
              "1  CA-2016-152156   11/8/2016    CG-12520  ...  731.9400        3  219.5820\n",
              "2  CA-2016-138688   6/12/2016    DV-13045  ...   14.6200        2    6.8714\n",
              "3  US-2015-108966  10/11/2015    SO-20335  ...  957.5775        5 -383.0310\n",
              "4  US-2015-108966  10/11/2015    SO-20335  ...   22.3680        2    2.5164\n",
              "\n",
              "[5 rows x 9 columns]"
            ]
          },
          "metadata": {
            "tags": []
          },
          "execution_count": 158
        }
      ]
    },
    {
      "cell_type": "code",
      "metadata": {
        "colab": {
          "base_uri": "https://localhost:8080/",
          "height": 204
        },
        "id": "-yx60e_GtEHD",
        "outputId": "8b2a207f-77db-42ac-a0c1-70fd037e2366"
      },
      "source": [
        "df = pd.read_csv(\"https://raw.githubusercontent.com/Alifhidayatunnisa/Basic-Python-Programming-for-Data-Science/main/Super%20Store%20Dataset.csv\")\n",
        "df.head()"
      ],
      "execution_count": 51,
      "outputs": [
        {
          "output_type": "execute_result",
          "data": {
            "text/html": [
              "<div>\n",
              "<style scoped>\n",
              "    .dataframe tbody tr th:only-of-type {\n",
              "        vertical-align: middle;\n",
              "    }\n",
              "\n",
              "    .dataframe tbody tr th {\n",
              "        vertical-align: top;\n",
              "    }\n",
              "\n",
              "    .dataframe thead th {\n",
              "        text-align: right;\n",
              "    }\n",
              "</style>\n",
              "<table border=\"1\" class=\"dataframe\">\n",
              "  <thead>\n",
              "    <tr style=\"text-align: right;\">\n",
              "      <th></th>\n",
              "      <th>order_id</th>\n",
              "      <th>order_date</th>\n",
              "      <th>customer_id</th>\n",
              "      <th>segment</th>\n",
              "      <th>category</th>\n",
              "      <th>sub_category</th>\n",
              "      <th>sales</th>\n",
              "      <th>quantity</th>\n",
              "      <th>profit</th>\n",
              "    </tr>\n",
              "  </thead>\n",
              "  <tbody>\n",
              "    <tr>\n",
              "      <th>0</th>\n",
              "      <td>CA-2016-152156</td>\n",
              "      <td>11/8/2016</td>\n",
              "      <td>CG-12520</td>\n",
              "      <td>Consumer</td>\n",
              "      <td>Furniture</td>\n",
              "      <td>Bookcases</td>\n",
              "      <td>26196</td>\n",
              "      <td>2</td>\n",
              "      <td>419136</td>\n",
              "    </tr>\n",
              "    <tr>\n",
              "      <th>1</th>\n",
              "      <td>CA-2016-152156</td>\n",
              "      <td>11/8/2016</td>\n",
              "      <td>CG-12520</td>\n",
              "      <td>Consumer</td>\n",
              "      <td>Furniture</td>\n",
              "      <td>Chairs</td>\n",
              "      <td>73194</td>\n",
              "      <td>3</td>\n",
              "      <td>219582</td>\n",
              "    </tr>\n",
              "    <tr>\n",
              "      <th>2</th>\n",
              "      <td>CA-2016-138688</td>\n",
              "      <td>6/12/2016</td>\n",
              "      <td>DV-13045</td>\n",
              "      <td>Corporate</td>\n",
              "      <td>Office Supplies</td>\n",
              "      <td>Labels</td>\n",
              "      <td>1462</td>\n",
              "      <td>2</td>\n",
              "      <td>68714</td>\n",
              "    </tr>\n",
              "    <tr>\n",
              "      <th>3</th>\n",
              "      <td>US-2015-108966</td>\n",
              "      <td>10/11/2015</td>\n",
              "      <td>SO-20335</td>\n",
              "      <td>Consumer</td>\n",
              "      <td>Furniture</td>\n",
              "      <td>Tables</td>\n",
              "      <td>9575775</td>\n",
              "      <td>5</td>\n",
              "      <td>-383031</td>\n",
              "    </tr>\n",
              "    <tr>\n",
              "      <th>4</th>\n",
              "      <td>US-2015-108966</td>\n",
              "      <td>10/11/2015</td>\n",
              "      <td>SO-20335</td>\n",
              "      <td>Consumer</td>\n",
              "      <td>Office Supplies</td>\n",
              "      <td>Storage</td>\n",
              "      <td>22368</td>\n",
              "      <td>2</td>\n",
              "      <td>25164</td>\n",
              "    </tr>\n",
              "  </tbody>\n",
              "</table>\n",
              "</div>"
            ],
            "text/plain": [
              "         order_id  order_date customer_id  ...    sales quantity  profit\n",
              "0  CA-2016-152156   11/8/2016    CG-12520  ...    26196        2  419136\n",
              "1  CA-2016-152156   11/8/2016    CG-12520  ...    73194        3  219582\n",
              "2  CA-2016-138688   6/12/2016    DV-13045  ...     1462        2   68714\n",
              "3  US-2015-108966  10/11/2015    SO-20335  ...  9575775        5 -383031\n",
              "4  US-2015-108966  10/11/2015    SO-20335  ...    22368        2   25164\n",
              "\n",
              "[5 rows x 9 columns]"
            ]
          },
          "metadata": {
            "tags": []
          },
          "execution_count": 51
        }
      ]
    },
    {
      "cell_type": "markdown",
      "metadata": {
        "id": "fNJlxji43rIv"
      },
      "source": [
        "### Memahami dataset\n",
        "\n",
        "Variabel-variabel yang terdapat pada dataset ini adalah sebagai berikut:\n",
        "1. **order_id** = Nomor ID pembelian(nota)\n",
        "2. **order_data** = Tanggal pembelian\n",
        "3. **customer_id** = Nomor ID pembeli\n",
        "4. **segment** = Segmen produk \n",
        "5. **category** = Kategori produk\n",
        "6. **sub_category** = Sub kategori produk\n",
        "7. **sales** = Total harga pembelian\n",
        "8. **quantity** = Jumlah produk dibeli\n",
        "9. **profit** = Keuntungan\n"
      ]
    },
    {
      "cell_type": "markdown",
      "metadata": {
        "id": "ZSFZKnO2ugvF"
      },
      "source": [
        "### Dimensi Data"
      ]
    },
    {
      "cell_type": "code",
      "metadata": {
        "colab": {
          "base_uri": "https://localhost:8080/"
        },
        "id": "USvZFUvdunld",
        "outputId": "f42f1114-e616-4173-e54c-d4c3d8a48edb"
      },
      "source": [
        "df.shape"
      ],
      "execution_count": null,
      "outputs": [
        {
          "output_type": "execute_result",
          "data": {
            "text/plain": [
              "(9988, 9)"
            ]
          },
          "metadata": {
            "tags": []
          },
          "execution_count": 159
        }
      ]
    },
    {
      "cell_type": "code",
      "metadata": {
        "colab": {
          "base_uri": "https://localhost:8080/"
        },
        "id": "vg1Yi0vLuDrf",
        "outputId": "e9246940-68f3-4fb0-fb4c-285d47c7dc24"
      },
      "source": [
        "df.shape"
      ],
      "execution_count": 52,
      "outputs": [
        {
          "output_type": "execute_result",
          "data": {
            "text/plain": [
              "(9988, 9)"
            ]
          },
          "metadata": {
            "tags": []
          },
          "execution_count": 52
        }
      ]
    },
    {
      "cell_type": "markdown",
      "metadata": {
        "id": "Yw0OkOBvwrmT"
      },
      "source": [
        "Artinya kita memiliki data dengan 9 kolom dan 9988 baris"
      ]
    },
    {
      "cell_type": "markdown",
      "metadata": {
        "id": "FKZEipRvu9H1"
      },
      "source": [
        "### Variabel Pada Dataset"
      ]
    },
    {
      "cell_type": "code",
      "metadata": {
        "colab": {
          "base_uri": "https://localhost:8080/"
        },
        "id": "1lFgrHL6vAbR",
        "outputId": "31447624-d534-4f5a-bbe3-dee5d48dede1"
      },
      "source": [
        "df.columns.values "
      ],
      "execution_count": null,
      "outputs": [
        {
          "output_type": "execute_result",
          "data": {
            "text/plain": [
              "array(['order_id', 'order_date', 'customer_id', 'segment', 'category',\n",
              "       'sub_category', 'sales', 'quantity', 'profit'], dtype=object)"
            ]
          },
          "metadata": {
            "tags": []
          },
          "execution_count": 160
        }
      ]
    },
    {
      "cell_type": "code",
      "metadata": {
        "colab": {
          "base_uri": "https://localhost:8080/"
        },
        "id": "TS09roLNuIA6",
        "outputId": "83174522-2195-4fbb-d082-42fcb488de0a"
      },
      "source": [
        "df.columns.values"
      ],
      "execution_count": 53,
      "outputs": [
        {
          "output_type": "execute_result",
          "data": {
            "text/plain": [
              "array(['order_id', 'order_date', 'customer_id', 'segment', 'category',\n",
              "       'sub_category', 'sales', 'quantity', 'profit'], dtype=object)"
            ]
          },
          "metadata": {
            "tags": []
          },
          "execution_count": 53
        }
      ]
    },
    {
      "cell_type": "code",
      "metadata": {
        "colab": {
          "base_uri": "https://localhost:8080/"
        },
        "id": "o0HNCb-svR3l",
        "outputId": "a13c342c-5c88-4672-810d-876d5c96353b"
      },
      "source": [
        "df.dtypes"
      ],
      "execution_count": null,
      "outputs": [
        {
          "output_type": "execute_result",
          "data": {
            "text/plain": [
              "order_id         object\n",
              "order_date       object\n",
              "customer_id      object\n",
              "segment          object\n",
              "category         object\n",
              "sub_category     object\n",
              "sales           float64\n",
              "quantity          int64\n",
              "profit          float64\n",
              "dtype: object"
            ]
          },
          "metadata": {
            "tags": []
          },
          "execution_count": 161
        }
      ]
    },
    {
      "cell_type": "code",
      "metadata": {
        "colab": {
          "base_uri": "https://localhost:8080/"
        },
        "id": "QStw0rzxuRTa",
        "outputId": "9dae178d-deab-4daf-8458-d65d7b4f9f67"
      },
      "source": [
        "df.dtypes"
      ],
      "execution_count": 54,
      "outputs": [
        {
          "output_type": "execute_result",
          "data": {
            "text/plain": [
              "order_id        object\n",
              "order_date      object\n",
              "customer_id     object\n",
              "segment         object\n",
              "category        object\n",
              "sub_category    object\n",
              "sales            int64\n",
              "quantity         int64\n",
              "profit           int64\n",
              "dtype: object"
            ]
          },
          "metadata": {
            "tags": []
          },
          "execution_count": 54
        }
      ]
    },
    {
      "cell_type": "code",
      "metadata": {
        "colab": {
          "base_uri": "https://localhost:8080/"
        },
        "id": "0wekaCcvvNhd",
        "outputId": "6799756e-6854-4a40-95e0-6cb1270e9485"
      },
      "source": [
        "df.info() "
      ],
      "execution_count": null,
      "outputs": [
        {
          "output_type": "stream",
          "text": [
            "<class 'pandas.core.frame.DataFrame'>\n",
            "RangeIndex: 9988 entries, 0 to 9987\n",
            "Data columns (total 9 columns):\n",
            " #   Column        Non-Null Count  Dtype  \n",
            "---  ------        --------------  -----  \n",
            " 0   order_id      9988 non-null   object \n",
            " 1   order_date    9988 non-null   object \n",
            " 2   customer_id   9988 non-null   object \n",
            " 3   segment       9988 non-null   object \n",
            " 4   category      9988 non-null   object \n",
            " 5   sub_category  9988 non-null   object \n",
            " 6   sales         9988 non-null   float64\n",
            " 7   quantity      9988 non-null   int64  \n",
            " 8   profit        9988 non-null   float64\n",
            "dtypes: float64(2), int64(1), object(6)\n",
            "memory usage: 702.4+ KB\n"
          ],
          "name": "stdout"
        }
      ]
    },
    {
      "cell_type": "code",
      "metadata": {
        "colab": {
          "base_uri": "https://localhost:8080/"
        },
        "id": "BRMgJEYHuXCY",
        "outputId": "20543c7e-556b-41ff-d1f2-d839fcce1998"
      },
      "source": [
        "df.info() "
      ],
      "execution_count": 55,
      "outputs": [
        {
          "output_type": "stream",
          "text": [
            "<class 'pandas.core.frame.DataFrame'>\n",
            "RangeIndex: 9988 entries, 0 to 9987\n",
            "Data columns (total 9 columns):\n",
            " #   Column        Non-Null Count  Dtype \n",
            "---  ------        --------------  ----- \n",
            " 0   order_id      9988 non-null   object\n",
            " 1   order_date    9988 non-null   object\n",
            " 2   customer_id   9988 non-null   object\n",
            " 3   segment       9988 non-null   object\n",
            " 4   category      9988 non-null   object\n",
            " 5   sub_category  9988 non-null   object\n",
            " 6   sales         9988 non-null   int64 \n",
            " 7   quantity      9988 non-null   int64 \n",
            " 8   profit        9988 non-null   int64 \n",
            "dtypes: int64(3), object(6)\n",
            "memory usage: 702.4+ KB\n"
          ],
          "name": "stdout"
        }
      ]
    },
    {
      "cell_type": "markdown",
      "metadata": {
        "id": "bvLXfrx5wzYJ"
      },
      "source": [
        "Kita dapat mengetahui tipe-tipe data masing-masing variabel dan nama-nama variabel dalam dataset"
      ]
    },
    {
      "cell_type": "markdown",
      "metadata": {
        "id": "HR7edLbMvlzc"
      },
      "source": [
        "### Mengecek Missing Data"
      ]
    },
    {
      "cell_type": "code",
      "metadata": {
        "colab": {
          "base_uri": "https://localhost:8080/"
        },
        "id": "ZUglcu9Qvv5F",
        "outputId": "ce491c8f-d276-42a1-dd2f-0b2f9abedfed"
      },
      "source": [
        "df.isnull().sum()"
      ],
      "execution_count": null,
      "outputs": [
        {
          "output_type": "execute_result",
          "data": {
            "text/plain": [
              "order_id        0\n",
              "order_date      0\n",
              "customer_id     0\n",
              "segment         0\n",
              "category        0\n",
              "sub_category    0\n",
              "sales           0\n",
              "quantity        0\n",
              "profit          0\n",
              "dtype: int64"
            ]
          },
          "metadata": {
            "tags": []
          },
          "execution_count": 163
        }
      ]
    },
    {
      "cell_type": "code",
      "metadata": {
        "colab": {
          "base_uri": "https://localhost:8080/"
        },
        "id": "5lEDtca2uoMm",
        "outputId": "9383f64e-5e41-4f25-eb6a-cbd93305e8fd"
      },
      "source": [
        "df.isnull().sum()"
      ],
      "execution_count": 56,
      "outputs": [
        {
          "output_type": "execute_result",
          "data": {
            "text/plain": [
              "order_id        0\n",
              "order_date      0\n",
              "customer_id     0\n",
              "segment         0\n",
              "category        0\n",
              "sub_category    0\n",
              "sales           0\n",
              "quantity        0\n",
              "profit          0\n",
              "dtype: int64"
            ]
          },
          "metadata": {
            "tags": []
          },
          "execution_count": 56
        }
      ]
    },
    {
      "cell_type": "markdown",
      "metadata": {
        "id": "tp2TMCuhw-rK"
      },
      "source": [
        "Kolom-kolom dengan data kosong adalah: Age, Cabin, Embarked"
      ]
    },
    {
      "cell_type": "markdown",
      "metadata": {
        "id": "5jJs8eXh7ADf"
      },
      "source": [
        "### Melihat Statistik Data"
      ]
    },
    {
      "cell_type": "code",
      "metadata": {
        "colab": {
          "base_uri": "https://localhost:8080/",
          "height": 294
        },
        "id": "L-07vKAL7Cwn",
        "outputId": "edb21ae8-b37d-4cbd-ea28-4f24700a80b1"
      },
      "source": [
        "df.describe()"
      ],
      "execution_count": null,
      "outputs": [
        {
          "output_type": "execute_result",
          "data": {
            "text/html": [
              "<div>\n",
              "<style scoped>\n",
              "    .dataframe tbody tr th:only-of-type {\n",
              "        vertical-align: middle;\n",
              "    }\n",
              "\n",
              "    .dataframe tbody tr th {\n",
              "        vertical-align: top;\n",
              "    }\n",
              "\n",
              "    .dataframe thead th {\n",
              "        text-align: right;\n",
              "    }\n",
              "</style>\n",
              "<table border=\"1\" class=\"dataframe\">\n",
              "  <thead>\n",
              "    <tr style=\"text-align: right;\">\n",
              "      <th></th>\n",
              "      <th>sales</th>\n",
              "      <th>quantity</th>\n",
              "      <th>profit</th>\n",
              "    </tr>\n",
              "  </thead>\n",
              "  <tbody>\n",
              "    <tr>\n",
              "      <th>count</th>\n",
              "      <td>9988.000000</td>\n",
              "      <td>9988.000000</td>\n",
              "      <td>9988.000000</td>\n",
              "    </tr>\n",
              "    <tr>\n",
              "      <th>mean</th>\n",
              "      <td>221.952598</td>\n",
              "      <td>3.789147</td>\n",
              "      <td>27.105341</td>\n",
              "    </tr>\n",
              "    <tr>\n",
              "      <th>std</th>\n",
              "      <td>514.818043</td>\n",
              "      <td>2.225586</td>\n",
              "      <td>186.115016</td>\n",
              "    </tr>\n",
              "    <tr>\n",
              "      <th>min</th>\n",
              "      <td>0.444000</td>\n",
              "      <td>1.000000</td>\n",
              "      <td>-3839.990400</td>\n",
              "    </tr>\n",
              "    <tr>\n",
              "      <th>25%</th>\n",
              "      <td>17.248000</td>\n",
              "      <td>2.000000</td>\n",
              "      <td>1.730250</td>\n",
              "    </tr>\n",
              "    <tr>\n",
              "      <th>50%</th>\n",
              "      <td>54.376000</td>\n",
              "      <td>3.000000</td>\n",
              "      <td>8.652800</td>\n",
              "    </tr>\n",
              "    <tr>\n",
              "      <th>75%</th>\n",
              "      <td>209.814000</td>\n",
              "      <td>5.000000</td>\n",
              "      <td>29.345400</td>\n",
              "    </tr>\n",
              "    <tr>\n",
              "      <th>max</th>\n",
              "      <td>9892.740000</td>\n",
              "      <td>14.000000</td>\n",
              "      <td>4946.370000</td>\n",
              "    </tr>\n",
              "  </tbody>\n",
              "</table>\n",
              "</div>"
            ],
            "text/plain": [
              "             sales     quantity       profit\n",
              "count  9988.000000  9988.000000  9988.000000\n",
              "mean    221.952598     3.789147    27.105341\n",
              "std     514.818043     2.225586   186.115016\n",
              "min       0.444000     1.000000 -3839.990400\n",
              "25%      17.248000     2.000000     1.730250\n",
              "50%      54.376000     3.000000     8.652800\n",
              "75%     209.814000     5.000000    29.345400\n",
              "max    9892.740000    14.000000  4946.370000"
            ]
          },
          "metadata": {
            "tags": []
          },
          "execution_count": 164
        }
      ]
    },
    {
      "cell_type": "code",
      "metadata": {
        "colab": {
          "base_uri": "https://localhost:8080/",
          "height": 297
        },
        "id": "qudy1VSRusdF",
        "outputId": "21ff3b29-34a1-464a-d457-cd7ef1b6da42"
      },
      "source": [
        "df.describe()"
      ],
      "execution_count": 57,
      "outputs": [
        {
          "output_type": "execute_result",
          "data": {
            "text/html": [
              "<div>\n",
              "<style scoped>\n",
              "    .dataframe tbody tr th:only-of-type {\n",
              "        vertical-align: middle;\n",
              "    }\n",
              "\n",
              "    .dataframe tbody tr th {\n",
              "        vertical-align: top;\n",
              "    }\n",
              "\n",
              "    .dataframe thead th {\n",
              "        text-align: right;\n",
              "    }\n",
              "</style>\n",
              "<table border=\"1\" class=\"dataframe\">\n",
              "  <thead>\n",
              "    <tr style=\"text-align: right;\">\n",
              "      <th></th>\n",
              "      <th>sales</th>\n",
              "      <th>quantity</th>\n",
              "      <th>profit</th>\n",
              "    </tr>\n",
              "  </thead>\n",
              "  <tbody>\n",
              "    <tr>\n",
              "      <th>count</th>\n",
              "      <td>9.988000e+03</td>\n",
              "      <td>9988.000000</td>\n",
              "      <td>9.988000e+03</td>\n",
              "    </tr>\n",
              "    <tr>\n",
              "      <th>mean</th>\n",
              "      <td>1.110761e+05</td>\n",
              "      <td>3.789147</td>\n",
              "      <td>1.661381e+05</td>\n",
              "    </tr>\n",
              "    <tr>\n",
              "      <th>std</th>\n",
              "      <td>5.038903e+05</td>\n",
              "      <td>2.225586</td>\n",
              "      <td>1.438964e+06</td>\n",
              "    </tr>\n",
              "    <tr>\n",
              "      <th>min</th>\n",
              "      <td>3.000000e+00</td>\n",
              "      <td>1.000000</td>\n",
              "      <td>-3.839990e+07</td>\n",
              "    </tr>\n",
              "    <tr>\n",
              "      <th>25%</th>\n",
              "      <td>2.512000e+03</td>\n",
              "      <td>2.000000</td>\n",
              "      <td>2.245000e+03</td>\n",
              "    </tr>\n",
              "    <tr>\n",
              "      <th>50%</th>\n",
              "      <td>1.102150e+04</td>\n",
              "      <td>3.000000</td>\n",
              "      <td>3.629500e+04</td>\n",
              "    </tr>\n",
              "    <tr>\n",
              "      <th>75%</th>\n",
              "      <td>5.390700e+04</td>\n",
              "      <td>5.000000</td>\n",
              "      <td>1.509840e+05</td>\n",
              "    </tr>\n",
              "    <tr>\n",
              "      <th>max</th>\n",
              "      <td>2.396266e+07</td>\n",
              "      <td>14.000000</td>\n",
              "      <td>4.630476e+07</td>\n",
              "    </tr>\n",
              "  </tbody>\n",
              "</table>\n",
              "</div>"
            ],
            "text/plain": [
              "              sales     quantity        profit\n",
              "count  9.988000e+03  9988.000000  9.988000e+03\n",
              "mean   1.110761e+05     3.789147  1.661381e+05\n",
              "std    5.038903e+05     2.225586  1.438964e+06\n",
              "min    3.000000e+00     1.000000 -3.839990e+07\n",
              "25%    2.512000e+03     2.000000  2.245000e+03\n",
              "50%    1.102150e+04     3.000000  3.629500e+04\n",
              "75%    5.390700e+04     5.000000  1.509840e+05\n",
              "max    2.396266e+07    14.000000  4.630476e+07"
            ]
          },
          "metadata": {
            "tags": []
          },
          "execution_count": 57
        }
      ]
    },
    {
      "cell_type": "markdown",
      "metadata": {
        "id": "pzso5T2swz3u"
      },
      "source": [
        "## Eksploratory Data Analysis[EDA] Lanjut"
      ]
    },
    {
      "cell_type": "markdown",
      "metadata": {
        "id": "43apI-8Qw6cq"
      },
      "source": [
        "Setelah EDA dasar, eksplorasi selanjutnya adalah berupa pencarian insight sesuai kebutuhan kita. Misal kita ingin menjawab sebuah pertanyaan seperti berikut:\n",
        "\n",
        "***Segment Produk Apakah Yang memiliki Keuntungan Tertinggi?***"
      ]
    },
    {
      "cell_type": "code",
      "metadata": {
        "colab": {
          "base_uri": "https://localhost:8080/"
        },
        "id": "2oUlbASIyHs9",
        "outputId": "66559059-02d1-4463-ba1f-e260ce1cd1ea"
      },
      "source": [
        "#Melihat Segment Apa Saja Yang Ada\n",
        "df.segment.value_counts()"
      ],
      "execution_count": null,
      "outputs": [
        {
          "output_type": "execute_result",
          "data": {
            "text/plain": [
              "Consumer       5188\n",
              "Corporate      3019\n",
              "Home Office    1781\n",
              "Name: segment, dtype: int64"
            ]
          },
          "metadata": {
            "tags": []
          },
          "execution_count": 165
        }
      ]
    },
    {
      "cell_type": "code",
      "metadata": {
        "colab": {
          "base_uri": "https://localhost:8080/"
        },
        "id": "tzQN1RzDu_nF",
        "outputId": "3fc429ca-7c6b-440d-b91e-8b439d684dd7"
      },
      "source": [
        "df.category.value_counts()"
      ],
      "execution_count": 58,
      "outputs": [
        {
          "output_type": "execute_result",
          "data": {
            "text/plain": [
              "Office Supplies    6026\n",
              "Furniture          2121\n",
              "Technology         1841\n",
              "Name: category, dtype: int64"
            ]
          },
          "metadata": {
            "tags": []
          },
          "execution_count": 58
        }
      ]
    },
    {
      "cell_type": "code",
      "metadata": {
        "id": "gdPJu1LbTFtt"
      },
      "source": [
        "#Memilih masing-masing segmen\n",
        "df_Consumer=df[df['segment']=='Consumer']\n",
        "df_Corporate=df[df['segment']=='Corporate']\n",
        "df_Home_Office=df[df['segment']=='Home Office']"
      ],
      "execution_count": null,
      "outputs": []
    },
    {
      "cell_type": "code",
      "metadata": {
        "id": "U7eVwOGuvIAN"
      },
      "source": [
        "df_Office_Supplies=df[df['category']=='Office Supplies']\n",
        "df_Furniture=df[df['category']=='Furniture']\n",
        "df_Technology=df[df['category']=='Technology']"
      ],
      "execution_count": 60,
      "outputs": []
    },
    {
      "cell_type": "code",
      "metadata": {
        "colab": {
          "base_uri": "https://localhost:8080/"
        },
        "id": "xRa3rQqITVj0",
        "outputId": "eecbb2dc-b6f1-4546-ff5f-2e42417bf694"
      },
      "source": [
        "df_Consumer.profit.sum()"
      ],
      "execution_count": null,
      "outputs": [
        {
          "output_type": "execute_result",
          "data": {
            "text/plain": [
              "128959.22080000001"
            ]
          },
          "metadata": {
            "tags": []
          },
          "execution_count": 167
        }
      ]
    },
    {
      "cell_type": "code",
      "metadata": {
        "colab": {
          "base_uri": "https://localhost:8080/"
        },
        "id": "-qbdkVm5p6rp",
        "outputId": "b1a9e3a7-3958-4c05-9c11-91cd3e13685a"
      },
      "source": [
        "df_Corporate.profit.sum()"
      ],
      "execution_count": null,
      "outputs": [
        {
          "output_type": "execute_result",
          "data": {
            "text/plain": [
              "83579.158"
            ]
          },
          "metadata": {
            "tags": []
          },
          "execution_count": 168
        }
      ]
    },
    {
      "cell_type": "code",
      "metadata": {
        "colab": {
          "base_uri": "https://localhost:8080/"
        },
        "id": "8TqVrYBrzTey",
        "outputId": "0dd90d6d-282d-4c9b-89ed-cdaab42c9df9"
      },
      "source": [
        "df_Home_Office.profit.sum()"
      ],
      "execution_count": null,
      "outputs": [
        {
          "output_type": "execute_result",
          "data": {
            "text/plain": [
              "58189.7681"
            ]
          },
          "metadata": {
            "tags": []
          },
          "execution_count": 169
        }
      ]
    },
    {
      "cell_type": "code",
      "metadata": {
        "colab": {
          "base_uri": "https://localhost:8080/"
        },
        "id": "WUixEkuFwnMn",
        "outputId": "2502218b-81a3-46f9-8681-f7687b212711"
      },
      "source": [
        "df_Office_Supplies.profit.sum()"
      ],
      "execution_count": 63,
      "outputs": [
        {
          "output_type": "execute_result",
          "data": {
            "text/plain": [
              "775994074"
            ]
          },
          "metadata": {
            "tags": []
          },
          "execution_count": 63
        }
      ]
    },
    {
      "cell_type": "code",
      "metadata": {
        "colab": {
          "base_uri": "https://localhost:8080/"
        },
        "id": "8id3QRThwnkI",
        "outputId": "57cd3ff1-980c-4c0f-fc03-889c503f5afe"
      },
      "source": [
        "df_Furniture.profit.sum()"
      ],
      "execution_count": 64,
      "outputs": [
        {
          "output_type": "execute_result",
          "data": {
            "text/plain": [
              "59222369"
            ]
          },
          "metadata": {
            "tags": []
          },
          "execution_count": 64
        }
      ]
    },
    {
      "cell_type": "code",
      "metadata": {
        "colab": {
          "base_uri": "https://localhost:8080/"
        },
        "id": "QqFAkPvRwn8n",
        "outputId": "8150881b-bcce-43f3-bcd9-9807be7d79bb"
      },
      "source": [
        "df_Technology.profit.sum()"
      ],
      "execution_count": 65,
      "outputs": [
        {
          "output_type": "execute_result",
          "data": {
            "text/plain": [
              "824171329"
            ]
          },
          "metadata": {
            "tags": []
          },
          "execution_count": 65
        }
      ]
    },
    {
      "cell_type": "markdown",
      "metadata": {
        "id": "IapQvID7zX2v"
      },
      "source": [
        "Jadi, segmen dengan keuntungan total tertinggi adalah **Consumer**"
      ]
    },
    {
      "cell_type": "markdown",
      "metadata": {
        "id": "vSNdtPiXw9N9"
      },
      "source": [
        "Jadi, category dengan keuntungan total tertinggi adalah **Technology**"
      ]
    }
  ]
}